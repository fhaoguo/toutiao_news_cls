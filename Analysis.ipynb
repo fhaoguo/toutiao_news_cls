{
 "cells": [
  {
   "cell_type": "code",
   "execution_count": 1,
   "metadata": {},
   "outputs": [],
   "source": [
    "import pandas as pd"
   ]
  },
  {
   "cell_type": "code",
   "execution_count": 2,
   "metadata": {},
   "outputs": [
    {
     "name": "stdout",
     "output_type": "stream",
     "text": [
      "solution.csv test.csv     train.csv\r\n"
     ]
    }
   ],
   "source": [
    "!ls ../../data/toutiao_news_cls"
   ]
  },
  {
   "cell_type": "code",
   "execution_count": 3,
   "metadata": {},
   "outputs": [],
   "source": [
    "content = pd.read_csv('../../data/toutiao_news_cls/train.csv')"
   ]
  },
  {
   "cell_type": "code",
   "execution_count": 4,
   "metadata": {},
   "outputs": [
    {
     "data": {
      "text/plain": "53360"
     },
     "execution_count": 4,
     "metadata": {},
     "output_type": "execute_result"
    }
   ],
   "source": [
    "len(content)"
   ]
  },
  {
   "cell_type": "code",
   "execution_count": 5,
   "metadata": {},
   "outputs": [
    {
     "data": {
      "text/plain": "   id  label    label_desc                                        sentence\n0   0    108      news_edu    上课时学生手机响个不停，老师一怒之下把手机摔了，家长拿发票让老师赔，大家怎么看待这种事？\n1   1    104  news_finance  商赢环球股份有限公司关于延期回复上海证券交易所对公司2017年年度报告的事后审核问询函的公告\n2   2    106    news_house                通过中介公司买了二手房，首付都付了，现在卖家不想卖了。怎么处理？\n3   3    112   news_travel                             2018年去俄罗斯看世界杯得花多少钱？\n4   4    109     news_tech                           剃须刀的个性革新，雷明登天猫定制版新品首发",
      "text/html": "<div>\n<style scoped>\n    .dataframe tbody tr th:only-of-type {\n        vertical-align: middle;\n    }\n\n    .dataframe tbody tr th {\n        vertical-align: top;\n    }\n\n    .dataframe thead th {\n        text-align: right;\n    }\n</style>\n<table border=\"1\" class=\"dataframe\">\n  <thead>\n    <tr style=\"text-align: right;\">\n      <th></th>\n      <th>id</th>\n      <th>label</th>\n      <th>label_desc</th>\n      <th>sentence</th>\n    </tr>\n  </thead>\n  <tbody>\n    <tr>\n      <th>0</th>\n      <td>0</td>\n      <td>108</td>\n      <td>news_edu</td>\n      <td>上课时学生手机响个不停，老师一怒之下把手机摔了，家长拿发票让老师赔，大家怎么看待这种事？</td>\n    </tr>\n    <tr>\n      <th>1</th>\n      <td>1</td>\n      <td>104</td>\n      <td>news_finance</td>\n      <td>商赢环球股份有限公司关于延期回复上海证券交易所对公司2017年年度报告的事后审核问询函的公告</td>\n    </tr>\n    <tr>\n      <th>2</th>\n      <td>2</td>\n      <td>106</td>\n      <td>news_house</td>\n      <td>通过中介公司买了二手房，首付都付了，现在卖家不想卖了。怎么处理？</td>\n    </tr>\n    <tr>\n      <th>3</th>\n      <td>3</td>\n      <td>112</td>\n      <td>news_travel</td>\n      <td>2018年去俄罗斯看世界杯得花多少钱？</td>\n    </tr>\n    <tr>\n      <th>4</th>\n      <td>4</td>\n      <td>109</td>\n      <td>news_tech</td>\n      <td>剃须刀的个性革新，雷明登天猫定制版新品首发</td>\n    </tr>\n  </tbody>\n</table>\n</div>"
     },
     "execution_count": 5,
     "metadata": {},
     "output_type": "execute_result"
    }
   ],
   "source": [
    "content.head()"
   ]
  },
  {
   "cell_type": "code",
   "execution_count": 11,
   "metadata": {},
   "outputs": [],
   "source": [
    "# from collections import defaultdict"
   ]
  },
  {
   "cell_type": "code",
   "execution_count": 6,
   "metadata": {},
   "outputs": [],
   "source": [
    "from collections import Counter"
   ]
  },
  {
   "cell_type": "code",
   "execution_count": 7,
   "metadata": {},
   "outputs": [],
   "source": [
    "id_counter = Counter(content.label.values)"
   ]
  },
  {
   "cell_type": "code",
   "execution_count": 8,
   "metadata": {},
   "outputs": [
    {
     "data": {
      "text/plain": "15"
     },
     "execution_count": 8,
     "metadata": {},
     "output_type": "execute_result"
    }
   ],
   "source": [
    "len(id_counter)"
   ]
  },
  {
   "cell_type": "code",
   "execution_count": 11,
   "metadata": {},
   "outputs": [
    {
     "data": {
      "text/plain": "Counter({108: 3437,\n         104: 5200,\n         106: 2107,\n         112: 3368,\n         109: 5955,\n         103: 3991,\n         116: 3390,\n         101: 4081,\n         107: 4118,\n         100: 1111,\n         102: 4976,\n         110: 3632,\n         115: 2886,\n         113: 4851,\n         114: 257})"
     },
     "execution_count": 11,
     "metadata": {},
     "output_type": "execute_result"
    }
   ],
   "source": [
    "id_counter"
   ]
  },
  {
   "cell_type": "code",
   "execution_count": 10,
   "outputs": [
    {
     "name": "stdout",
     "output_type": "stream",
     "text": [
      "108 6.441154422788606 %\n",
      "104 9.745127436281859 %\n",
      "106 3.948650674662669 %\n",
      "112 6.31184407796102 %\n",
      "109 11.160044977511244 %\n",
      "103 7.479385307346327 %\n",
      "116 6.353073463268366 %\n",
      "101 7.648050974512744 %\n",
      "107 7.717391304347826 %\n",
      "100 2.0820839580209896 %\n",
      "102 9.325337331334332 %\n",
      "110 6.806596701649176 %\n",
      "115 5.408545727136431 %\n",
      "113 9.091079460269864 %\n",
      "114 0.48163418290854576 %\n"
     ]
    }
   ],
   "source": [
    "for _id, value in id_counter.items():\n",
    "    print(_id, value / len(content) * 100, '%')"
   ],
   "metadata": {
    "collapsed": false,
    "pycharm": {
     "name": "#%%\n"
    }
   }
  },
  {
   "cell_type": "markdown",
   "metadata": {},
   "source": [
    "15分类的问题，Model 是work的，请问。你model在测试集上，准确度，最起码需要时多少？"
   ]
  },
  {
   "cell_type": "code",
   "execution_count": 12,
   "metadata": {},
   "outputs": [
    {
     "data": {
      "text/plain": "          id  label label_desc                                  sentence\n4          4    109  news_tech                     剃须刀的个性革新，雷明登天猫定制版新品首发\n6          6    109  news_tech           三农盾SACC-全球首个推出：互联网+区块链+农产品的电商平台\n10        10    109  news_tech                    凌云研发的国产两轮电动车怎么样，有什么惊喜？\n33        33    109  news_tech                           小白如何做好自媒体的几个信念？\n44        44    109  news_tech               听说最近联通搅乱了北京宽带市场价格，比小运营商的还低？\n...      ...    ...        ...                                       ...\n53316  53316    109  news_tech                      微软亚研院洪小文：今天的AI只是一个黑盒\n53323  53323    109  news_tech                分辨OPPO真假，只需输入几个代码，就知道手机是真假\n53330  53330    109  news_tech               小米估值连遭下调：最低至600亿美元，较早期削减近4成\n53339  53339    109  news_tech                               宝贝钱袋成就您的创业梦\n53351  53351    109  news_tech  NBA直播权被腾讯买断了，那么CCTV5直播的NBA比赛，是不是也要付钱给腾讯？\n\n[5955 rows x 4 columns]",
      "text/html": "<div>\n<style scoped>\n    .dataframe tbody tr th:only-of-type {\n        vertical-align: middle;\n    }\n\n    .dataframe tbody tr th {\n        vertical-align: top;\n    }\n\n    .dataframe thead th {\n        text-align: right;\n    }\n</style>\n<table border=\"1\" class=\"dataframe\">\n  <thead>\n    <tr style=\"text-align: right;\">\n      <th></th>\n      <th>id</th>\n      <th>label</th>\n      <th>label_desc</th>\n      <th>sentence</th>\n    </tr>\n  </thead>\n  <tbody>\n    <tr>\n      <th>4</th>\n      <td>4</td>\n      <td>109</td>\n      <td>news_tech</td>\n      <td>剃须刀的个性革新，雷明登天猫定制版新品首发</td>\n    </tr>\n    <tr>\n      <th>6</th>\n      <td>6</td>\n      <td>109</td>\n      <td>news_tech</td>\n      <td>三农盾SACC-全球首个推出：互联网+区块链+农产品的电商平台</td>\n    </tr>\n    <tr>\n      <th>10</th>\n      <td>10</td>\n      <td>109</td>\n      <td>news_tech</td>\n      <td>凌云研发的国产两轮电动车怎么样，有什么惊喜？</td>\n    </tr>\n    <tr>\n      <th>33</th>\n      <td>33</td>\n      <td>109</td>\n      <td>news_tech</td>\n      <td>小白如何做好自媒体的几个信念？</td>\n    </tr>\n    <tr>\n      <th>44</th>\n      <td>44</td>\n      <td>109</td>\n      <td>news_tech</td>\n      <td>听说最近联通搅乱了北京宽带市场价格，比小运营商的还低？</td>\n    </tr>\n    <tr>\n      <th>...</th>\n      <td>...</td>\n      <td>...</td>\n      <td>...</td>\n      <td>...</td>\n    </tr>\n    <tr>\n      <th>53316</th>\n      <td>53316</td>\n      <td>109</td>\n      <td>news_tech</td>\n      <td>微软亚研院洪小文：今天的AI只是一个黑盒</td>\n    </tr>\n    <tr>\n      <th>53323</th>\n      <td>53323</td>\n      <td>109</td>\n      <td>news_tech</td>\n      <td>分辨OPPO真假，只需输入几个代码，就知道手机是真假</td>\n    </tr>\n    <tr>\n      <th>53330</th>\n      <td>53330</td>\n      <td>109</td>\n      <td>news_tech</td>\n      <td>小米估值连遭下调：最低至600亿美元，较早期削减近4成</td>\n    </tr>\n    <tr>\n      <th>53339</th>\n      <td>53339</td>\n      <td>109</td>\n      <td>news_tech</td>\n      <td>宝贝钱袋成就您的创业梦</td>\n    </tr>\n    <tr>\n      <th>53351</th>\n      <td>53351</td>\n      <td>109</td>\n      <td>news_tech</td>\n      <td>NBA直播权被腾讯买断了，那么CCTV5直播的NBA比赛，是不是也要付钱给腾讯？</td>\n    </tr>\n  </tbody>\n</table>\n<p>5955 rows × 4 columns</p>\n</div>"
     },
     "execution_count": 12,
     "metadata": {},
     "output_type": "execute_result"
    }
   ],
   "source": [
    "content[content['label'] == 109]"
   ]
  },
  {
   "cell_type": "code",
   "execution_count": 13,
   "metadata": {},
   "outputs": [],
   "source": [
    "content['sentence_len'] = content['sentence'].apply(len)"
   ]
  },
  {
   "cell_type": "code",
   "execution_count": 14,
   "metadata": {},
   "outputs": [],
   "source": [
    "import matplotlib.pyplot as plt"
   ]
  },
  {
   "cell_type": "code",
   "execution_count": 15,
   "metadata": {},
   "outputs": [],
   "source": [
    "import numpy as np"
   ]
  },
  {
   "cell_type": "code",
   "execution_count": 16,
   "metadata": {},
   "outputs": [
    {
     "data": {
      "text/plain": "145"
     },
     "execution_count": 16,
     "metadata": {},
     "output_type": "execute_result"
    }
   ],
   "source": [
    "np.max(content['sentence_len'])"
   ]
  },
  {
   "cell_type": "code",
   "execution_count": 17,
   "metadata": {},
   "outputs": [
    {
     "data": {
      "text/plain": "22.13124062968516"
     },
     "execution_count": 17,
     "metadata": {},
     "output_type": "execute_result"
    }
   ],
   "source": [
    "np.mean(content['sentence_len'])"
   ]
  },
  {
   "cell_type": "code",
   "execution_count": 18,
   "metadata": {},
   "outputs": [
    {
     "data": {
      "text/plain": "7.3097918579505325"
     },
     "execution_count": 18,
     "metadata": {},
     "output_type": "execute_result"
    }
   ],
   "source": [
    "np.std(content['sentence_len'])"
   ]
  },
  {
   "cell_type": "code",
   "execution_count": 20,
   "outputs": [
    {
     "data": {
      "text/plain": "(array([    2,     3,     4, ..., 53357, 53358, 53359]),)"
     },
     "execution_count": 20,
     "metadata": {},
     "output_type": "execute_result"
    }
   ],
   "source": [
    "np.where(content['sentence_len'] < 22 + 7.3 * 1.5)"
   ],
   "metadata": {
    "collapsed": false,
    "pycharm": {
     "name": "#%%\n"
    }
   }
  },
  {
   "cell_type": "code",
   "execution_count": 21,
   "outputs": [
    {
     "data": {
      "text/plain": "array([    2,     3,     4, ..., 53357, 53358, 53359])"
     },
     "execution_count": 21,
     "metadata": {},
     "output_type": "execute_result"
    }
   ],
   "source": [
    "np.where(content['sentence_len'] < 22 + 7.3 * 1.5)[0]"
   ],
   "metadata": {
    "collapsed": false,
    "pycharm": {
     "name": "#%%\n"
    }
   }
  },
  {
   "cell_type": "code",
   "execution_count": 19,
   "outputs": [
    {
     "data": {
      "text/plain": "0.9512368815592204"
     },
     "execution_count": 19,
     "metadata": {},
     "output_type": "execute_result"
    }
   ],
   "source": [
    "len(np.where(content['sentence_len'] < 22 + 7.3 * 1.5)[0]) / len(content)"
   ],
   "metadata": {
    "collapsed": false,
    "pycharm": {
     "name": "#%%\n"
    }
   }
  },
  {
   "cell_type": "code",
   "execution_count": 22,
   "metadata": {},
   "outputs": [
    {
     "data": {
      "text/plain": "(array([2.200e+01, 6.210e+02, 2.313e+03, 4.475e+03, 5.769e+03, 6.698e+03,\n        6.917e+03, 4.824e+03, 7.290e+03, 9.416e+03, 2.974e+03, 9.350e+02,\n        5.870e+02, 3.000e+02, 1.140e+02, 4.600e+01, 3.500e+01, 1.000e+01,\n        6.000e+00, 5.000e+00, 1.000e+00, 0.000e+00, 0.000e+00, 0.000e+00,\n        0.000e+00, 0.000e+00, 0.000e+00, 0.000e+00, 0.000e+00, 0.000e+00,\n        0.000e+00, 0.000e+00, 0.000e+00, 1.000e+00, 0.000e+00, 0.000e+00,\n        0.000e+00, 0.000e+00, 0.000e+00, 0.000e+00, 0.000e+00, 0.000e+00,\n        0.000e+00, 0.000e+00, 0.000e+00, 0.000e+00, 0.000e+00, 0.000e+00,\n        0.000e+00, 1.000e+00]),\n array([  2.  ,   4.86,   7.72,  10.58,  13.44,  16.3 ,  19.16,  22.02,\n         24.88,  27.74,  30.6 ,  33.46,  36.32,  39.18,  42.04,  44.9 ,\n         47.76,  50.62,  53.48,  56.34,  59.2 ,  62.06,  64.92,  67.78,\n         70.64,  73.5 ,  76.36,  79.22,  82.08,  84.94,  87.8 ,  90.66,\n         93.52,  96.38,  99.24, 102.1 , 104.96, 107.82, 110.68, 113.54,\n        116.4 , 119.26, 122.12, 124.98, 127.84, 130.7 , 133.56, 136.42,\n        139.28, 142.14, 145.  ]),\n <BarContainer object of 50 artists>)"
     },
     "execution_count": 22,
     "metadata": {},
     "output_type": "execute_result"
    },
    {
     "data": {
      "text/plain": "<Figure size 432x288 with 1 Axes>",
      "image/png": "[encoded data removed]"
     },
     "metadata": {
      "needs_background": "light"
     },
     "output_type": "display_data"
    }
   ],
   "source": [
    "plt.hist(content['sentence_len'], bins=50)"
   ]
  },
  {
   "cell_type": "markdown",
   "metadata": {},
   "source": [
    "## 我们为什么要关注这个长度呢？ "
   ]
  },
  {
   "cell_type": "markdown",
   "metadata": {},
   "source": [
    "### model -> x 向量化 \n",
    "### 加速计划：[t1x, t2x, ... tNx] x向量的长度就一定得一样\n",
    "### 极端情况：所有的长度就按照最短那个文章来\n",
    "###  如何我们把所有的x向量的长度按照最长的长度来，会引发什么问题？"
   ]
  },
  {
   "cell_type": "markdown",
   "metadata": {},
   "source": [
    "w *  x + b => 参数特别多 => 过拟合就会变严重！！！！"
   ]
  },
  {
   "cell_type": "code",
   "execution_count": 23,
   "metadata": {},
   "outputs": [],
   "source": [
    "import jieba"
   ]
  },
  {
   "cell_type": "code",
   "execution_count": 24,
   "metadata": {},
   "outputs": [],
   "source": [
    "def cut(string): return list(jieba.cut(string))"
   ]
  },
  {
   "cell_type": "code",
   "execution_count": 25,
   "metadata": {},
   "outputs": [
    {
     "name": "stderr",
     "output_type": "stream",
     "text": [
      "Building prefix dict from the default dictionary ...\n",
      "Dumping model to file cache /var/folders/19/dgxwsbgd76728hx577833nx00000gn/T/jieba.cache\n",
      "Loading model cost 1.150 seconds.\n",
      "Prefix dict has been built successfully.\n"
     ]
    }
   ],
   "source": [
    "content['words'] = content['sentence'].apply(lambda s: ' '.join(cut(s)))"
   ]
  },
  {
   "cell_type": "code",
   "execution_count": 26,
   "metadata": {},
   "outputs": [],
   "source": [
    "content['words_len'] = content['words'].apply(lambda s: len(s.split()))"
   ]
  },
  {
   "cell_type": "code",
   "execution_count": 27,
   "metadata": {},
   "outputs": [],
   "source": [
    "words_len = content['words_len']"
   ]
  },
  {
   "cell_type": "code",
   "execution_count": 28,
   "metadata": {},
   "outputs": [
    {
     "data": {
      "text/plain": "12.76617316341829"
     },
     "execution_count": 28,
     "metadata": {},
     "output_type": "execute_result"
    }
   ],
   "source": [
    "np.mean(words_len)"
   ]
  },
  {
   "cell_type": "code",
   "execution_count": 29,
   "metadata": {},
   "outputs": [
    {
     "data": {
      "text/plain": "4.533920842261766"
     },
     "execution_count": 29,
     "metadata": {},
     "output_type": "execute_result"
    }
   ],
   "source": [
    "np.std(words_len)"
   ]
  },
  {
   "cell_type": "code",
   "execution_count": 30,
   "metadata": {},
   "outputs": [
    {
     "data": {
      "text/plain": "81"
     },
     "execution_count": 30,
     "metadata": {},
     "output_type": "execute_result"
    }
   ],
   "source": [
    "np.max(words_len)"
   ]
  },
  {
   "cell_type": "code",
   "execution_count": 31,
   "metadata": {},
   "outputs": [
    {
     "data": {
      "text/plain": "0.9625187406296851"
     },
     "execution_count": 31,
     "metadata": {},
     "output_type": "execute_result"
    }
   ],
   "source": [
    "len(np.where(words_len <= 20)[0]) / len(content)"
   ]
  },
  {
   "cell_type": "code",
   "execution_count": 32,
   "metadata": {},
   "outputs": [
    {
     "data": {
      "text/plain": "(array([5.200e+01, 9.590e+02, 1.305e+03, 4.840e+03, 3.254e+03, 7.498e+03,\n        8.194e+03, 3.936e+03, 7.620e+03, 3.794e+03, 6.459e+03, 3.449e+03,\n        7.860e+02, 6.690e+02, 1.700e+02, 2.520e+02, 7.400e+01, 1.400e+01,\n        2.500e+01, 3.000e+00, 3.000e+00, 1.000e+00, 1.000e+00, 0.000e+00,\n        0.000e+00, 0.000e+00, 0.000e+00, 0.000e+00, 0.000e+00, 0.000e+00,\n        0.000e+00, 0.000e+00, 0.000e+00, 1.000e+00, 0.000e+00, 0.000e+00,\n        0.000e+00, 0.000e+00, 0.000e+00, 0.000e+00, 0.000e+00, 0.000e+00,\n        0.000e+00, 0.000e+00, 0.000e+00, 0.000e+00, 0.000e+00, 0.000e+00,\n        0.000e+00, 1.000e+00]),\n array([ 1. ,  2.6,  4.2,  5.8,  7.4,  9. , 10.6, 12.2, 13.8, 15.4, 17. ,\n        18.6, 20.2, 21.8, 23.4, 25. , 26.6, 28.2, 29.8, 31.4, 33. , 34.6,\n        36.2, 37.8, 39.4, 41. , 42.6, 44.2, 45.8, 47.4, 49. , 50.6, 52.2,\n        53.8, 55.4, 57. , 58.6, 60.2, 61.8, 63.4, 65. , 66.6, 68.2, 69.8,\n        71.4, 73. , 74.6, 76.2, 77.8, 79.4, 81. ]),\n <BarContainer object of 50 artists>)"
     },
     "execution_count": 32,
     "metadata": {},
     "output_type": "execute_result"
    },
    {
     "data": {
      "text/plain": "<Figure size 432x288 with 1 Axes>",
      "image/png": "[encoded data removed]"
     },
     "metadata": {
      "needs_background": "light"
     },
     "output_type": "display_data"
    }
   ],
   "source": [
    "plt.hist(content['words_len'], bins=50)"
   ]
  },
  {
   "cell_type": "code",
   "execution_count": 33,
   "metadata": {},
   "outputs": [],
   "source": [
    "content['words_keep'] = content['words'].apply(lambda s: ' '.join(s.split()[:20]))"
   ]
  },
  {
   "cell_type": "code",
   "execution_count": 34,
   "metadata": {},
   "outputs": [],
   "source": [
    "content.to_csv('train_after_analysis.csv')"
   ]
  },
  {
   "cell_type": "code",
   "execution_count": 35,
   "metadata": {},
   "outputs": [],
   "source": [
    "from functools import reduce"
   ]
  },
  {
   "cell_type": "code",
   "execution_count": 36,
   "metadata": {},
   "outputs": [],
   "source": [
    "sentences = content['words_keep'].tolist()"
   ]
  },
  {
   "cell_type": "code",
   "execution_count": 37,
   "metadata": {},
   "outputs": [],
   "source": [
    "sentences = list(map(lambda s: s.split(), sentences))"
   ]
  },
  {
   "cell_type": "code",
   "execution_count": 38,
   "outputs": [
    {
     "data": {
      "text/plain": "[['上课时',\n  '学生',\n  '手机',\n  '响个',\n  '不停',\n  '，',\n  '老师',\n  '一怒之下',\n  '把',\n  '手机',\n  '摔',\n  '了',\n  '，',\n  '家长',\n  '拿',\n  '发票',\n  '让',\n  '老师',\n  '赔',\n  '，'],\n ['商赢',\n  '环球',\n  '股份',\n  '有限公司',\n  '关于',\n  '延期',\n  '回复',\n  '上海证券交易所',\n  '对',\n  '公司',\n  '2017',\n  '年',\n  '年度报告',\n  '的',\n  '事后',\n  '审核',\n  '问询',\n  '函',\n  '的',\n  '公告'],\n ['通过',\n  '中介',\n  '公司',\n  '买',\n  '了',\n  '二手房',\n  '，',\n  '首付',\n  '都',\n  '付',\n  '了',\n  '，',\n  '现在',\n  '卖家',\n  '不想',\n  '卖',\n  '了',\n  '。',\n  '怎么',\n  '处理'],\n ['2018', '年', '去', '俄罗斯', '看', '世界杯', '得花', '多少', '钱', '？'],\n ['剃须刀', '的', '个性', '革新', '，', '雷明登', '天猫', '定制', '版', '新品', '首发'],\n ['再次',\n  '证明',\n  '了',\n  '“',\n  '无敌',\n  '是',\n  '多么',\n  '寂寞',\n  '”',\n  '—',\n  '—',\n  '逆天',\n  '的',\n  '中国乒乓球队',\n  '！'],\n ['三农',\n  '盾',\n  'SACC',\n  '-',\n  '全球',\n  '首个',\n  '推出',\n  '：',\n  '互联网',\n  '+',\n  '区块',\n  '链',\n  '+',\n  '农产品',\n  '的',\n  '电商',\n  '平台'],\n ['重做', 'or', '新', '英雄', '？', '其实', '重做', '对', '暴雪', '来说', '同样', '重要'],\n ['如何', '在', '商业活动', '中不受', '人', '欺骗', '？'],\n ['87',\n  '版',\n  '红楼梦',\n  '最',\n  '温柔',\n  '的',\n  '四个',\n  '丫鬟',\n  '，',\n  '娶',\n  '谁',\n  '都',\n  '是',\n  '一生',\n  '的',\n  '福气'],\n ['凌云', '研发', '的', '国产', '两轮', '电动车', '怎么样', '，', '有', '什么', '惊喜', '？'],\n ['房地产', '税', '迟迟', '无法', '出台', '？', '央行', '研究', '局局长', '徐忠', '这样', '说'],\n ['我',\n  '四千',\n  '一个月',\n  '，',\n  '老婆',\n  '一千五',\n  '一个月',\n  '，',\n  '存款',\n  '八万',\n  '且',\n  '有',\n  '两',\n  '小孩',\n  '，',\n  '是',\n  '先',\n  '买房',\n  '还是',\n  '先买'],\n ['“', '产地', '办展', '”', '模式', '为', '“', '东莞', '制造', '”', '送', '创新', '情报'],\n ['全国', '首个', '央地', '融合', '平台', '在', '沪', '落地'],\n ['故事', '：', '刘', '主任', '建', '猪场'],\n ['什么', '是', '人情', '，', '什么', '是', '世故', '？'],\n ['「',\n  '关注',\n  '」',\n  '网络',\n  '自',\n  '媒体',\n  '不是',\n  '“',\n  '法外',\n  '之',\n  '地',\n  '”',\n  '，',\n  '以谣',\n  '博名',\n  '、',\n  '以谣',\n  '博利',\n  '将',\n  '被'],\n ['古代',\n  '先进',\n  '文明',\n  '的',\n  '证据',\n  '！',\n  '这是',\n  '历史',\n  '上',\n  '最',\n  '著名',\n  '的',\n  '10',\n  '把',\n  '剑'],\n ['加快', '产城', '融合', '以', '科技', '创新', '引领', '新城区', '建设'],\n ['取名',\n  '困难',\n  '症',\n  '患者',\n  '皇马',\n  '的',\n  '贝尔',\n  '，',\n  '第一个',\n  '受害者',\n  '就是',\n  '他',\n  '的',\n  '儿子'],\n ['夫妻间', '能', '不能', '互看', '手机', '？'],\n ['探秘', '、', '日本', '关东', '特大', '地震', '！'],\n ['上联', '：', '千峰', '入眠', '松涛', '静', '，', '怎么', '接', '下联', '？'],\n ['如何', '阻止', '基拉', '韦厄', '活火山', '的', '熔岩'],\n ['单硝酸', '异', '山梨', '酯', '片', '与', '硝酸', '异', '山梨', '酯', '片', '有何', '区别', '？'],\n ['廖英强', '被', '证监会', '处罚', '1.2', '亿', '，', '你', '怎么', '看', '？'],\n ['女儿',\n  '高烧',\n  '不止',\n  '，',\n  '我',\n  '让',\n  '婆婆',\n  '给',\n  '老公',\n  '打电话',\n  '回家',\n  '，',\n  '通话',\n  '内容',\n  '让',\n  '我',\n  '吓瘫',\n  '在',\n  '地'],\n ['上联', '：', '春风', '执笔', '谁', '研墨', '，', '怎么', '对', '下联', '？'],\n ['肥乡', '区', '：', '让', '文明', '新风', '吹进', '千家万户'],\n ['葫芦', '都', '能', '做成', '什么', '乐器', '？'],\n ['为什么', '袁大头', '等', '银元', '吹', '完会', '有', '响声', '？'],\n ['伊朗', '为什么', '宁愿', '接受', '制裁', '也', '不', '同意', '修改', '伊核', '协议', '？'],\n ['小白', '如何', '做好', '自', '媒体', '的', '几个', '信念', '？'],\n ['街头',\n  '偶遇',\n  '2018',\n  '款',\n  '长安',\n  'CS35',\n  '，',\n  '颜值',\n  '美炸',\n  '！',\n  '或售',\n  '6',\n  '万起',\n  '，',\n  '还',\n  '买',\n  '宝骏',\n  '510',\n  '？'],\n ['学生', '党', '买', '什么', '笔记本电脑', '好', '？'],\n ['大猩猩', '对', '镜头', '摆', '造型', '表情丰富', '，', '走红', '网络', '收获', '众多', '迷妹'],\n ['11',\n  '日',\n  '游戏',\n  '热点',\n  '回顾',\n  '：',\n  '刺激',\n  '战场',\n  '：',\n  '取消',\n  '恶意',\n  '伤害',\n  '队友',\n  '后',\n  '，',\n  '小学生',\n  '开始',\n  '用',\n  '这种',\n  '方式'],\n ['贵州', '多彩', '绚丽', '的', '民族', '风凯莉包', '文艺', '女', '青年', '必备'],\n ['去', '泰国', '买', '什么', '好', '？'],\n ['2018', '中级会计', '考试', '每日', '一练', '0509'],\n ['抱娃', '姿势', '不', '正确', '，', '小心', '患熊黛林', '同款', '“', '妈妈', '手', '”'],\n ['崩溃', '！', '火车站', '管理员', '睡', '过头', '：', '上百人', '眼睁睁', '看', '空车', '驶出'],\n ['一辆车', '的', '寿命', '到底', '多长', '，', '最', '多', '可以', '开', '多久', '？'],\n ['听说',\n  '最近',\n  '联通',\n  '搅乱',\n  '了',\n  '北京',\n  '宽带',\n  '市场',\n  '价格',\n  '，',\n  '比小',\n  '运营商',\n  '的',\n  '还',\n  '低',\n  '？'],\n ['我',\n  '的',\n  '焕驰',\n  '前',\n  '减震',\n  '有',\n  '异响',\n  '，',\n  '过',\n  '凹凸不平',\n  '的',\n  '时候',\n  '会',\n  '咣当',\n  '一声',\n  '，',\n  '是',\n  '什么',\n  '原因',\n  '？'],\n ['如何',\n  '看待',\n  '人民日报',\n  '发文',\n  '痛批',\n  '“',\n  '沉睡',\n  '中',\n  '的',\n  '大学生',\n  ':',\n  '你',\n  '不',\n  '失业',\n  '，',\n  '天理难容',\n  '！',\n  '”',\n  '这件',\n  '事'],\n ['南京',\n  '晓庄',\n  '五年',\n  '一贯制',\n  '专转本',\n  '培训',\n  '简章',\n  '2019',\n  '年',\n  '博大',\n  '五年制',\n  '专转本',\n  '辅导'],\n ['中国',\n  '传媒大学',\n  '：',\n  '平昌',\n  '冬奥会',\n  '闭幕式',\n  '“',\n  '北京',\n  '八分钟',\n  '”',\n  '主创',\n  '交流会',\n  '举行'],\n ['哪种', 'POS', '机', '适合', '养卡', '？'],\n ['《',\n  '复仇者',\n  '联盟',\n  '3',\n  '》',\n  '中',\n  '奇异',\n  '博士',\n  '为什么',\n  '不用',\n  '时间',\n  '宝石',\n  '跟',\n  '灭霸',\n  '谈判',\n  '？'],\n ['张鹤伦',\n  '被',\n  '女',\n  '粉丝',\n  '拿',\n  '水枪',\n  '对射',\n  '：',\n  '这个',\n  '话筒',\n  '5',\n  '千',\n  '多亿',\n  '，',\n  '赔钱'],\n ['驾驶证', '考试', '预约', '是', '按', '什么', '规则', '进行', '排序', '的', '？'],\n ['为', '创业', '的', '你', '准备', '的', '（', '2018', '年', '新', '商机', '）'],\n ['都',\n  '说',\n  '北京',\n  '叫',\n  '帝都',\n  '，',\n  '上海',\n  '叫',\n  '魔',\n  '都',\n  '，',\n  '那',\n  '深圳',\n  '叫',\n  '什么',\n  '？'],\n ['阿里巴巴',\n  '区块',\n  '链',\n  '专利',\n  '排名',\n  '全球',\n  '第一',\n  '，',\n  '阿里',\n  '都',\n  '有',\n  '哪些',\n  '区块',\n  '链',\n  '应用',\n  '？'],\n ['揭秘', '您', '身边', '十大类', '30', '种', '轻松', '赚钱', '被动', '收入', '的', '生意', '机会'],\n ['以色列', '总理', '将', '出席', '俄罗斯', '阅兵式', '5', '月', '9', '日', '会晤', '普京'],\n ['省', '“', '双创', '计划', '”', '项目', '申报', '工作', '启动'],\n ['军用', '匕首', '在', '关键时刻', '能', '发挥', '哪些', '作用', '？'],\n ['拥抱',\n  '编辑',\n  '3.0',\n  '时代',\n  '！',\n  '内容',\n  '升级',\n  '为',\n  '产品',\n  '海内外',\n  '媒体',\n  '如何',\n  '规划',\n  '下个',\n  '十年',\n  '？'],\n ['银行',\n  '“',\n  '恼羞成怒',\n  '”',\n  '：',\n  '在',\n  '微信',\n  '支付宝',\n  '上',\n  '借款',\n  '两次',\n  '，',\n  '不',\n  '给',\n  '贷款'],\n ['2018', '年', '教育', '科技', '技术', '新', '主题', '—', '—', 'AR', '+', '教育'],\n ['航母',\n  '受到',\n  '多少',\n  '攻击',\n  '才',\n  '会',\n  '被',\n  '击沉',\n  '？',\n  '中国',\n  '的',\n  '东风',\n  '家族',\n  '让',\n  '你',\n  '刮目相看'],\n ['慕容',\n  '云海',\n  '刁难',\n  '楚雨',\n  '荨',\n  '，',\n  '买',\n  '矿泉水',\n  '一下子',\n  '买',\n  '500',\n  '块钱',\n  '的',\n  '，',\n  '直接',\n  '被',\n  '累死'],\n ['非洲', '兄弟', '拿', 'AK', '技巧', '，', '不靠', '技术', '全靠', '信仰'],\n ['PS4',\n  '比',\n  'SWITCH',\n  '销量',\n  '高',\n  '，',\n  '而且',\n  '游戏',\n  '画面',\n  '好',\n  '，',\n  '为什么',\n  '还有',\n  '人买',\n  'SWITCH',\n  '？'],\n ['《',\n  '我',\n  '的',\n  '世界',\n  '》',\n  '问答题',\n  '：',\n  '这',\n  '几个',\n  '头颅',\n  '都',\n  '有',\n  '什么',\n  '作用',\n  '呢',\n  '？',\n  '答对',\n  '的',\n  '都',\n  '是'],\n ['在',\n  '中国',\n  '古代',\n  '，',\n  '珍珠',\n  '是从',\n  '什么',\n  '时期',\n  '开始',\n  '作为',\n  '首饰',\n  '使用',\n  '的',\n  '？'],\n ['少女',\n  '患',\n  '怪病',\n  '，',\n  '一',\n  '激动',\n  '就',\n  '血流',\n  '不止',\n  '，',\n  '只能靠',\n  '药物',\n  '止血',\n  '！'],\n ['地球',\n  '这是',\n  '怎么',\n  '了',\n  '？',\n  '美国',\n  '夏威夷',\n  '群岛',\n  '突发',\n  '6.9',\n  '级',\n  '地震',\n  '，',\n  '游客',\n  '紧急',\n  '疏散',\n  '！'],\n ['海航', '资本', '助力', '海南', '自贸区', '建设'],\n ['为何', '联合国', '维和部队', '不去', '打击', 'ISIS', '？'],\n ['王者',\n  '荣耀',\n  '：',\n  '李白',\n  '和',\n  '韩信',\n  '还',\n  '没',\n  '加强',\n  '这个',\n  '人民币',\n  '战士',\n  '却',\n  '先',\n  '加强',\n  '了',\n  '，',\n  '悲哀',\n  '！'],\n ['军事',\n  '才能',\n  '“',\n  '平庸',\n  '”',\n  '的',\n  '华盛顿',\n  '，',\n  '为何',\n  '能',\n  '打赢',\n  '独立战争',\n  '（',\n  '一',\n  '）',\n  '？'],\n ['济南', '堵车', '是因为', '道路', '规划', '不好', '吗', '？'],\n ['关于', '人工智能', '方面', '的', '研究生', '专业', '有', '哪些', '？'],\n ['2018', '年', '南沙', '公寓', '是否', '值得', '投资'],\n ['《',\n  '泡沫',\n  '之夏',\n  '》',\n  '22',\n  '点',\n  '独播',\n  '！',\n  '秦',\n  '俊杰',\n  '霸气',\n  '狂',\n  '撩',\n  '张雪迎',\n  '：',\n  '你',\n  '是',\n  '我',\n  '的',\n  '！'],\n ['西方',\n  '死神',\n  '入侵',\n  '天朝',\n  '，',\n  '结果',\n  '被',\n  '阎王',\n  '偷走',\n  '衣服',\n  '，',\n  '这下',\n  '尴尬',\n  '了'],\n ['定安', '计划', '用', '三年', '时间', '修复', '全县', '161', '处', '不可', '移动', '文物'],\n ['为何', '全国', '房价', '在', '降', '，', '唯独', '哈尔滨', '在', '猛涨', '？'],\n ['最强', 'NBA', '游戏', '中', '谁', '最好', '用', '？'],\n ['9X10',\n  '米',\n  '清雅',\n  '型',\n  '别墅',\n  '，',\n  '大容量',\n  '简约',\n  '民宿',\n  '风',\n  '，',\n  '来自',\n  '美墅',\n  '建房',\n  '的',\n  '诱惑',\n  '！'],\n ['慧慧',\n  '闺蜜',\n  '现身',\n  '说话',\n  '？',\n  '爆料',\n  '截图',\n  '被',\n  '石锤',\n  '造假',\n  '后',\n  '消失',\n  '？',\n  '笑笑',\n  '最后',\n  '的',\n  '回应',\n  '！'],\n ['在',\n  '深圳',\n  '多年',\n  '，',\n  '你',\n  '居然',\n  '没',\n  '去过',\n  '这个',\n  '地方',\n  '？',\n  '美景',\n  '堪称',\n  '圣地'],\n ['大', '揭秘', '：', '特种部队', '“', '手势语', '”', '图解'],\n ['你', '可', '知道', '郑板桥', '的', '这', '一幅', '对联', '？'],\n ['学校', '或', '老师', '有没有', '权利', '没收', '学生', '手机', '？'],\n ['中国',\n  '古代',\n  '的',\n  '四大',\n  '僵尸',\n  '始祖',\n  '，',\n  '赢',\n  '勾',\n  '、',\n  '后卿',\n  '、',\n  '旱魃',\n  '、',\n  '将',\n  '臣',\n  '都',\n  '是',\n  '什么',\n  '来历'],\n ['军工',\n  '已',\n  '动真格',\n  '，',\n  '中航',\n  '科工',\n  '（',\n  '02357',\n  '）',\n  '占据',\n  '着',\n  '舞台',\n  '正',\n  '中央'],\n ['没', '资格', '在', '成都', '买房', '的', '人', '，', '怎样才能', '买到', '房', '？'],\n ['日本', '旗', '为什么', '有个', '红球', '？'],\n ['2018',\n  '首届',\n  '中国',\n  '“',\n  '蓉',\n  '欧',\n  '+',\n  '”',\n  '智能',\n  '科博会',\n  '本月底',\n  '青白江',\n  '举行'],\n ['广州', '恒大', '淘宝', '抵达', '赛场', '卡纳瓦罗', '英气', '十足'],\n ['谢娜',\n  '微博有',\n  '1',\n  '亿多',\n  '粉丝',\n  '，',\n  '真有',\n  '这么',\n  '多',\n  '吗',\n  '？',\n  '1',\n  '张图',\n  '揭晓',\n  '实际',\n  '数量'],\n ['家里', '有', '两个', '老人', '一个', '娃', '，', '你', '就', '买', '二两', '牛肉', '吗', '？'],\n ['在', '英国', '年薪', '20500', '英镑', '是', '一个', '什么', '水平', '？'],\n ['红警', '：', '狙击手', '三级', '后加', '不加', '距离', '？'],\n ['刘銮雄',\n  '的',\n  '儿子',\n  '，',\n  '赌王',\n  '何鸿燊',\n  '的',\n  '儿子',\n  '，',\n  '他们',\n  '的',\n  '现状',\n  '就',\n  '可',\n  '说明',\n  '豪门',\n  '的',\n  '差别'],\n ['还',\n  '记得',\n  '缅甸',\n  '5',\n  '亿',\n  '豪华',\n  '婚礼',\n  '吗',\n  '？',\n  '婚礼',\n  '细节',\n  '再度',\n  '遭',\n  '曝光',\n  '，',\n  '请',\n  '擦亮',\n  '你',\n  '的',\n  '眼'],\n ['行业', '板块', '全面', '上涨', '沪', '指', '收复', '3100', '点'],\n ['张艺兴',\n  '戴',\n  '口罩',\n  '从来',\n  '只',\n  '遮',\n  '嘴',\n  '不',\n  '上',\n  '鼻',\n  ',',\n  '原因',\n  '原来',\n  '这么',\n  '有趣',\n  '!'],\n ['如果',\n  '在',\n  '国际',\n  '空间站',\n  '使用',\n  'M82A1',\n  '狙击步枪',\n  '对',\n  '着',\n  '太阳',\n  '射',\n  '一发',\n  '子弹',\n  '会',\n  '怎样',\n  '？'],\n ['复联',\n  '3',\n  '里',\n  '这位',\n  '英雄',\n  '没',\n  '死',\n  '复仇者',\n  '联盟',\n  '4',\n  '剧透',\n  '这些',\n  '英雄',\n  '将',\n  '复活'],\n ['德国人', '在', '清朝', '也', '能', '当', '大官', '？', '还', '备受', '宠信'],\n ['分期', '买车', '划算', '还是', '全款', '划算', '？'],\n ['为什么', '日本', '的', '精密', '制造', '领域', '那么', '发达', '？'],\n ['从',\n  '哪',\n  '开始',\n  '从',\n  '哪',\n  '结束',\n  '！',\n  '杨毅神',\n  '预测',\n  '，',\n  '火箭',\n  '勇士',\n  '西决',\n  '大战',\n  '一触即发'],\n ['听说', '了', '吗', '？', '16', '岁', '的', '高中生', '已经', '在', '学', 'AI', '了'],\n ['普京', '统治', '了', '俄罗斯', '20', '年', '，', '俄罗斯', '强大', '了', '吗', '？'],\n ['15000',\n  '亿',\n  '基建投资',\n  '！',\n  '为',\n  '特色',\n  '小镇',\n  '、',\n  '田园',\n  '综合体',\n  '带来',\n  '哪些',\n  '新',\n  '的',\n  '机遇',\n  '？'],\n ['为什么', '网吧', '的', '电脑配置', '低', '，', '速度', '却', '很快', '？'],\n ['NASA',\n  '，',\n  'Uber',\n  '探索',\n  '未来',\n  '城市',\n  '空域',\n  '的',\n  '安全性',\n  '和',\n  '效率',\n  '，',\n  '飞车',\n  '这',\n  '就',\n  '比较',\n  '舒服',\n  '了'],\n ['你', '知道', '有', '哪些', '有趣', '的', '“', '飞地', '”', '知识', '？'],\n ['国内',\n  '首台',\n  '案例',\n  '：',\n  '宝马',\n  '5',\n  '系',\n  'GT',\n  '怒改',\n  '大灯',\n  '，',\n  '实现',\n  '四远',\n  '四近',\n  '强大',\n  '灯光',\n  '！'],\n ['吴敏霞',\n  '发微',\n  '博为',\n  '老公',\n  '庆生',\n  '，',\n  '晒出',\n  '两人',\n  '亲密',\n  '照',\n  '，',\n  '十分',\n  '恩爱',\n  '！'],\n ['走进',\n  '俄罗斯',\n  '部队',\n  '饭堂',\n  '比较',\n  '一下',\n  '他们',\n  '的',\n  '伙食',\n  '和',\n  '中国',\n  '部队',\n  '有',\n  '什么',\n  '不同'],\n ['互联网', '资讯', '快', '爆', '｜', '5', '月', '12', '日', '星期六'],\n ['.', 'Sandro', 'Botticelli'],\n ['这', '3', '条', '建议', '，', '送给', '不会', '说话', '的', '你'],\n ['中国', '定陶', '第三届', '玫瑰', '风情节', '来', '了'],\n ['人之初', '性本善', '、', '还是', '性本恶', '？'],\n ['美国', '建国', '不过', '两百年', '，', '为什么', '会', '成为', '世界', '强国', '？'],\n ['汤神',\n  '透露',\n  '防',\n  '火箭',\n  '关键',\n  '，',\n  '无惧',\n  '保罗',\n  '绝招',\n  '只',\n  '因',\n  '1',\n  '点',\n  '，',\n  '勇士',\n  '这',\n  '防守',\n  '联盟',\n  '第一'],\n ['徙倚', '三层', '阁', '，', '摩挲', '七', '宝刀'],\n ['合肥',\n  '一站式',\n  '商务',\n  '休闲',\n  '购物中心',\n  '开业',\n  '，',\n  '多个',\n  '品牌',\n  '首次',\n  '入驻',\n  '安徽',\n  '！'],\n ['比特',\n  '币',\n  '大佬',\n  '表示',\n  '：',\n  '比特',\n  '币',\n  '现金',\n  '将',\n  '超越',\n  '比特',\n  '币',\n  '！',\n  '“',\n  '石油',\n  '币',\n  '”',\n  '就是',\n  '垃圾',\n  '！'],\n ['浏览量', '突破', '66', '万', '！', '牛', '！'],\n ['搭讪',\n  '大师',\n  '：',\n  '这',\n  '搭讪',\n  '还',\n  '得',\n  '数学',\n  '几何学',\n  '得',\n  '好',\n  '，',\n  '不然',\n  '你',\n  '就',\n  '没法',\n  '顺利完成',\n  '搭讪'],\n ['“', '滞销', '大爷', '”', '家里', '没', '滞销', '水果', '原图', '拍摄者', '称要', '维权'],\n ['武汉', '军运会', '各', '项目', '竞赛', '筹备', '全面', '启动'],\n ['这座',\n  '监狱',\n  '自由度',\n  '奇高',\n  '，',\n  '囚犯',\n  '们',\n  '可以',\n  '互相交换',\n  '物资',\n  '，',\n  '甚至',\n  '结婚',\n  '生',\n  '孩子'],\n ['「',\n  'AI',\n  '名利场',\n  '」',\n  '高仙',\n  '完成',\n  'A轮',\n  '千万级',\n  '美元',\n  '融资',\n  '，',\n  '赋能',\n  '机器人',\n  '生态化',\n  '发展'],\n ['情侣', '变卖', '家当', '环游世界', '，', '行走', '40', '万公里'],\n ['比亚迪', '新能源', '车', '4', '月', '销售', '数据', '公布', '比亚迪', '秦狂销', '4134', '辆'],\n ['史上', '最全', '经济作物', '需肥', '总结'],\n ['DOTA2',\n  '团战',\n  '煤气罐',\n  '只有',\n  'Ts',\n  '？',\n  '这',\n  '三个',\n  '英雄',\n  '没人敢',\n  '让',\n  '他们',\n  '进',\n  '人群'],\n ['詹姆斯', '功高震主', '泰伦卢', '真的', '无用', '？', '马健', '解读', '泰伦卢', '作用'],\n ['导弹', '武器', '资料库', '之', '巨浪', '-', '2', '弹道导弹', '（', '中国', '）'],\n ['火影忍者', '手游奇', '拉比', '好', '抽', '吗', '？', '大概', '需要', '多少', '金币', '？'],\n ['破阵子', '｜', '屡见', '先锋', '争', '楷范'],\n ['特朗普',\n  '退出',\n  '伊核',\n  '协议',\n  '，',\n  '诚信',\n  '破产',\n  '，',\n  '各国',\n  '存放',\n  '在',\n  '美国',\n  '的',\n  '几千吨',\n  '黄金',\n  '悬',\n  '了'],\n ['像', '马斯克', '、', '比尔盖茨', '这样', '的', '亿万富翁', '，', '会', '被', '绑架勒索', '吗', '？'],\n ['李克强', '：', '中国', '同意', '给予', '日本', '2000', '亿元', 'RQFII', '额度'],\n ['植保', '无人机', '飞控', '品牌', '有', '哪些', '？'],\n ['中部',\n  '六个',\n  '省会',\n  '城市',\n  '：',\n  '武汉',\n  '郑州',\n  '长沙',\n  '合肥',\n  '南昌',\n  '太原',\n  '，',\n  '从',\n  '影响力',\n  '来说',\n  '应该',\n  '怎么',\n  '排序',\n  '？'],\n ['闫妮',\n  '现身',\n  '上海',\n  '机场',\n  '，',\n  '面对',\n  '媒体',\n  '的',\n  '跟',\n  '拍',\n  '，',\n  '女神',\n  '也',\n  '害羞',\n  '了',\n  '！'],\n ['小米', '跟', 'vivo', '抢', '线下', '市场', '，', '有', '机会', '吗', '？'],\n ['在',\n  '加拿大',\n  '可以',\n  '赖账',\n  '不',\n  '还',\n  '？',\n  '3',\n  '万名',\n  '学生',\n  '赖帐',\n  '2',\n  '亿',\n  '，',\n  '加拿大政府',\n  '一笔勾销'],\n ['京郊',\n  '有',\n  '这种',\n  '人少',\n  '景少',\n  '的',\n  '好',\n  '地方',\n  '，',\n  '你',\n  '还',\n  '不',\n  '知道',\n  '吗',\n  '？'],\n ['它',\n  '是',\n  '一艘',\n  '星际',\n  '战舰',\n  '，',\n  '觉醒',\n  '了',\n  '人类',\n  '意识',\n  '，',\n  '即将',\n  '面临',\n  '着',\n  '被',\n  '拆解'],\n ['DPF', '又', '出', '幺', '蛾子', '？', '多半', '是', '经络', '不通', '！'],\n ['5',\n  '月',\n  '13',\n  '号',\n  '英雄',\n  '联盟',\n  'MSI',\n  '，',\n  '闪电',\n  '狼',\n  '拿出',\n  '奇',\n  '招亚索',\n  '击败',\n  'KZ',\n  '拿到',\n  '5',\n  '连胜',\n  '，',\n  '对此'],\n ['唯一',\n  '现存',\n  '石头',\n  '币',\n  '：',\n  '最大',\n  '面值',\n  '高达',\n  '3',\n  '米重',\n  '7',\n  '吨',\n  '，',\n  '一枚',\n  '能',\n  '娶',\n  '20',\n  '个',\n  '妻子'],\n ['河南',\n  '灵宝',\n  '：',\n  '「',\n  '实验',\n  '二小',\n  '」',\n  '首届',\n  '“',\n  '励耘',\n  '杯',\n  '”',\n  '优秀教师',\n  '事迹',\n  '展播',\n  '（',\n  '七',\n  '）'],\n ['五年', '后', '实体店', '还', '能', '开', '下去', '吗', '？'],\n ['iPhone6SPLUS', '现在', '还', '值不值得', '买', '？'],\n ['当',\n  '孩子',\n  '问',\n  '读书',\n  '有',\n  '什么',\n  '用',\n  '？',\n  '这',\n  '是',\n  '我',\n  '见',\n  '过',\n  '最好',\n  '的',\n  '回答',\n  '！'],\n ['没有', '餐饮行业', '经验', '，', '但是', '想要', '开', '一个', '饭店', '，', '怎么', '选择', '？'],\n ['米切尔', '和', '西蒙斯', '谁', '的', '上限', '更高', '？'],\n ['超市', '的', '一个', '捞钱', '手段', '，', '竟', '隐含', '危机', '！', '细思极', '恐'],\n ['德国',\n  '组阁',\n  '破裂',\n  '，',\n  '默克尔',\n  '出局',\n  '，',\n  '将会',\n  '对',\n  '德国',\n  '经济',\n  '产生',\n  '什么',\n  '影响',\n  '？'],\n ['德国人', '水平', '尺不离', '手', '安装', '地下', '排水管', '都', '要', '用'],\n ['上联',\n  '：',\n  '大学生',\n  '，',\n  '研究生',\n  '，',\n  '博士生',\n  '，',\n  '三生有幸',\n  '。',\n  '下联',\n  '应',\n  '如何',\n  '对',\n  '？'],\n ['小伙子',\n  '获得',\n  '神奇',\n  '遥控器',\n  '，',\n  '随意',\n  '控制',\n  '时间',\n  '快慢',\n  '，',\n  '这',\n  '功能',\n  '太强大',\n  '了',\n  '！'],\n ['吃',\n  '鸡',\n  '实力',\n  '主播',\n  'Top5',\n  '，',\n  '韦神',\n  '和',\n  '17shou',\n  '都',\n  '排',\n  '在',\n  '他',\n  '身后',\n  '！'],\n ['2018wilson', '穿越', '·', '彩色', '网球', '狂欢节'],\n ['GMIC',\n  '迷思',\n  '：',\n  '数字化',\n  '产品',\n  '日新月异',\n  '，',\n  'A股',\n  '新贵',\n  '万兴',\n  '科技',\n  '为何',\n  '能勇立',\n  '潮头',\n  '？'],\n ['一个',\n  '村姑',\n  '去世',\n  '，',\n  '让',\n  '张作霖',\n  '为',\n  '她',\n  '立碑',\n  '，',\n  '还',\n  '把',\n  '自己',\n  '的',\n  '名字',\n  '刻到',\n  '了',\n  '碑',\n  '上'],\n ['DNF',\n  '：',\n  '罕见',\n  '！',\n  '史上',\n  '最欧',\n  '乌龟',\n  '团',\n  '安徒恩一',\n  '阶段',\n  '怒翻',\n  '19',\n  '张',\n  '金牌',\n  '！'],\n ['吴昕',\n  '一身',\n  '潮牌现',\n  '机场',\n  '，',\n  '惊艳',\n  '到',\n  '认不出',\n  '！',\n  '谁',\n  '敢',\n  '说',\n  '吴昕',\n  '没',\n  '品位',\n  '？'],\n ['美国', '政权', '稳固', '了', '200', '多年', '，', '根本原因', '在', '哪', '呢', '？'],\n ['9',\n  '日',\n  '热点新闻',\n  '：',\n  '安卓',\n  '9.0',\n  '开放',\n  '！',\n  '国产',\n  '四',\n  '大家',\n  '首发',\n  '俩',\n  '巨头',\n  '离奇',\n  '缺席'],\n ['广东',\n  '最宜',\n  '居住',\n  '的',\n  '2',\n  '线',\n  '城市',\n  '：',\n  '讲',\n  '的',\n  '是',\n  '气质',\n  '，',\n  '拼',\n  '的',\n  '是',\n  '环境',\n  '，',\n  '不服',\n  '都'],\n ['神秘',\n  '腾讯',\n  '二当家',\n  '，',\n  '掌管',\n  '3',\n  '万亿',\n  '帝国',\n  '，',\n  '年薪',\n  '2.37',\n  '亿',\n  '，',\n  '是',\n  '马化腾',\n  '的',\n  '4.7',\n  '倍'],\n ['你', '在', '校园', '里', '有', '过', '“', '一战', '成名', '”', '的', '事情', '吗', '？'],\n ['国防', '电子', '技术', '大显', '我', '中华', '力量', '！'],\n ['战争',\n  '蓄势待发',\n  '？',\n  '大批',\n  '军舰',\n  '现身',\n  '俄',\n  '后院',\n  '，',\n  '普京',\n  '发出',\n  '警告',\n  '：',\n  '再',\n  '不',\n  '走',\n  '都',\n  '击沉'],\n ['建',\n  '在',\n  '悬崖',\n  '边上',\n  '且',\n  '至少',\n  '有',\n  '一扇',\n  '窗子',\n  '面临',\n  '大海',\n  '的',\n  '小镇',\n  '—',\n  '—',\n  '意大利',\n  '波菲诺镇'],\n ['人民', '创投', '：', '二', '三线', '城市', '在', '区块', '链上', '的', '布局', '早已', '起跑'],\n ['火影', '影刃', 'Z5', '和', '机械师', 'F117', '-', 'B1', '哪款', '产品', '好', '？'],\n ['竞选', '学生会', '部长', '演讲稿', '怎么', '写', '？'],\n ['绵阳', '周边', '哪里', '可以', '钓', '龙虾', '？'],\n ['一世', '春秋', '梦', '，', '可否', '赐句', '？'],\n ['九江', '学院', '附属', '医院', '顺利开展', '2018', '年', '兼职', '班主任', '竞聘', '选拔'],\n ['20',\n  '岁',\n  '少女',\n  '爱上',\n  '72',\n  '岁',\n  '大爷',\n  '，',\n  '坚持',\n  '与其',\n  '结婚',\n  '，',\n  '婚后',\n  '住进',\n  '大爷',\n  '的',\n  '私人',\n  '岛屿'],\n ['低价', '赠送', '武则天', 'BUG', '紧急', '修复', '，', '玩家', '：', '错过', '一个亿', '！'],\n ['预算', '5000', '，', '最优', '主机', '的', '方案', '是', '什么', '？'],\n ['上联', '：', '山水', '不曾', '随', '我', '老', '，', '如何', '对', '下联', '？'],\n ['晨起', '看', '几则', '重要', '的', '南昌', '教育', '资讯', '吧'],\n ['中航', '信托', '违反', '反洗钱法', '多项', '规定', '央行', '南昌', '罚款', '45', '万元'],\n ['世界',\n  '上',\n  '军费',\n  '最多',\n  '的',\n  '国家',\n  '到底',\n  '是',\n  '谁',\n  '？',\n  '军事',\n  '专家',\n  '：',\n  '答案',\n  '毋庸置疑'],\n ['美国', 'CNN', '再次', '聚焦', '贵州', '，', '只', '因为', '这些', '成就'],\n ['女版',\n  '乔布斯',\n  '的',\n  '骗局',\n  '：',\n  '她',\n  '曾',\n  '靠',\n  '一项',\n  '发明',\n  '，',\n  '忽悠',\n  '出',\n  '90',\n  '亿美元'],\n ['求问',\n  '，',\n  '25',\n  '万左右',\n  '落地',\n  'suv',\n  '，',\n  '性能',\n  '不',\n  '要求',\n  '太高',\n  '，',\n  '但',\n  '要求',\n  '舒适型',\n  '高',\n  '，',\n  '哪款',\n  '比较',\n  '合适'],\n ['同',\n  '为',\n  '叱咤风云',\n  '的',\n  '斗鱼',\n  '四',\n  '美',\n  '，',\n  '冯提',\n  '莫红',\n  '的',\n  '发紫',\n  '，',\n  '她',\n  '却',\n  '籍',\n  '籍无名'],\n ['「',\n  '智慧',\n  '了',\n  '我',\n  '的',\n  '津',\n  '」',\n  '“',\n  '嘟',\n  '”',\n  '声',\n  '一响',\n  '“',\n  '行',\n  '”',\n  '不可',\n  '挡'],\n ['夏雨', '入夜', '静', '无声'],\n ['蛙', '蛙', '没有', '四叶草', '了', '怎么办', '？'],\n ['怎么',\n  '看因',\n  '取消',\n  '订单',\n  '遭',\n  '滴滴',\n  '司机',\n  '殴打',\n  '，',\n  '被打者',\n  '曾',\n  '给',\n  '滴滴',\n  '投资',\n  '百万',\n  '美金',\n  '？'],\n ['三无', '人员', '如何', '申请', '信用卡'],\n ['为什么',\n  '故宫',\n  '会',\n  '有',\n  '那么',\n  '多',\n  '乌鸦',\n  '？',\n  '说',\n  '出来',\n  '都',\n  '怕',\n  '你',\n  '不敢相信'],\n ['乌克兰', '小伙', '“', '石洞', '穿越', '千年', '，', '亮', '小喇叭', '神器', '”', '！'],\n ['上市公司',\n  '炒股',\n  '不',\n  '忌讳',\n  '“',\n  '炒',\n  '同行',\n  '”',\n  '恒生',\n  '电子',\n  '买',\n  '成科',\n  '蓝',\n  '软件',\n  '第一',\n  '大',\n  '流通股东'],\n ['菲律宾',\n  '刚',\n  '给',\n  '中国',\n  '吃',\n  '定心丸',\n  '就',\n  '面临',\n  '巨大',\n  '压力',\n  '美国',\n  '这次',\n  '面子',\n  '丢',\n  '尽'],\n ['美人',\n  '之',\n  '国色天香',\n  '篇',\n  '的',\n  '四位',\n  '女星',\n  '，',\n  '看看',\n  '你',\n  '都',\n  '认可',\n  '吗',\n  '？'],\n ['刘伟', '解说', '乒乓球', '比赛', '的', '水平', '如何', '？'],\n ['黑山', '是', '个', '怎样', '的', '国家', '？'],\n ['曾经',\n  '的',\n  '著名',\n  '足球',\n  '解说',\n  '刘建宏',\n  '继',\n  '离开',\n  '央视',\n  '和',\n  '乐视',\n  '体育',\n  '，',\n  '现在',\n  '去',\n  '哪',\n  '了',\n  '？'],\n ['心中', '是否', '始终', '能', '保留', '一片', '净土', '？'],\n ['“', '云南', '文化周', '”', '为', '柏林', '中国', '文化', '中心', '10', '周年', '庆典', '助兴'],\n ['本月', '起', '所有', '摩托', '价格便宜', '1', '…', '…'],\n ['美国', '华裔', '女孩', '绘出', '从', '医梦', '获谷歌', '涂鸦', '大赛', '纽约州', '冠军'],\n ['美国',\n  '参议员',\n  '麦凯恩',\n  '说',\n  '他',\n  '的',\n  '葬礼',\n  '上',\n  '不',\n  '请',\n  '特朗普',\n  '，',\n  '大家',\n  '怎么',\n  '看',\n  '？'],\n ['西安', '西咸', '新区', '房价', '均价', '今年', '能过', '一万五', '吗', '？'],\n ['在',\n  '川藏线',\n  '上',\n  '吃饭',\n  '究竟',\n  '贵不贵',\n  '，',\n  '来',\n  '看看',\n  '这',\n  '三个',\n  '不同',\n  '的',\n  '地方',\n  '的',\n  '点',\n  '菜单'],\n ['这个', '世界', '疯狂', '了', '，', '电脑桌', '开始', '玩灯', '了'],\n ['《', '华强', '电子', '》', '杂志', '5', '月刊', '已', '出版', '精彩', '抢鲜', '读'],\n ['刚才', '4s店', '打电话', '来', '说', '艾瑞泽', '5', '已经', '降到', '了', '5.64', '万'],\n ['马云', '最新', '演讲', '：', '未来', '十年', '的', '改变', '！', '5'],\n ['动力', '更强', '操控', '更好', '海外', '试驾', '梅赛德斯', '-', 'AMG', 'G63'],\n ['西门子',\n  'S7',\n  '-',\n  '1200PLC',\n  ',',\n  'FB',\n  '（',\n  '功能块',\n  '）',\n  ',',\n  'OB',\n  '（',\n  '组织',\n  '块',\n  '）',\n  ',',\n  'FC',\n  '（',\n  '功能',\n  '）'],\n ['余额', '宝', '升级', '了', '，', '有', '什么', '不', '一样', '？'],\n ['34', '岁', '的', '整容', '狂人', '罗得里戈', '阿尔维斯', '你们', '有', '什么', '看法'],\n ['牛首山', '金陵', '小镇', '项目', '正式', '签约', '明年', '4', '月', '完成', '样板', '区', '建设'],\n ['经典',\n  '武侠剧',\n  '《',\n  '灵山',\n  '神箭',\n  '》',\n  '，',\n  '潘迎紫',\n  '美若',\n  '仙子',\n  '，',\n  '孟飞',\n  '潘迎紫',\n  '神仙',\n  '眷侣'],\n ['TechCrunch', '国际', '创新', '峰会', '即将', '席卷', '杭州', '！'],\n ['整体',\n  '上',\n  '讲',\n  '，',\n  '中国大学',\n  '同',\n  '美国大学',\n  '比较',\n  '起来',\n  '，',\n  '主要',\n  '的',\n  '差距',\n  '在',\n  '哪',\n  '？'],\n ['经济', '观察', '：', '中国', '证券业', '加速', '开放', '业界', '持', '乐观', '态度'],\n ['上联', '：', '泰山', '黄山', '赵本山', '，', '如何', '对', '下联', '？'],\n ['上联', '：', '泰山', '黄山', '赵本山', '，', '如何', '对', '下联', '？'],\n ['为了',\n  '省',\n  '几个',\n  '油钱',\n  '和',\n  '同事',\n  '拚车',\n  '，',\n  '却',\n  '落',\n  '的',\n  '妻离子散',\n  '，',\n  '惨痛',\n  '的',\n  '教训',\n  '。'],\n ['登记', '在', '孩子', '名下', '的', '房产', '究竟', '是', '谁', '的', '？'],\n ['微信',\n  '可以',\n  '查',\n  '视力',\n  '啦',\n  '！',\n  '我',\n  '刚试',\n  '了',\n  '下',\n  '，',\n  '挺准',\n  '的',\n  '！',\n  '真是太',\n  '好用',\n  '了',\n  '！'],\n ['农村',\n  '民间',\n  '俗语',\n  '：',\n  '“',\n  '初一',\n  '的',\n  '娘娘',\n  '，',\n  '十五',\n  '的',\n  '官',\n  '”',\n  '什么',\n  '意思',\n  '，',\n  '怎么',\n  '来',\n  '理解',\n  '？'],\n ['「',\n  '牛羊',\n  '催肥',\n  '」',\n  '肉羊',\n  '吃',\n  '什么',\n  '饲料',\n  '催肥',\n  '增重',\n  '长得',\n  '快',\n  '，',\n  '一天',\n  '长',\n  '7',\n  '两',\n  '-',\n  '1',\n  '斤'],\n ['石器时代',\n  '2.5',\n  '和',\n  '8.5',\n  '还',\n  '记得',\n  '自己',\n  '玩',\n  '的',\n  '是',\n  '哪个',\n  '石器',\n  '版本',\n  '吗',\n  '？'],\n ['抖音', '，', '你', '会', '玩', '吗', '？'],\n ['西安', '：', '三年', '内', '新建', '改建', '旅游', '厕所', '465', '座'],\n ['让',\n  '游戏',\n  '宅们',\n  '又',\n  '爱',\n  '又',\n  '恨',\n  '的',\n  '三种',\n  '时刻',\n  '水友',\n  '：',\n  '我',\n  '钱包',\n  '里',\n  '的',\n  '钱',\n  '呢',\n  '？'],\n ['在', '医院', '的', '信息中心', '工作', '是', '怎样', '的', '体验', '？'],\n ['车祸',\n  '住院',\n  '，',\n  '肇事者',\n  '全责',\n  '凭',\n  '什么',\n  '不',\n  '愿意',\n  '出钱',\n  '？',\n  '答',\n  '：',\n  '凭',\n  '法律'],\n ['特朗普', '启动', '最高级别', '制裁', '！', '警告', '伊朗', '：', '不得', '重启', '核计划'],\n ['蓝月', '培训', '创客', '基地'],\n ['沙特', '成功', '拦截', '2', '枚', '胡塞', '武装', '导弹'],\n ['有', '哪些', '能', '让', '人', '流泪', '的', '句子', '？'],\n ['太惨',\n  '了',\n  '，',\n  '这',\n  '数据',\n  '，',\n  '触目惊心',\n  '，',\n  '高效',\n  '实用',\n  '止损',\n  '技巧',\n  '，',\n  '一',\n  '学会',\n  '将',\n  '告别',\n  '套牢'],\n ['世界',\n  '第三',\n  '核',\n  '强国',\n  '将要',\n  '诞生',\n  '？',\n  '这国',\n  '一',\n  '出手',\n  '就',\n  '能造',\n  '几千',\n  '核弹头'],\n ['济南', '一', '小学', '要设', '\"', '无', '作业', '日', '\"', '，', '家长', '怎么', '看', '？'],\n ['做', '外汇', '你们', '喜欢', '用', '哪些', '技术指标', '？'],\n ['蒲城县', '林则徐', '纪念馆', '李永红', '喜获', '渭南市', '“', '五一', '”', '劳动', '奖章'],\n ['佛山', '会展经济', '进入', '“', '快车道', '”'],\n ['CDR', '相关', '配套', '细则', '正', '抓紧', '研究', '制订'],\n ['马云',\n  '判断',\n  '未来',\n  '房价',\n  '会',\n  '便宜',\n  '如',\n  '白菜',\n  '，',\n  '是',\n  '基于',\n  '什么',\n  '逻辑',\n  '？'],\n ['国内', '每年', '900', '多万辆', '报废车', '，', '最后', '都', '是', '怎么', '处理', '的', '？'],\n ['民国', '杀手', '之王', '王亚', '樵', '的', '功夫', '怎么样', '？'],\n ['名字',\n  '取得',\n  '好',\n  '，',\n  '产品',\n  '成功',\n  '早',\n  '，',\n  '好',\n  '名称',\n  '是',\n  '好',\n  '品牌',\n  '的',\n  '基础'],\n ['赵美心', '、', '江俊辉', '、', '周本立', '、', '伍', '国庆', '联合', '举行', '竞选', '记者会'],\n ['腾讯', '在', '微信端', '持续', '发力', '，', '能否', '逆袭', '今日', '头条', '？'],\n ['投票', '事件', '过后', '，', '联想', '今后', '的', '日子', '该', '怎样', '走', '？'],\n ['4',\n  '月',\n  '30',\n  '个',\n  '热点',\n  '城市',\n  '房价',\n  '：',\n  '大连',\n  '新房',\n  '均价',\n  '13629',\n  '元',\n  '/',\n  '㎡'],\n ['为什么', '特朗普', '执意', '抛弃', '伊核', '协议', '？'],\n ['被', '马斯克', '掐断', '电话', '的', '分析师', '发声', '：', '我', '依然', '相信', '特斯拉'],\n ['东风', '21D', '的', '战略', '威慑', '究竟', '有', '多', '大', '？'],\n ['号称',\n  '国产',\n  '“',\n  '法拉利',\n  '”',\n  '来',\n  '了',\n  '！',\n  '比',\n  '奥迪',\n  '更美',\n  '，',\n  '才',\n  '70',\n  '万',\n  '，',\n  '还要',\n  '啥',\n  '保'],\n ['为什么', '许家', '印成', '了', '首富', '？'],\n ['美联储',\n  '加息',\n  '如期而至',\n  '，',\n  '央妈',\n  '强势',\n  '跟进',\n  '，',\n  '中国',\n  '楼市',\n  '还',\n  '能',\n  '火热',\n  '下去',\n  '吗',\n  '？'],\n ['去',\n  '河南',\n  '的',\n  '这些',\n  '地方',\n  '旅游',\n  '，',\n  '大家',\n  '有',\n  '什么',\n  '景点',\n  '推荐',\n  '吗',\n  '？'],\n ['投资', '房产', '烟台', '好', '还是', '威海', '好', '？'],\n ['沃尔沃',\n  '赴',\n  '港',\n  'IPO',\n  '在',\n  '即',\n  '？',\n  '外媒',\n  '曝',\n  '300',\n  '亿美金',\n  '估值',\n  '低于',\n  '小米'],\n ['世界',\n  '公认',\n  '的',\n  '5',\n  '座',\n  '国际',\n  '大都市',\n  '，',\n  '这座',\n  '城市',\n  '被',\n  '入选',\n  '，',\n  '却',\n  '不是',\n  '深圳'],\n ['哥萨克',\n  '游牧',\n  '骑兵',\n  '助阵',\n  '俄',\n  '世界杯',\n  '安保',\n  '，',\n  '意味着',\n  '能',\n  '安心',\n  '看球',\n  '了',\n  '吗',\n  '？'],\n ['农村',\n  '创业',\n  '别',\n  '养猪',\n  '，',\n  '今年',\n  '养猪',\n  '只',\n  '剩',\n  '哭',\n  '，',\n  '猪价',\n  '持续',\n  '下跌',\n  '原来',\n  '是',\n  '这些',\n  '原因'],\n ['令狐冲',\n  '那么',\n  '喜欢',\n  '岳灵珊',\n  '，',\n  '岳灵珊',\n  '为什么',\n  '移情',\n  '林平之',\n  '？',\n  '金庸',\n  '不好意思',\n  '说'],\n ['爱车',\n  '的',\n  '这',\n  '6',\n  '大假',\n  '故障',\n  '，',\n  '聪明人',\n  '都',\n  '自己',\n  '搞定',\n  '，',\n  '不',\n  '需要',\n  '去',\n  '4S店',\n  '送',\n  '冤枉钱'],\n ['邀请', '码', '在', '哪里', '填写', '？'],\n ['明星', '打麻将', '打多大', '的', '？'],\n ['「',\n  '信阳',\n  '第一',\n  '房产',\n  '」',\n  '中',\n  '梁',\n  '·',\n  '壹号',\n  '院',\n  '红利',\n  '首开',\n  '，',\n  '震撼',\n  '售罄',\n  '，',\n  '致谢',\n  '全城',\n  '！'],\n ['你', '什么', '时候', '回来', '，', '不要', '在', '大城市', '打工', '了'],\n ['替', '家人', '消分', '自己', '的', '驾驶证', '会', '怎么样', '？'],\n ['到底', '怎样才能', '称之为', '田园', '综合体', '！'],\n ['富士康', '组建', '半导体', '集团', '难道', '富士康', '要', '改变', '国内', '窘境', '？'],\n ['售价', '8', '万', '的', '‘', '丐中', '丐', '’', '收音机', '都', '不带'],\n ['郑和', '为', '解闷', '而', '发明', '麻将'],\n ['五个',\n  '方面',\n  '来',\n  '对比',\n  '《',\n  '遮天',\n  '》',\n  '和',\n  '《',\n  '完美',\n  '世界',\n  '》',\n  '中',\n  '的',\n  '人物',\n  '境界',\n  '差异'],\n ['5',\n  '月',\n  '13',\n  '日',\n  '（',\n  '本周',\n  '日',\n  '！',\n  '母亲节',\n  '！',\n  '）',\n  '来',\n  '合肥',\n  '滨湖',\n  '：',\n  '16',\n  '个',\n  '字',\n  '请',\n  '一定'],\n ['二战',\n  '时',\n  '美军',\n  '唯一',\n  '不愿',\n  '杀',\n  '的',\n  '日军',\n  '军官',\n  '，',\n  '曾经',\n  '是',\n  '奥运会',\n  '冠军',\n  '，',\n  '看不上',\n  '裕仁'],\n ['文武',\n  '大臣',\n  '哭',\n  '倒',\n  '将军',\n  '府',\n  '门口',\n  '：',\n  '“',\n  '将军',\n  '，',\n  '快收',\n  '了',\n  '这',\n  '妖孽',\n  '吧',\n  '！',\n  '”'],\n ['她',\n  '是',\n  '令狐冲',\n  '的',\n  '至爱',\n  '却',\n  '也',\n  '是',\n  '让',\n  '令狐冲',\n  '伤',\n  '透了心',\n  '的',\n  '女人',\n  '尤其',\n  '是',\n  '那首',\n  '山歌'],\n ['马克思', '是', '世界', '上', '最', '伟大', '的', '哲学家', '吗', '？'],\n ['大理',\n  '好',\n  '风光',\n  '，',\n  '世界',\n  '共',\n  '分享',\n  '，',\n  '大家',\n  '印象',\n  '中',\n  '的',\n  '大理',\n  '是',\n  '什么样',\n  '的',\n  '？'],\n ['淄博', '淄川', '：', '登临', '孟良台', '，', '探寻', '庞', '涓', '洞'],\n ['荐',\n  '股',\n  '骗局',\n  '曝光',\n  '：',\n  '财经',\n  '主持人',\n  '操纵',\n  '39',\n  '股',\n  '证监会',\n  '罚近',\n  '1.3',\n  '亿'],\n ['i5',\n  '-',\n  '6500',\n  '加',\n  '1063',\n  '加',\n  '8G',\n  '运存',\n  '最高',\n  '可以',\n  '玩',\n  '什么',\n  '大型',\n  '游戏',\n  '？'],\n ['月', '下', '无限连', '，', '露娜', '在手', '天下', '我', '有'],\n ['空姐',\n  '案',\n  '：',\n  '真相',\n  '永远',\n  '都',\n  '惊人',\n  '的',\n  '雷同',\n  '，',\n  '父亲',\n  '：',\n  '请',\n  '还',\n  '我',\n  '女儿',\n  '一个',\n  '公道'],\n ['这届', '妇女', '不行', '，', '太爷', '们', '了'],\n ['詹姆斯',\n  '：',\n  '这',\n  '是',\n  '我',\n  '连续',\n  '8',\n  '次',\n  '进入',\n  '东决',\n  '，',\n  '还会',\n  '更',\n  '多',\n  '！',\n  '洛瑞',\n  '：',\n  '你',\n  '自己',\n  '玩'],\n ['国誉', '优贷', '｜', '车贷', '行业', '竞争', '激烈', '，', '加盟', '是否', '有', '风险', '？'],\n ['抢鲜',\n  '看',\n  '丨',\n  '“',\n  '我要',\n  '把',\n  '给',\n  '老师',\n  '录',\n  '的',\n  '视频',\n  '传到',\n  '网上',\n  '！',\n  '”',\n  '：',\n  '一次',\n  '班级',\n  '危机',\n  '事件'],\n ['国家一级', '演员', '是', '根据', '什么', '评定', '的', '？', '有', '资格证书', '吗', '？'],\n ['四川',\n  '一',\n  '古城',\n  '，',\n  '张飞',\n  '任',\n  '太守',\n  '，',\n  '杜甫',\n  '为',\n  '他',\n  '写诗',\n  '，',\n  '张道陵',\n  '飞升',\n  '于',\n  '此'],\n ['深圳', '，', '一座', '即将', '“', '无人', '”', '的', '城市', '！'],\n ['天算', '中国', '行', '，', '相', '“', '链', '”', '于', '南宁'],\n ['日本', '“', '女神', '”', '：', '中国', '之行促', '我', '结婚'],\n ['为何', '某些', '战斗机', '，', '需要', '两名', '飞行员', '？'],\n ['让',\n  '人',\n  '羡慕',\n  '的',\n  '农村',\n  '三类',\n  '人',\n  '，',\n  '每月',\n  '不仅',\n  '有',\n  '工资',\n  '可',\n  '拿',\n  '，',\n  '晚年',\n  '还有',\n  '退休金',\n  '可',\n  '拿'],\n ['《',\n  '魔法',\n  '少女',\n  '樱',\n  '》',\n  '哥嫂',\n  '官方',\n  '糖甜炸',\n  '！',\n  '原谅',\n  '小时候',\n  '的',\n  '我们',\n  '又',\n  '聋',\n  '又',\n  '瞎',\n  '！'],\n ['深交所',\n  '推首单',\n  '公共',\n  '人才',\n  '租赁',\n  '住房',\n  '类',\n  'REITs',\n  '，',\n  '储架',\n  '发行',\n  '200',\n  '亿'],\n ['如何', '轻松', '过', '四级', '？'],\n ['座山雕', '六十大寿', '的', '百鸡宴', '有', '什么', '讲究', '？'],\n ['昌吉州', '农业局', '召开', '农业', '信息化', '应用', '研讨会'],\n ['15',\n  '亿',\n  '大案',\n  '：',\n  '荐',\n  '股',\n  '骗局',\n  '大',\n  '曝光',\n  '财经',\n  '主持人',\n  '操纵',\n  '39',\n  '股'],\n ['全世界',\n  '最',\n  '喜欢',\n  '中国',\n  '人',\n  '的',\n  '国家',\n  '！',\n  '汉语',\n  '是',\n  '必修课',\n  '了',\n  '，',\n  '硬币',\n  '印有',\n  '中国',\n  '国旗'],\n ['领克',\n  '02',\n  '抵达',\n  '4S店',\n  '，',\n  '配备',\n  '北极',\n  '之光',\n  '日行',\n  '灯',\n  '，',\n  '售',\n  '12',\n  '万',\n  '让',\n  '合资',\n  '车',\n  '无地自容'],\n ['关于',\n  '开荒',\n  '那点',\n  '事',\n  '：',\n  '土豪',\n  '用',\n  '双马',\n  '平民',\n  '用',\n  '弓',\n  '将',\n  '，',\n  '打地',\n  '多',\n  '探路',\n  '令满要',\n  '屯田'],\n ['朱婷', '、', '张', '常宁', '缺阵', '北仑', '！', '李盈莹', '迎来', '最佳', '表演', '时刻'],\n ['如果', 'NBA', '没有', '了', '中国', '会', '怎样', '？'],\n ['奥创', '打得', '过', '天启', '吗', '？'],\n ['370', '㎡', '-', '保利', '海棠', '湾'],\n ['为什么',\n  '从来',\n  '没有',\n  '一个',\n  '游戏',\n  '手游',\n  '端游',\n  '高度',\n  '还原',\n  '按照',\n  '端游',\n  '的',\n  '路线',\n  '走',\n  '？'],\n ['现在',\n  '有',\n  '一辆',\n  '续航',\n  '200',\n  '公里',\n  '的',\n  '电动汽车',\n  '，',\n  '以后',\n  '是不是',\n  '可以',\n  '自己',\n  '换成',\n  '续航',\n  '400',\n  '公里',\n  '的',\n  '电池',\n  '？'],\n ['180',\n  '斤',\n  '适合',\n  '跑步',\n  '吗',\n  '，',\n  '如果',\n  '不',\n  '适合',\n  '可以',\n  '做',\n  '什么',\n  '减肥',\n  '呢',\n  '？'],\n ['初中生', '上', '什么', '技校', '？'],\n ['为什么',\n  '说',\n  '能',\n  '抵达',\n  '地球',\n  '的',\n  '地外',\n  '文明',\n  '，',\n  '便',\n  '能',\n  '轻易',\n  '抹杀',\n  '地球',\n  '文明',\n  '？'],\n ['区块', '链', '—', '—', '支撑', '并', '缔造', '起', '一个', '新', '的', '商业', '世界'],\n ['新乡', '故事', '：', '一段', '来自', '新乡', '古城墙', '的', '独白'],\n ['中国', '石化', '联合会', '发声', '：', '坚定不移', '推进', '行业', '高质量', '发展', '！'],\n ['玩',\n  '绝地',\n  '求生',\n  '刺激',\n  '战场',\n  '的',\n  '三大',\n  '幻觉',\n  '！',\n  '最后',\n  '一个',\n  '人人',\n  '都',\n  '体会',\n  '过',\n  '，',\n  '看到',\n  '笑',\n  '了'],\n ['毕业生',\n  '福利',\n  '：',\n  '应',\n  '往届',\n  '可报',\n  '+',\n  '五险',\n  '一金',\n  '！',\n  '国有',\n  '上市公司',\n  '招',\n  '74',\n  '人',\n  '年薪',\n  '6',\n  '-',\n  '8W'],\n ['2018', '年', 'Q1', '美国', '自由职业者', '技能', '排行'],\n ['富士康',\n  '作为',\n  '世界',\n  '500',\n  '强',\n  '企业',\n  '，',\n  '为什么',\n  '会',\n  '选择',\n  '在',\n  '兰考',\n  '建厂',\n  '？'],\n ['空军', '向', '“', '空天', '一体', '、', '攻防兼备', '”', '战略目标', '高飞远', '航'],\n ['地震', '后', '房子', '没', '了', '的话', '，', '房贷', '还要', '继续', '还', '吗', '？'],\n ['棋牌', '游戏', '开发', '：', '运营', '之路别', '踩', '这三大', '误区'],\n ['丰安', '轮滑', '，', '尽显', '风采'],\n ['Lol',\n  '里',\n  '1',\n  '级',\n  '就',\n  '能',\n  '虐',\n  '诺克',\n  '的',\n  '英雄',\n  '，',\n  '狗熊',\n  '瑞雯',\n  '最',\n  '常见',\n  '，',\n  '第',\n  '1',\n  '个',\n  '打'],\n ['买', '任天堂', 'NS', '你', '后悔', '了', '吗', '？'],\n ['姚麦',\n  '时期',\n  '火箭队',\n  '的',\n  '“',\n  '带刀',\n  '护卫',\n  '”',\n  '曾',\n  '跟',\n  '詹姆斯',\n  '参加',\n  '过',\n  '扣篮',\n  '大赛',\n  '！'],\n ['砸',\n  '共享',\n  '汽车',\n  '窗户',\n  '逃生',\n  '却',\n  '被',\n  '要求',\n  '赔钱',\n  '难道',\n  '只能',\n  '等',\n  '挂',\n  '吗'],\n ['中国',\n  '最早',\n  '的',\n  '这支',\n  '装甲兵',\n  '团',\n  '，',\n  '曾经',\n  '在',\n  '战场',\n  '上',\n  '与',\n  '日军',\n  '浴血奋战'],\n ['伊核', '协议', '期限', '将', '至', '！', '接下来', '将', '发生', '什么', '？'],\n ['国产', 'suv', '哪', '一种', '比较', '耐用', '，', '性能', '好', '？'],\n ['“', '钢铁', '侠', '”', '埃隆', '·', '马斯克', '变', '身', '“', '糖果', '叔叔', '”', '？'],\n ['黄子',\n  '韬',\n  '戛纳',\n  '红毯图',\n  '，',\n  '只',\n  '在',\n  '红毯',\n  '停留',\n  '了',\n  '1',\n  '分钟',\n  '，',\n  '很',\n  '懂事',\n  '了'],\n ['吴江', '举办', '桑葚', '节', '传播', '蚕桑', '文化'],\n ['中华',\n  '商业',\n  '第一',\n  '街车',\n  '库内',\n  '都',\n  '停',\n  '着',\n  '哪些',\n  '车',\n  '？',\n  '豪车',\n  '超跑',\n  '都',\n  '不如',\n  '那辆',\n  '路',\n  '虎',\n  '抢眼'],\n ['英国', '有', '什么', '特产', '？'],\n ['学', '计算机', '的', '已经', '烂', '大街', '了', '吗', '？'],\n ['中国', '古代人', '怎么', '过', '中秋节', '？'],\n ['美国',\n  '最',\n  '贵',\n  '航母',\n  '出事',\n  '之',\n  '时',\n  '，',\n  '首艘',\n  '国产',\n  '航母',\n  '迎来',\n  '喜讯',\n  '，',\n  '将',\n  '提前',\n  '交付',\n  '海军'],\n ['MSI', '季中', '邀请赛', '第二日', '，', 'FNC', '战胜', 'KZ', '，', '你', '怎么', '看', '？'],\n ['两辆车',\n  '中间',\n  '的',\n  '车位',\n  '，',\n  '为什么',\n  '倒',\n  '着',\n  '可以',\n  '开进去',\n  '，',\n  '直行',\n  '却',\n  '开',\n  '不',\n  '进去',\n  '？'],\n ['什么', '是', '旗形', '整理', '？'],\n ['若',\n  '是从',\n  '安全性',\n  '来看',\n  '，',\n  '之前',\n  '的',\n  '大众',\n  '\"',\n  '断轴门',\n  '\"',\n  '和',\n  '最近',\n  '的',\n  '本田',\n  '\"',\n  '机油',\n  '增多',\n  '\"',\n  '事件'],\n ['谢娜',\n  '一身',\n  '蓬松',\n  '裙衣品',\n  '终于',\n  '提升',\n  '了',\n  '，',\n  '可是',\n  '这腿',\n  '却',\n  'P',\n  '的',\n  '太过',\n  '了'],\n ['诡异',\n  '案件',\n  '频发',\n  '，',\n  '他',\n  '从小',\n  '在',\n  '五台山',\n  '修道',\n  '，',\n  '被',\n  '刑警',\n  '师兄',\n  '请来',\n  '协助',\n  '调查'],\n ['济南', '高新区', '鸡山', '小学', '举行', '学生', '篆刻', '作品展'],\n ['如何', '看待', '有', '骨气', '的', '曹汝霖', '？'],\n ['书画',\n  '素材',\n  '｜',\n  '《',\n  '大唐',\n  '三',\n  '蔵',\n  '聖教序',\n  '》',\n  '太',\n  '宗文皇帝',\n  '撰',\n  '王義之书',\n  '拓本',\n  '真迹'],\n ['斯里兰卡', '将', '从', '6', '月', '起', '实行', '游客', '离境', '退税', '政策'],\n ['增程器', '一升油', '能发', '多少', '电', '，', '增程器', '寿命', '如何', '？'],\n ['27',\n  '公里',\n  '死亡',\n  '路段',\n  '，',\n  '已',\n  '失控',\n  '1000',\n  '辆车',\n  '，',\n  '死亡',\n  '100',\n  '人',\n  '，',\n  '老',\n  '司机',\n  '都',\n  '害怕',\n  '！'],\n ['普京', '大帝', '如果', '和', '张嘉译', '走', '在', '一起'],\n ['美',\n  '陆战队',\n  '将',\n  '“',\n  '驻台',\n  '”',\n  '？',\n  '台湾',\n  '宪兵',\n  '重返',\n  '华盛顿',\n  '？',\n  '国台办',\n  '：',\n  '坚决',\n  '反对'],\n ['卢靖姗晒照',\n  '不修',\n  '腿',\n  '，',\n  '这些',\n  '女星',\n  '自拍',\n  '也',\n  '从不',\n  '修图',\n  '，',\n  '各个',\n  '有颜',\n  '任性'],\n ['如何', '用', '一个', '成语', '表达', '你', '现在', '的', '状态', '？'],\n ['《',\n  '兰陵王',\n  '妃',\n  '》',\n  '宇文邕',\n  '清锁',\n  '5',\n  '次',\n  '同床',\n  '，',\n  '一次',\n  '太',\n  '幸福',\n  '，',\n  '一次',\n  '太虐',\n  '心',\n  '！'],\n ['民航',\n  '客机',\n  '飞行',\n  '频率',\n  '那么',\n  '高',\n  '，',\n  '客机',\n  '可以',\n  '承受',\n  '得',\n  '住',\n  '这样',\n  '强度',\n  '吗',\n  '？'],\n ['酒店', '布草', '运营', '管理', '专家', '兔小二获', 'A轮', '亿级', '融资'],\n ['甘肃省', '将', '加快', '发展', '工业', '旅游', '培育', '产业', '新', '动能'],\n ['电影', '《', '战犬', '瑞克斯', '》', '点映', '获赞', '人犬', '情深', '看点', '十足'],\n ['重磅',\n  '！',\n  '前谷',\n  '歌风',\n  '投',\n  '技术',\n  '合伙人',\n  '加盟',\n  '创新',\n  '工场',\n  '，',\n  '任',\n  '首席',\n  '数据',\n  '科学家'],\n ['什么', '软件', '可以', '把', '10', '秒', '的', '小视频', '和', '照片', '拼在一起', '？'],\n ['告别', '午后', '枯燥', '，', '全新', '南昌', '教育', '资讯'],\n ['小米', '上市', '，', '雷军', '要', '化身', '”', '雷', '布斯', '“', '了', '？'],\n ['对付',\n  '分裂',\n  '分子',\n  '什么',\n  '办法',\n  '最好',\n  '？',\n  '教授',\n  '邱毅支',\n  '了',\n  '一招',\n  '，',\n  '蔡',\n  '当局',\n  '心惊肉跳'],\n ['周三', '(', '5', '月', '9', '日', '）', '行情', '预判'],\n ['汶川',\n  '十年',\n  '，',\n  '让',\n  '我',\n  '想到',\n  '了',\n  '巴铁',\n  '，',\n  '你',\n  '的',\n  '人生',\n  '有',\n  '几位',\n  '老铁',\n  '？'],\n ['上联', '：', '杯中', '有', '酒赏', '明月', '，', '怎么', '对', '下联', '？'],\n ['投票', '事件', '过后', '，', '联想', '今后', '的', '日子', '该', '怎样', '走', '？'],\n ['对于', '杨棉', '污染', '国家有关', '部门', '应该', '有所作为'],\n ['《',\n  '复联',\n  '3',\n  '》',\n  '国内',\n  '点映',\n  '后',\n  '的',\n  '真实',\n  '剧透',\n  '！',\n  '全片',\n  '最惨',\n  '的',\n  '三大',\n  '角色',\n  '竟是',\n  '他们',\n  '！'],\n ['福特', '发明', '汽车', '摩托', '一体', '专利', '，', '蝙蝠侠', '战车', '走进', '现实'],\n ['黄德毅', '：', '不', '凋', '的', '思念'],\n ['初中',\n  '毕业',\n  '零',\n  '基础',\n  '，',\n  '去',\n  '技术学校',\n  '学',\n  '计算机',\n  '编程',\n  '怎么样',\n  '？',\n  '这个',\n  '行业',\n  '现在',\n  '可行',\n  '吗',\n  '？'],\n ['如何', '配置', '个人', '资源', '？'],\n ['有人', '听过', '《', '我', '的', '一个', '道姑', '朋友', '》', '这', '首歌', '吗', '？'],\n ['春花', '无数', '，', '毕竟', '何如', '秋实'],\n ['十里', '春风', '不如', '你', '，', '小玉', '为何', '自杀', '？'],\n ['在',\n  '中国',\n  '成功',\n  '捞',\n  '金',\n  '满载而归',\n  '的',\n  '三位',\n  '韩国',\n  '人',\n  '，',\n  '他',\n  '开口',\n  '就要',\n  '一亿'],\n ['刘泽华', '从', '历史', '深处', '，', '破解', '权力', '与', '人性', '密码'],\n ['当初', '的', '玉女', '董洁', '现在', '怎么样', '了', '？'],\n ['品质', '保障', '先行', '看', '北汽', '如何', '为', '新', 'IP', '保驾护航'],\n ['现在', '二手房', '市场', '到底', '怎么样', '，', '真的', '不景气', '吗', '？'],\n ['你', '见', '过', '最', '努力', '的', '人', '现在', '都', '混成', '什么', '样子', '了', '？'],\n ['三星',\n  '跑',\n  '了',\n  '，',\n  '奥林巴斯',\n  '也',\n  '跑',\n  '了',\n  '！',\n  '高房价',\n  '正在',\n  '拖垮',\n  '深圳',\n  '？'],\n ['中国', '的', '航空', '发动机', '怎么样', '？'],\n ['武威市', '文化', '旅游节', '名优特产', '展销', '活动'],\n ['看',\n  '完',\n  '五大',\n  '常任理事',\n  '国',\n  '女兵',\n  '，',\n  '就',\n  '知道',\n  '中国',\n  '女兵',\n  '颜值',\n  '不输',\n  '任何',\n  '国家'],\n ['如果', '美国', '打', '伊朗', '，', '最快', '可以', '多久', '解决', '战斗', '？'],\n ['买房', '什么', '月份', '较', '便宜', '？'],\n ['孙艺珍', '撒娇', '求', '抱抱', '，', '丁海寅', '宠', '溺要', '一辈子', '在', '一起'],\n ['红牛', '车队', '这么', '牛', '，', '为什么', '不', '出', '红牛', '跑车', '？'],\n ['有', '哪些', '申请', '签证', '的', '技巧', '？'],\n ['这才', '是', '两梯', '两户', '高层', '薄板', '户型', '的', '正确', '打开方式'],\n ['当伏', '加特', '撞', '上', '俄罗斯', '，', '他们', '会', '产生', '什么', '效应', '呢', '？'],\n ['“',\n  'AR',\n  '+',\n  'AK',\n  '”',\n  '：',\n  '美俄',\n  '两款',\n  '世界',\n  '名枪',\n  '结合',\n  '可',\n  '快速',\n  '换',\n  '弹匣'],\n ['为什么', '中国', '人到', '非洲', '种', '水稻', '种', '的', '那么', '好', '？'],\n ['现在', '都', '什么', '拓展', '训练项目', '？'],\n ['美育', '是', '什么'],\n ['把',\n  '停车位',\n  '藏',\n  '在',\n  '手机',\n  '里',\n  '，',\n  '王思聪家',\n  '都',\n  '在',\n  '用',\n  '！',\n  '很多',\n  '人',\n  '都',\n  '不',\n  '知道',\n  '…',\n  '…'],\n ['城市公交',\n  '大量',\n  '“',\n  '换血',\n  '”',\n  '“',\n  '它',\n  '”',\n  '的',\n  '身影',\n  '已',\n  '遍布',\n  '半个',\n  '中国'],\n ['中国',\n  '出现',\n  '一新',\n  '军种',\n  '！',\n  '虽',\n  '不',\n  '参加',\n  '战争',\n  '，',\n  '但令',\n  '西方',\n  '国家',\n  '十分',\n  '头疼',\n  '！'],\n ['赵长鹏', '不', '需要', '朋友'],\n ['伊朗', '国力', '如何', '？'],\n ['他',\n  '兑现',\n  '老板',\n  '承诺',\n  '，',\n  '5',\n  '年内',\n  '打造',\n  '铁血',\n  '广厦',\n  '，',\n  '他',\n  '如何',\n  '带领',\n  '广厦',\n  '实现',\n  '梦想',\n  '？'],\n ['高一', '因', '病', '在家', '休学', '一年', '，', '应该', '做', '什么', '事', '？'],\n ['A股',\n  '员工',\n  '最少',\n  '上市公司',\n  '仅',\n  '12',\n  '人',\n  '，',\n  '曾',\n  '是',\n  '芯片',\n  '龙头',\n  '，',\n  '现',\n  '面临',\n  '退市',\n  '风险',\n  '！'],\n ['权健',\n  '不该',\n  '再雪藏',\n  '他',\n  '：',\n  '能力',\n  '堪比',\n  '莫德斯',\n  '特',\n  '，',\n  '曾',\n  '是',\n  '国足',\n  '第一',\n  '中锋',\n  '！'],\n ['苹果',\n  '又',\n  '给',\n  '了',\n  '个',\n  '更新',\n  '的',\n  '理由',\n  '：',\n  '增加',\n  'USB',\n  '限制',\n  '模式',\n  '，',\n  '可以',\n  '让',\n  '破解',\n  '工具',\n  '失效'],\n ['刺激',\n  '战场',\n  '不朽',\n  '：',\n  '别墅区',\n  '如何',\n  '落地',\n  '变',\n  '霸主',\n  '，',\n  '看',\n  '完',\n  '这波',\n  '操作',\n  '你',\n  '还',\n  '会',\n  '怂',\n  '么',\n  '？'],\n ['二战', '未', '打扫战场', '被', '发现', '，', '枪支弹药', '散落', '一地'],\n ['吕佳容',\n  '赴',\n  '戛纳',\n  '回应',\n  '“',\n  '自杀',\n  '传闻',\n  '”',\n  '爆曾',\n  '被',\n  '误认',\n  '古力',\n  '娜',\n  '扎'],\n ['史上', '最强', '斯柯达', '，', '扮猪', '吃', '老虎', '的', '典型', '代表', '！'],\n ['游戏', '主播', '韦神', '绝地', '求生', '在', '职业', '选手', '中是', '什么', '水平', '？'],\n ['NBA',\n  '公布',\n  '季后赛',\n  '最',\n  '高效',\n  '得分手',\n  '，',\n  '塔克',\n  '和',\n  '詹姆斯',\n  '分别',\n  '位列',\n  '两项',\n  '榜单',\n  '榜首',\n  '，',\n  '你',\n  '怎么',\n  '评价',\n  '？'],\n ['她',\n  '从',\n  '跆拳道',\n  '冠军',\n  '到',\n  '演员',\n  '，',\n  '可刚',\n  '可柔',\n  '不断',\n  '改变',\n  '，',\n  '怪不得',\n  '成龙',\n  '会',\n  '看',\n  '上',\n  '她',\n  '！'],\n ['茶水', '架', '，', '现货'],\n ['想',\n  '买',\n  '一款',\n  '海信',\n  '智能',\n  '电视',\n  '50',\n  '寸',\n  '或者',\n  '55',\n  '寸',\n  '，',\n  '有',\n  '什么',\n  '型号',\n  '可以',\n  '推荐',\n  '吗',\n  '？'],\n ['R',\n  '星',\n  '最新',\n  '作',\n  '《',\n  '荒野',\n  '大',\n  '镖客',\n  '2',\n  '》',\n  '宣布',\n  '中文版',\n  '以及',\n  '中文版',\n  '全球',\n  '同步',\n  '发售'],\n ['天津',\n  '旭辉',\n  '匠心',\n  '交付',\n  '，',\n  '完美',\n  '收官',\n  '丨',\n  '一揽',\n  '满园',\n  '芳华',\n  '悦迎',\n  '幸福',\n  '归',\n  '家'],\n ['去',\n  '顺德',\n  '逢',\n  '简',\n  '水乡',\n  '玩',\n  '，',\n  '食',\n  '乜',\n  '好',\n  '？',\n  '乐趣',\n  '推荐',\n  '3',\n  '个',\n  '必食'],\n ['王思聪',\n  '：',\n  '保安',\n  '，',\n  '前面',\n  '有辆',\n  '宾利',\n  '！',\n  '保安',\n  '：',\n  '好勒',\n  '，',\n  '我要',\n  '抬开',\n  '还是',\n  '砸碎',\n  '？'],\n ['非常', '接近', '量产', '版', '名爵', 'ZS', '纯电版谍', '照曝光'],\n ['强者', '不是', '没有', '眼泪', '，', '而是', '含着', '眼泪', '在', '奔跑'],\n ['PS',\n  '大神',\n  '疯玩',\n  '豆豆',\n  '先生',\n  '万用',\n  '表情',\n  '，',\n  '变',\n  '身',\n  '各种',\n  '知名',\n  '角色',\n  '笑果',\n  '十足'],\n ['京东',\n  '2018',\n  '一',\n  '季报',\n  '：',\n  '盈利',\n  '创新',\n  '高',\n  '，',\n  '“',\n  '技术',\n  '投入',\n  '+',\n  '开放',\n  '”',\n  '初显',\n  '溢价',\n  '效应'],\n ['“', '汉语', '桥', '”', '阿富汗', '赛区', '比赛', '落幕'],\n ['20',\n  '多艘',\n  '军舰',\n  '围堵',\n  '俄',\n  '家门口',\n  '，',\n  '普京',\n  '强势',\n  '反击',\n  '：',\n  '若',\n  '不',\n  '撤离',\n  '，',\n  '24',\n  '小时',\n  '击沉',\n  '！'],\n ['中国', '与', '白俄罗斯', '成立', '联合', '设计院', '助推', '两', '国', '合作'],\n ['一个', '人去', '海南', '旅游', '，', '该', '如何', '规划', '行程', '？'],\n ['狗狗', '拉车', '帮主', '人送', '牛奶', '，', '六年', '来', '每天', '两次', '风雨无阻'],\n ['5', '分钟', '读懂', '医疗险', '中', '社保', '相关', '内容'],\n ['世界', '人口', '最多', '的', '十大', '城市', '排名', '，', '中国', '两个', '城市', '榜上有名'],\n ['全国', '数字', '博物馆', '地图', '将', '上线', '覆盖', '1400', '余家', '博物馆'],\n ['大家', '都', '是', '怎么', '评价', '上海', '男人', '的', '？'],\n ['徒步', '穿', '越南', '太行', '，', '抱犊', '峡谷', '之', '一线天'],\n ['全国', '职业', '教育', '“', '奥林匹克', '”', '开赛', '福州', '三', '学子', '摘金'],\n ['最',\n  '常用',\n  '的',\n  '几种',\n  '实用',\n  '绳结',\n  '，',\n  '生活',\n  '中',\n  '常常',\n  '能',\n  '用到',\n  '，',\n  '没',\n  '学会',\n  '就',\n  '太',\n  '可惜',\n  '了'],\n ['美好', '旅程', '万达', '制造'],\n ['顶尖', '的', '艺术作品', '是', '雅俗共赏', '还是', '知音难寻', '？'],\n ['俄罗斯',\n  '的',\n  '“',\n  '里海',\n  '怪物',\n  '”',\n  '重新',\n  '出现',\n  '在',\n  '大众',\n  '视野',\n  '里',\n  '，',\n  '一',\n  '小时',\n  '能',\n  '跑',\n  '550',\n  '公里'],\n ['为什么', '感觉', '俄罗斯', '旅游', '在', '中国', '不是', '很火', '？'],\n ['什么', '是', '电子', '车牌', '？'],\n ['#',\n  '厉害',\n  '了',\n  '我',\n  '的',\n  '海军',\n  '#',\n  '舰载',\n  '直升机',\n  '和',\n  '陆基',\n  '直升机',\n  '的',\n  '设计',\n  '有何',\n  '差别',\n  '？'],\n ['2018', '年', '小麦', '、', '玉米', '和', '大豆', '的', '价格', '走势', '会', '怎么样', '？'],\n ['传',\n  '小米',\n  '估值',\n  '缩水',\n  '三至',\n  '四成',\n  '，',\n  '京东',\n  '发布',\n  'Q1',\n  '财报',\n  '，',\n  '大疆',\n  '融资',\n  '方案',\n  '出台'],\n ['看来',\n  '不止',\n  '是',\n  '电影',\n  '里会',\n  '有',\n  '剧情',\n  '急转',\n  '，',\n  '就',\n  '在',\n  '演唱会',\n  '里',\n  '也',\n  '会',\n  '发生',\n  '这种',\n  '现象'],\n ['马克思', '经济学', '指引', '中国', '经济', '发展', '航向'],\n ['西班牙', '发现', '世界', '上', '最早', '壁画', '由', '尼安德', '特人', '所绘'],\n ['这个',\n  '地方',\n  '还',\n  '可以',\n  '“',\n  '租',\n  '老婆',\n  '”',\n  '60',\n  '块钱',\n  '一天',\n  '，',\n  '感觉',\n  '好像',\n  '很',\n  '便宜',\n  '啊'],\n ['HTC', '的', '手机', '质量', '怎么样', '，', '用', '的', '人', '多', '不', '？'],\n ['大学生', '论文答辩', '尴尬', '瞬间', '，', '有人', '脱衣', '有人', '被', '法官', '当场', '带走'],\n ['5',\n  '月',\n  '11',\n  '日',\n  'EDG',\n  '.',\n  'M',\n  '完封',\n  'WF',\n  '.',\n  'D',\n  '斩获',\n  '六',\n  '连胜',\n  '，',\n  '排名',\n  '从',\n  '东部',\n  '第五',\n  '跃升'],\n ['为什么',\n  '连续',\n  '涨停',\n  '要',\n  '停盘',\n  '调查',\n  '而',\n  '连续',\n  '跌停',\n  '不用',\n  '，',\n  '难道',\n  '涨停',\n  '比',\n  '跌停',\n  '更',\n  '容易',\n  '危害',\n  '证券市场',\n  '的'],\n ['上联', '：', '泰山', '黄山', '赵本山', '，', '如何', '对', '下联', '？'],\n ['申报', '丨', '第十八届', '中国', '青少年', '机器人', '竞赛', '申报', '开始', '啦', '！'],\n ['扒', '一', '扒', '泰国', '化妆品', '，', '好用', '又', '亲民'],\n ['“', '妈祖', '第一', '行宫', '”', '文化', '旅游节', '两岸', '信众', '祈', '和平'],\n ['交通运输',\n  '部',\n  '1',\n  '个',\n  '月',\n  '9',\n  '次',\n  '发文',\n  '密集',\n  '“',\n  '喊话',\n  '”',\n  '网约车',\n  '平台'],\n ['内蒙',\n  '太远',\n  '？',\n  '南京',\n  '六合',\n  '就',\n  '有',\n  '一片',\n  '壮观',\n  '的',\n  '“',\n  '坝上',\n  '草原',\n  '”',\n  '！'],\n ['万达',\n  '影城',\n  '广播',\n  '歧视',\n  '女性',\n  '，',\n  '观看',\n  '《',\n  '复联',\n  '3',\n  '》',\n  '时',\n  '不要',\n  '询问',\n  '超级',\n  '英雄',\n  '姓名'],\n ['《', '红楼梦', '》', '阆', '苑仙葩', '林妹妹'],\n ['给',\n  '你',\n  '一分钟',\n  '时间',\n  '考虑',\n  '，',\n  '做',\n  '我',\n  '的',\n  '专属',\n  '女仆',\n  '，',\n  '还是',\n  '欠债还钱'],\n ['如何',\n  '看待',\n  '目前',\n  '有些',\n  '人',\n  '认为',\n  '希腊',\n  '甚至',\n  '埃及',\n  '历史',\n  '是',\n  '西方人',\n  '造假',\n  '的',\n  '说法',\n  '？'],\n ['多',\n  '国',\n  '军舰',\n  '围堵',\n  '俄',\n  '后院',\n  '！',\n  '普京',\n  '：',\n  '72',\n  '小时',\n  '内',\n  '撤离',\n  '，',\n  '否则',\n  '全部',\n  '摧毁'],\n ['房贷', '额度', '多少', '，', '由', '什么', '决定', '？', '有', '这', '四个', '原因', '！'],\n ['以色列',\n  '警告',\n  '称',\n  '如果',\n  '战机',\n  '被',\n  '击落',\n  '将会',\n  '轰炸',\n  '俄',\n  '军事基地',\n  '，',\n  '你',\n  '怎么',\n  '看',\n  '？'],\n ['京东', '一季度', 'EPS', '不及', '预期', '营收超', '预期'],\n ['这',\n  '四大',\n  '原因',\n  '，',\n  '让',\n  '王者',\n  '荣耀',\n  '无法',\n  '成为',\n  '手游',\n  '霸主',\n  '，',\n  '53',\n  '万',\n  '玩家',\n  '因',\n  '第一个',\n  '退游'],\n ['伊朗',\n  '变数',\n  '推高',\n  '了',\n  '油价',\n  '，',\n  '国际',\n  '原油价格',\n  '会',\n  '重新',\n  '超过',\n  '100',\n  '美元',\n  '吗',\n  '？'],\n ['河南',\n  '这座',\n  '城市',\n  '名',\n  '出现',\n  '在',\n  '《',\n  '西游记',\n  '》',\n  '中',\n  '，',\n  '到处',\n  '可见',\n  '“',\n  '神马',\n  '”'],\n ['买', '电动车', '是', '买雅迪', '的', '好', '还是', '买', '爱玛', '的', '好', '？'],\n ['当萌娃',\n  '遇上',\n  '“',\n  '罗盛教',\n  '”',\n  '，',\n  '会',\n  '产生',\n  '怎样',\n  '的',\n  '“',\n  '化学反应',\n  '”',\n  '？'],\n ['沙特', '为首', '多国联军', '确认', '在', '利雅得', '上空', '拦截', '一枚', '导弹'],\n ['鲁', '哈尼', '：', '即便', '美国', '退出', '伊朗', '也', '将', '继续', '遵守', '伊核', '协议'],\n ['委内瑞拉',\n  '通胀率',\n  '全球',\n  '最高',\n  '，',\n  '飙升',\n  '13779%',\n  '，',\n  '靠',\n  '股市',\n  '和',\n  '比特',\n  '币',\n  '赚钱',\n  '来',\n  '对冲'],\n ['“', '19', '连跌', '”', '来', '了', '，', '怎样', '看待', '下跌', '的', '房价', '？'],\n ['现在',\n  '徐州',\n  '睢宁县',\n  '农村',\n  '拆迁',\n  '，',\n  '按',\n  '每平方',\n  '400',\n  '元到',\n  '600',\n  '元',\n  '，',\n  '这个',\n  '补偿',\n  '是',\n  '按照',\n  '什么',\n  '标准',\n  '？'],\n ['玩乐',\n  '就是',\n  '态度',\n  '！',\n  '宝骏',\n  '510',\n  '“',\n  '颜兽',\n  '潮流',\n  '街区',\n  '”',\n  '嗨',\n  '翻',\n  '郑州'],\n ['云梦县', '会', '融入', '孝感', '，', '成为', '孝感', '的', '一个', '区', '吗', '？'],\n ['玉林',\n  '三环',\n  '陶瓷',\n  '小镇',\n  '陶艺',\n  '体验',\n  '基地',\n  '，',\n  '让',\n  '你',\n  '惊艳',\n  '到',\n  '的',\n  '作品',\n  '长',\n  '啥',\n  '样'],\n ['南京',\n  '周边',\n  '住宅',\n  '「',\n  '马鞍山',\n  '当涂',\n  '金色',\n  '里程',\n  '」',\n  '在售',\n  '面积',\n  '，',\n  '单价',\n  '详情',\n  '「',\n  '官网',\n  '」'],\n ['陕西', '各', '领域', '产业', '搭乘', '“', '一带', '一路', '”', '高速', '列车', '驶向', '国际舞台'],\n ['奉节', '：', '生态', '与', '人文', '成', '招商引资', '两张牌'],\n ['快过', '300', '马力', '钢炮', '，', '厉害', '了', '！', '中国', '车', '！'],\n ['省',\n  '教育厅',\n  '公示',\n  '：',\n  '南通',\n  '这些',\n  '教师',\n  '拟',\n  '选拔',\n  '为',\n  '优秀青年',\n  '骨干',\n  '、',\n  '中青年',\n  '学术',\n  '带头人',\n  '！',\n  '资助',\n  '科研经费',\n  '4'],\n ['为什么', '济南', '大明湖', '的', '青蛙', '自古', '至今', '都', '不', '叫', '？'],\n ['为什么', '茶会', '成为', '世界级', '的', '流行', '饮料', '？'],\n ['为何', '欧美人', '体味', '那么', '重', '？'],\n ['印度',\n  '战机',\n  '坠机',\n  '世界排名',\n  '第一',\n  '，',\n  '飞行员',\n  '若',\n  '牺牲',\n  '能够',\n  '获得',\n  '多少',\n  '赔偿',\n  '？'],\n ['此人',\n  '说',\n  '“',\n  '酒',\n  '”',\n  '是',\n  '“',\n  '猿猴',\n  '”',\n  '发明',\n  '的',\n  '，',\n  '你',\n  '信',\n  '吗',\n  '？'],\n ['蒋介石',\n  '让',\n  '美国',\n  '再',\n  '装备',\n  '50',\n  '个师',\n  '打',\n  '日本',\n  '，',\n  '美国',\n  '人',\n  '的话',\n  '让',\n  '他',\n  '的',\n  '心',\n  '凉了半截'],\n ['中国', '铁路', '建设', '惠及', '海外'],\n ['最火', '偷拍照', '：', '让', '人', '无法', '对', '这个', '世界', '死心'],\n ['5.8', '黄金', '日内', '区间', '震荡', '行情', '分析', '及', '今日', '策略'],\n ['火箭', '第五场', '要', '赢球', '输盘', '-', '11.5'],\n ['中国男篮', '退役', '之后', '转型', '最', '成功', '的', '球员', '有', '哪些', '？'],\n ['贺州',\n  '这个',\n  '县',\n  '将',\n  '迎',\n  '重大',\n  '机遇',\n  '，',\n  '除',\n  '专项资金',\n  '外',\n  '还',\n  '重奖',\n  '1000',\n  '万',\n  '！'],\n ['奥巴马',\n  '任',\n  '总统',\n  '时',\n  '每年',\n  '都',\n  '要',\n  '去',\n  '几次',\n  '的',\n  '“',\n  '公立',\n  '常春藤',\n  '”',\n  '大学',\n  '就是',\n  '它'],\n ['是', '什么', '困住', '了', '我们', '的', '独立思考'],\n ['最大', '的', '问题', '是', '我们', '太想', '明天', '就', '成功'],\n ['唐山', '的', '房价', '还会', '降下来', '吗', '？'],\n ['在', '北京', '能力', '只', '占', '一部分', '，', '学历', '才', '是', '敲门砖', '！'],\n ['唐朝', '开国', '名将', '是', '谁', '？'],\n ['2018', '年', '5', '月', '各', '银行', '信用卡', '每日', '常规', '活动'],\n ['清宫',\n  '小太监',\n  '，',\n  '做',\n  '对',\n  '一事',\n  '成',\n  '慈禧',\n  '眼前',\n  '红',\n  '人',\n  '，',\n  '做错',\n  '一事',\n  '被',\n  '慈安太后',\n  '弄死'],\n ['蕾',\n  '哈娜',\n  '的',\n  '好莱坞',\n  '豪宅',\n  '闯进',\n  '盗贼',\n  '，',\n  '网友',\n  '的',\n  '反应',\n  '却',\n  '有点儿',\n  '不人道',\n  '！'],\n ['中国',\n  '最新',\n  '政策',\n  '出炉',\n  '，',\n  '我国',\n  '军人',\n  '身上',\n  '终于',\n  '可以',\n  '有',\n  '纹身',\n  '了',\n  '？'],\n ['素有',\n  '“',\n  '仙都',\n  '”',\n  '、',\n  '“',\n  '洞天',\n  '之冠',\n  '”',\n  '和',\n  '“',\n  '天下第一',\n  '福地',\n  '”',\n  '的',\n  '美称',\n  '一个',\n  '地方'],\n ['贺州', '樟木', '林镇', '，', '会', '成为', '旅游', '的', '重点', '区', '吗', '？'],\n ['731',\n  '这',\n  '三个',\n  '数字',\n  '让',\n  '中国',\n  '人',\n  '咬牙切齿',\n  '，',\n  '所',\n  '犯罪',\n  '行',\n  '中国',\n  '人',\n  '：',\n  '永世',\n  '不',\n  '忘',\n  '！',\n  '!'],\n ['最美', '龙岩', '学院'],\n ['Windows',\n  '全球',\n  '开发者',\n  '联盟',\n  'GWGC',\n  '开发者',\n  '活动',\n  '日',\n  'OpenDay',\n  '（',\n  '南阳',\n  '站',\n  '）',\n  '即将',\n  '开启'],\n ['越帮', '越忙', '！', '特朗普', '老友', '再', '发声', '救火', '不成', '反', '添乱'],\n ['中国',\n  '旅客',\n  '重返',\n  '韩国',\n  '购物',\n  '，',\n  '乐天',\n  '销售额',\n  '暴涨',\n  '45%',\n  '，',\n  '重返',\n  '国内',\n  '指日可待',\n  '？'],\n ['反', 'mc', '船长', '和', '反', 'mc', '教授', '是', '谁', '？'],\n ['印度', '如何', '看待', '人工智能', '的', '发展', '？'],\n ['为什么', '贾跃亭', '有钱', '拿', '地', '没', '钱', '还债', '？'],\n ['隔',\n  '着',\n  '屏幕',\n  '都',\n  '能',\n  '闻到',\n  '香',\n  '！',\n  '“',\n  '百',\n  '家宴',\n  '”',\n  '凝聚',\n  '舌尖',\n  '上',\n  '的',\n  '邻里',\n  '情'],\n ['阿兰', '高', '拉特', '“', '脚感', '冰凉', '”'],\n ['阿里巴巴',\n  '影业',\n  '集团',\n  '一年',\n  '亏',\n  '16',\n  '个',\n  '亿',\n  '，',\n  '马云',\n  '却说',\n  '，',\n  '表现',\n  '不错',\n  '，',\n  '继续',\n  '烧钱',\n  '！'],\n ['倒计时',\n  '3',\n  '天',\n  '！',\n  '首届',\n  '广东',\n  '茶叶',\n  '产业',\n  '大会',\n  '即将',\n  '盛大',\n  '开幕',\n  '，',\n  '快',\n  '来',\n  '品鉴',\n  '好',\n  '茶',\n  '！'],\n ['打打',\n  '纸牌',\n  '就',\n  '能',\n  '经营',\n  '好',\n  '一家',\n  '餐厅',\n  '，',\n  '还有',\n  '这样',\n  '的',\n  '好事儿',\n  '？'],\n ['范冰冰',\n  '戛纳',\n  '红毯成',\n  '车祸',\n  '现场',\n  '没',\n  '精修',\n  '过',\n  '的',\n  '范冰冰',\n  '吓倒',\n  '一众',\n  '记者'],\n ['云南',\n  '某',\n  '高校',\n  '一对',\n  '情侣',\n  '，',\n  '拍',\n  '完',\n  '毕业',\n  '照',\n  '就',\n  '求婚',\n  '，',\n  '你',\n  '怎么',\n  '看',\n  '？'],\n ['土耳其', '扬言', '：', '哪怕', '摔得', '头破血流', '，', '绝不', '和', '美', '往来', '！'],\n ['《',\n  '权力',\n  '的',\n  '游戏',\n  '》',\n  '琼恩雪诺',\n  '为什么',\n  '不',\n  '骑龙',\n  '，',\n  '非',\n  '要',\n  '坚持',\n  '打尸',\n  '鬼',\n  '？'],\n ['战事', '扩大', '！', '俄军', '终', '“', '动手', '”', ',', '以军', '基地', '惨遭', '空袭'],\n ['中国',\n  '游客',\n  '最',\n  '喜欢',\n  '去',\n  '泰国',\n  '，',\n  '男',\n  '游客',\n  '最',\n  '多',\n  '，',\n  '不',\n  '只是',\n  '旅游',\n  '，',\n  '还有',\n  '更',\n  '重要',\n  '目的'],\n ['全新', '众泰', 'T600', '新', '消息', '曝光', '，', '今年', '年', '中', '上市', '！'],\n ['老兵',\n  '隐姓埋名',\n  '半世纪',\n  '，',\n  '对',\n  '着',\n  '主席',\n  '铜像',\n  '痛哭',\n  '不止',\n  '，',\n  '白发苍苍',\n  '英姿',\n  '依旧'],\n ['古龙',\n  '先生',\n  '作品',\n  '中',\n  '出现',\n  '的',\n  '60',\n  '位',\n  '绝顶',\n  '高手',\n  '，',\n  '大家',\n  '印象',\n  '最深',\n  '的',\n  '是',\n  '哪一位',\n  '？'],\n ['考',\n  '“',\n  '公',\n  '”',\n  '就是',\n  '考',\n  '“',\n  '碗',\n  '”',\n  '？',\n  '女子',\n  '3',\n  '年',\n  '报考',\n  '“',\n  '公考',\n  '”',\n  '数十次'],\n ['在', '镇上', '开', '一家', '儿童乐园', '怎么样', '？'],\n ['中国', '当代', '青年', '的', '“', '归去来', '”'],\n ['阿里', '反超', '腾讯', '，', '市值', '突破', '5000', '亿美元'],\n ['新浪',\n  '孵化',\n  '了',\n  '微博',\n  '，',\n  '互联网',\n  '历史',\n  '上',\n  '还有',\n  '哪些',\n  '成功',\n  '的',\n  '内部',\n  '孵化',\n  '？'],\n ['火箭',\n  '前',\n  '主教练',\n  '麦克',\n  '海尔',\n  '说',\n  '过',\n  ':',\n  '“',\n  '卡',\n  '佩拉',\n  '是',\n  '我',\n  '见',\n  '过',\n  '唯一',\n  '在',\n  '球场',\n  '都',\n  '做'],\n ['深圳市',\n  '共进',\n  '电子',\n  '股份',\n  '有限公司',\n  '关于',\n  '变更',\n  '募集',\n  '资金',\n  '投资',\n  '项目',\n  '的',\n  '公告'],\n ['还珠格格',\n  '：',\n  '皇后',\n  '娘娘',\n  '来漱芳',\n  '斋',\n  '问罪',\n  '，',\n  '五',\n  '阿哥',\n  '和',\n  '小燕子',\n  '做',\n  '了',\n  '这',\n  '两个',\n  '动作'],\n ['对于',\n  '阚清子',\n  '在',\n  '《',\n  '亲爱',\n  '的',\n  '客栈',\n  '》',\n  '里面',\n  '一直',\n  '生气',\n  '，',\n  '你们',\n  '怎么',\n  '看',\n  '？'],\n ['本号', '简历', '及', '业务', '简介'],\n ['直接',\n  '用',\n  '行动',\n  '说话',\n  '！',\n  '一',\n  '盟友',\n  '军事行动',\n  '与',\n  '美',\n  '关键',\n  '决定',\n  '无缝',\n  '衔接',\n  '，',\n  '局势',\n  '恶化'],\n ['普锐斯',\n  '不再',\n  '被',\n  '列为',\n  '“',\n  '环保车',\n  '”',\n  '，',\n  '英国',\n  '要',\n  '禁售',\n  '油电',\n  '混',\n  '动车'],\n ['茶友', '出行', '的', '正确', '姿势', '，', '有', '他', '就', '够', '了'],\n ['外贸',\n  '风口',\n  '大',\n  '转向',\n  '？',\n  '抖音',\n  '推介',\n  '新品',\n  '曝光',\n  '度高',\n  '，',\n  '小',\n  '采购商',\n  '提涨',\n  '明显'],\n ['当',\n  '神奇',\n  '宝贝',\n  '们',\n  '变成',\n  '“',\n  '恐怖片',\n  '”',\n  '画风',\n  '，',\n  '网友',\n  '：',\n  '小编',\n  '你',\n  '还',\n  '我',\n  '童年',\n  '！'],\n ['超', '千亿美元', '的', '全球', '废弃物', '市场', '，', '战争', '遗留物', '占', '大多数'],\n ['国内',\n  '最受',\n  '小朋友',\n  '欢迎',\n  '的',\n  'C',\n  '型',\n  '房车',\n  '，',\n  '12.8',\n  '万',\n  '就',\n  '能',\n  '实现',\n  '孩子',\n  '的',\n  '童话',\n  '梦',\n  '！'],\n ['《', '炉石', '传说', '》', '全民', '实力', '赛', '春季', '赛省赛', '本周', '开启'],\n ['男子',\n  '将',\n  '女友',\n  '头发',\n  '剪掉',\n  '，',\n  '女友',\n  '醒来',\n  '大怒',\n  '，',\n  '称',\n  '：',\n  '不',\n  '分手',\n  '就',\n  '报警'],\n ['《',\n  '复联',\n  '3',\n  '》',\n  '里',\n  '竟然',\n  '有',\n  '三位',\n  '同名',\n  '的',\n  '性感',\n  '超级',\n  '英雄',\n  '，',\n  '你会选',\n  '谁',\n  '？'],\n ['为什么', '农村', '人', '骑', '摩托车', '不', '考驾照', '？'],\n ['上联', '：', '微', '雨蒙蒙', '芳草', '渡', '，', '如何', '对', '下联', '？'],\n ['你',\n  '怎么',\n  '看待',\n  '乔欣',\n  '鹿晗',\n  '的',\n  '鹿心',\n  '夫妇',\n  '和',\n  '鹿晗',\n  '迪丽',\n  '热巴',\n  '的',\n  '陆地',\n  '夫妇',\n  '？'],\n ['被',\n  '甄',\n  '嬛',\n  '所',\n  '威胁',\n  '的',\n  '摩格',\n  '，',\n  '为何',\n  '不',\n  '揭穿',\n  '她',\n  '跟',\n  '允礼',\n  '的',\n  '私情',\n  '？',\n  '其中',\n  '大有',\n  '深意'],\n ['成都',\n  '西门',\n  '踢足球',\n  '最好',\n  '的',\n  '去处',\n  '，',\n  '听说',\n  '在',\n  '这里',\n  '可以',\n  '经常',\n  '偶遇',\n  '李伯清'],\n ['龙珠超', '战力', '排行', '是', '怎样', '的', '？'],\n ['OVM', '-', 'DSI', '合力', '进军', '风电', '领域'],\n ['云波', '小学', '首届', '“', '校长', '杯', '”', '校园', '足球联赛', '开赛'],\n ['特朗普', '与', '奥巴马', '谁', '的', '执政', '能力', '强', '？'],\n ['段子', '手', '我', '只服', '这些', '名人', '，', '个个', '是', '运用', '语言', '的', '高手'],\n ['张馨予', '晒', '旅行', '照', '皮肤', '细腻', '白皙', '嘴角', '带笑'],\n ['中国', '带头', '冲锋', '电池', '之战', '“', '外地', '和尚', '”', '来势汹汹', '抢水', '喝'],\n ['弱猪',\n  '、',\n  '僵猪',\n  '只能',\n  '淘汰',\n  '？',\n  '巧用',\n  '这',\n  '几招',\n  '，',\n  '僵猪',\n  '也',\n  '能',\n  '满血',\n  '复活'],\n ['2018', '初级', '会计职称', '考试', '题型', '有', '哪些', '？', '怎么', '答', '？'],\n ['原来',\n  '这',\n  '四年',\n  '就',\n  '决定',\n  '了',\n  '孩子',\n  '的',\n  '一辈子',\n  '，',\n  '却',\n  '被',\n  '很多',\n  '家长',\n  '奢侈',\n  '地',\n  '挥霍',\n  '掉',\n  '了',\n  '！'],\n ['无所谓',\n  '天下第一',\n  '村',\n  '是不是',\n  '债台高筑',\n  '，',\n  '还是',\n  '多',\n  '关注',\n  '无锡',\n  '华西村',\n  '的',\n  '美景',\n  '吧'],\n ['湘西', '赶尸', '之术', '，', '收徒', '有', '三', '条件', '，', '后', '两个', '太', '怪异', '！'],\n ['如何', '看待', '昆曲', '热', '？'],\n ['七千年',\n  '前',\n  '的',\n  '“',\n  '零口',\n  '姑娘',\n  '”',\n  '，',\n  '竟是',\n  '一个',\n  '双性人',\n  '，',\n  '被',\n  '族人',\n  '群起',\n  '杀死',\n  '！'],\n ['王者',\n  '荣耀',\n  '：',\n  '小乔',\n  '误会',\n  '周瑜',\n  '耍流氓',\n  '，',\n  '两',\n  '扇子',\n  '将',\n  '他',\n  '扇',\n  '死',\n  '，',\n  '只',\n  '因为',\n  '这',\n  '7',\n  '个'],\n ['卡扎菲', '的', '暴', '政体', '现在', '哪些方面', '？'],\n ['英语',\n  '赢',\n  '课堂',\n  '教',\n  '你',\n  '认识',\n  '一种',\n  '美味',\n  '的',\n  '俄罗斯',\n  '食品',\n  '—',\n  '—',\n  '大',\n  '列巴'],\n ['阿里巴巴', '早期', '发展', '简史'],\n ['支付宝', '靠', '谱', '吗', '？'],\n ['从', '替人', '拎包', '到', '世界', '最有', '影响力', '人物'],\n ['lol', '哪些', '区', '才', '是', '郊区', '？'],\n ['董明珠', '是否', '能', '连任', '？', '从', '这件', '事情', '中', '可以', '看出', '端倪'],\n ['特朗普', '的', '数学题', '好难', '解答'],\n ['员工',\n  '头疼',\n  '！',\n  '苹果',\n  '耗资',\n  '4.27',\n  '亿美元',\n  '打造',\n  '“',\n  '太空',\n  '飞船',\n  '”',\n  '总部',\n  '：',\n  '结果',\n  '醉',\n  '了'],\n ['刘伟', '解说', '乒乓球', '比赛', '的', '水平', '如何', '？'],\n ['江西', '的', '庐山', '、', '三清山', '、', '武功山', '，', '哪个', '更美', '？'],\n ['澳洲', '航空', '新', '涂装', 'A380', '起降', '墨尔本', '机场'],\n ['陕西', '古代', '有', '哪些', '有名', '的', '将军', '？'],\n ['千万别',\n  '欺负',\n  '比',\n  '你',\n  '弱',\n  '的',\n  '人',\n  '，',\n  '看看',\n  '这',\n  '一家',\n  '，',\n  '落井下石',\n  '，',\n  '报应',\n  '来',\n  '了'],\n ['老人',\n  '自称',\n  '朱元璋',\n  '后人',\n  '，',\n  '无偿',\n  '捐出',\n  '传承',\n  '600',\n  '年',\n  '的',\n  '朱元璋',\n  '画像',\n  '？'],\n ['做', '自', '媒体', '的', '人', '一般', '用', '什么', '笔记本电脑', '？'],\n ['中国', '在', '亚洲', '的', '外交', '实力', '、', '经济', '影响力', '已超', '美国', '！'],\n ['NBA', '西决', '畅想'],\n ['「', '安青', '印记', '」', '清风明月', '好时光'],\n ['2018', '年', '如果', '骑士', '夺', '不了', '冠军', '，', '詹姆斯', '去', '猛龙', '怎么样', '？'],\n ['传统', '石', '小镇', '的', '新', '变化', '！'],\n ['委国油', '取消', '5', '月', '美', '石油', '进口', '计划'],\n ['上联', '：', '一夜', '春风', '去', '，', '怎么', '对', '下联', '？'],\n ['契丹', '是', '一个', '什么样', '的', '民族'],\n ['蒋欣', '35', '岁', '生日', '晒', '“', '侧颜杀', '”', '美照', '气质', '清纯', '不输', '赵丽颖'],\n ['知名演员', '袁立', '为', '英美法', '空袭', '叙利亚', '点赞', '，', '为什么', '？'],\n ['《',\n  '热血',\n  '狂篮',\n  '》',\n  '华阳',\n  '高校',\n  '现',\n  '“',\n  '篮球',\n  '杀手',\n  '”',\n  '！',\n  '所到之处',\n  '迷妹',\n  '尖叫',\n  '无数'],\n ['大迈', '汽车', '2018', '年', '车主', '关爱', '服务', '活动', '倾情', '献礼'],\n ['《',\n  '复联',\n  '3',\n  '》',\n  '上映',\n  '在',\n  '即',\n  '，',\n  'OnePlus6',\n  '漫威',\n  '复仇者',\n  '联盟',\n  '限量版',\n  '或成',\n  '最酷',\n  '装备'],\n ['回顾', '火箭队', '交易', '克里斯', '-', '保罗'],\n ['「',\n  '人人',\n  '车',\n  '」',\n  '看',\n  '了',\n  '好久',\n  '的',\n  '昂',\n  '科拉',\n  '，',\n  '终于',\n  '被',\n  '我',\n  '接',\n  '回家',\n  '，',\n  '希望',\n  '红色',\n  '带来'],\n ['大',\n  '咖数',\n  '博会',\n  '｜',\n  '阿里巴巴',\n  '：',\n  '大',\n  '数据',\n  '不',\n  '只是',\n  '贵州',\n  '的',\n  '骄傲',\n  '也',\n  '是',\n  '我',\n  '的',\n  '骄傲'],\n ['那颗', '撞击', '地球', '导致', '恐龙', '灭绝', '的', '小行星', '有', '多', '大', '？'],\n ['学会', '好好', '说话', '，', '比', '什么', '都', '重要'],\n ['曾经', '的', '腾讯', '一姐', '，', '如今', '在', '何方', '？'],\n ['阿尔法', '·', '罗密欧', 'Mille', 'Miglia', '一千', '英里', '耐力赛', '首冠', '90', '周年'],\n ['爱', '的', '表情', '包', '，', '我们', '3'],\n ['穷游', '女', '学生', '川藏线', '搭车', '，', '为何', '只', '偏爱', '货车', '老', '司机', '？'],\n ['两只',\n  '狗',\n  '一',\n  '见面',\n  '就',\n  '掐架',\n  '，',\n  '这是',\n  '什么',\n  '意思',\n  '？',\n  '是',\n  '问好',\n  '还是',\n  '宣战',\n  '？'],\n ['华为',\n  '手机',\n  '正确',\n  '的',\n  '清理',\n  '微信',\n  '，',\n  '大家',\n  '都',\n  '还',\n  '不',\n  '知道',\n  '，',\n  '只要',\n  '点击',\n  '这里',\n  '马上',\n  '流畅'],\n ['朱德',\n  '元帅',\n  '五个',\n  '孙子',\n  '的',\n  '现状',\n  '，',\n  '四个',\n  '都',\n  '了不得',\n  '，',\n  '唯有',\n  '一个',\n  '被',\n  '枪毙'],\n ['父爱',\n  '如',\n  '山',\n  '母爱',\n  '如树',\n  '生',\n  '“',\n  '儿',\n  '”',\n  '不凡',\n  '爱',\n  '就',\n  '“',\n  '抖',\n  '”',\n  '出来'],\n ['天龙八部', '中', '的', '五位', '绿帽', '王'],\n ['有戏',\n  '！',\n  'FF91',\n  '抵达',\n  '中国',\n  '，',\n  '股价',\n  '缩水',\n  '39',\n  '倍',\n  '的',\n  '乐视',\n  '“',\n  '翻身',\n  '在',\n  '即',\n  '”',\n  '？'],\n ['DNF',\n  '：',\n  '对不起',\n  '我',\n  '这',\n  '角色',\n  '这',\n  '装备',\n  '没法',\n  '上山',\n  '，',\n  'B',\n  '套',\n  '大佬',\n  '就是',\n  '这么',\n  '优秀'],\n ['智能',\n  '结算',\n  '、',\n  '营养',\n  '管理',\n  '，',\n  '合工大',\n  '智慧',\n  '食堂',\n  '又',\n  '双',\n  '叒',\n  '叕',\n  '上',\n  '了',\n  '央视',\n  '！'],\n ['古巨基',\n  '时隔',\n  '七年',\n  '红馆',\n  '开唱',\n  '，',\n  '大方',\n  '公开',\n  '结婚',\n  '原因',\n  '，',\n  '黄子华',\n  '现身',\n  '引',\n  '骚动'],\n ['在', '农村', '有车', '、', '有', '五六十万', '存款', '算', '有钱', '吗', '？'],\n ['余',\n  '男',\n  '出席',\n  '某',\n  '晚会',\n  '网友',\n  '：',\n  '还是',\n  '喜欢',\n  '你',\n  '短发',\n  '军装',\n  '的',\n  '样子'],\n ['看多', '逃顶', '主图', '源码', '分享', '，', '低吸', '机遇', '来', '提示'],\n ['内蒙古',\n  '这个',\n  '旗',\n  '“',\n  '逆袭',\n  '”',\n  '了',\n  '！',\n  '国务院',\n  '不但',\n  '点名',\n  '表扬',\n  '，',\n  '还要',\n  '优先',\n  '给',\n  '补贴',\n  '！'],\n ['德甲', '大结局', '：', '拜仁', '6', '连冠', '，', '沙尔克', '、', '霍村', '、', '多特', '进欧冠'],\n ['传', '腾讯', '音乐', '启动', 'IPO', '，', '回应', '：', '非官方', '消息', '我们', '不予置评'],\n ['国之重', '器智造', '先锋', '：', '徐工', '再现', '央视', '《', '大国', '重器', 'Ⅱ', '》'],\n ['什么样', '的', '操作系统', '才', '是', '你', '心中', '的', '“', '国产', '操作系统', '”', '？'],\n ['下流社会', '的', '到来', '？', '中国', '能够', '成功', '预防', '吗', '？'],\n ['坡道',\n  '定点',\n  '起步',\n  '与',\n  '停车',\n  '难点',\n  '易错',\n  '点',\n  '分析',\n  '及',\n  '对策',\n  '，',\n  '要',\n  '考试',\n  '的',\n  '必看',\n  '！'],\n ['褒贬不一',\n  '，',\n  '小米',\n  '8',\n  '将',\n  '带来',\n  '8',\n  '项黑',\n  '科技',\n  '，',\n  '不过',\n  '3',\n  '点缺陷',\n  '提前',\n  '暴露'],\n ['为什么', 'ktv', '前面', '都', '有', '个量', '贩', '？'],\n ['农民',\n  '王志强',\n  '“',\n  '我',\n  '网店',\n  '第一',\n  '单',\n  '挣',\n  '了',\n  '四块',\n  '钱',\n  '”',\n  '，',\n  '现在',\n  '他',\n  '回乡',\n  '建',\n  '多个',\n  '农场'],\n ['首次',\n  '开展',\n  '海上',\n  '方向',\n  '实战',\n  '训练',\n  '的',\n  '歼',\n  '20',\n  '，',\n  '会',\n  '在',\n  '对海',\n  '作战',\n  '方面',\n  '发挥',\n  '何种',\n  '作用',\n  '？'],\n ['最具',\n  '特色',\n  '的',\n  '十大',\n  '古村落',\n  '，',\n  '仅',\n  '在',\n  '中国',\n  '才能',\n  '看到',\n  '，',\n  '绝无仅有',\n  '！'],\n ['美国', '独立', '时', '，', '乾隆皇帝', '在', '做', '什么', '？'],\n ['“',\n  '抢人',\n  '大战',\n  '”',\n  '后该',\n  '如何',\n  '留人',\n  '专家',\n  '：',\n  '并非',\n  '靠',\n  '撒',\n  '钱',\n  '就',\n  '能',\n  '实现'],\n ['《',\n  '人性',\n  '光辉',\n  '之美',\n  '━',\n  '━',\n  '中外',\n  '音乐剧',\n  '作品',\n  '欣赏',\n  '会',\n  '》',\n  '公益活动',\n  '预告'],\n ['在', '邯郸', '生活', '，', '月入', '多少', '才能', '买房', '？'],\n ['乒乓球',\n  '员',\n  '王浩',\n  '女朋友',\n  '也',\n  '很漂亮',\n  '，',\n  '乒乓球',\n  '员',\n  '的',\n  '女朋友',\n  '都',\n  '还',\n  '不错'],\n ['王者',\n  '荣耀',\n  '中',\n  '马可波罗',\n  '打野',\n  '遇见',\n  '对面',\n  '阿轲',\n  '打野',\n  '，',\n  '怎么',\n  '出装',\n  '克制',\n  '？'],\n ['黄河', '旅游', '公路', '试验段', '8', '月', '竣工'],\n ['当前', '农业', '新', '业态', '发展', '的', '阶段性', '特征'],\n ['汇午', '报', '，', '你', '最', '关注', '的', '景德镇', '教育', '新闻'],\n ['荞麦面', '饸', '饹', '是', '怎么', '做', '的', '？'],\n ['刘诗',\n  '诗',\n  '出席',\n  '某',\n  '活动',\n  '，',\n  '网友',\n  '：',\n  '你',\n  '这',\n  '腿',\n  '这样',\n  '站',\n  '着',\n  '有点',\n  '影响',\n  '形象',\n  '啊'],\n ['日本', '老人', '的', '晚年生活'],\n ['哪个', '牌子', '的', '游戏', '手柄', '好用', '？'],\n ['如果',\n  '美国',\n  '跟',\n  '以色列',\n  '也',\n  '直接',\n  '介入',\n  '叙利亚',\n  '战争',\n  '，',\n  '俄罗斯',\n  '跟',\n  '伊朗',\n  '会',\n  '怎样',\n  '？'],\n ['面对', '董卿', '的', '三次', '下跪', '采访', '你', '看到', '了', '什么', '？'],\n ['如果', '美国', '国债', '达到', '一百万', '亿美元', '，', '美国会', '跨', '吗', '？'],\n ['人工', '装扮', '塑料', '材质', '枫叶', '，', '市民', '为', '讨得', '好彩头', '与', '树', '合影留念'],\n ['“',\n  '十年',\n  '·',\n  '十人',\n  '”',\n  '汶川',\n  '地震',\n  '十年',\n  '祭',\n  '一代',\n  '芳华',\n  '未尽',\n  '十载',\n  '重生',\n  '记忆'],\n ['申请', '英国大学', '硕士', '，', '这些', '事项', '必须', '了解', '！'],\n ['轻松',\n  '一刻',\n  '：',\n  '除了',\n  '能',\n  '找到',\n  '我',\n  '，',\n  '你',\n  '还',\n  '能',\n  '找',\n  '得到',\n  '什么',\n  '？'],\n ['伊朗', '多次', '怒', '怼', '美军', '，', '世界', '警察', '为何', '数十年', '没', '动手', '？'],\n ['2018', '年', '，', '佛山', '的', '楼价', '会', '跌', '吗', '？'],\n ['57',\n  '岁',\n  '农民',\n  '，',\n  '也',\n  '想',\n  '交',\n  '养老保险',\n  '十五年',\n  '，',\n  '每月',\n  '领',\n  '1300',\n  '元',\n  '的',\n  '，',\n  '可以',\n  '补交',\n  '吗',\n  '？'],\n ['上联',\n  '：',\n  '父',\n  '进士',\n  '，',\n  '子',\n  '进士',\n  '，',\n  '父子',\n  '进士',\n  '，',\n  '下联',\n  '怎么',\n  '接',\n  '？'],\n ['咨询',\n  '研究',\n  '公司',\n  'Gartner',\n  '：',\n  '只有',\n  '1%',\n  '的',\n  '企业',\n  '使用',\n  '区块',\n  '链',\n  '技术'],\n ['老师',\n  '打',\n  '了',\n  '学生',\n  '一',\n  '耳光',\n  '，',\n  '学生',\n  '立刻',\n  '打',\n  '了',\n  '老师',\n  '一',\n  '耳光',\n  '，',\n  '你',\n  '怎么',\n  '看',\n  '？'],\n ['瞻仰', '油山', '陈毅', '故居'],\n ['上课时',\n  '学生',\n  '手机',\n  '响个',\n  '不停',\n  '，',\n  '老师',\n  '一怒之下',\n  '把',\n  '手机',\n  '摔',\n  '了',\n  '，',\n  '家长',\n  '拿',\n  '发票',\n  '让',\n  '老师',\n  '赔',\n  '，'],\n ['小米',\n  '手机',\n  '里面',\n  '屏幕',\n  '大',\n  '一点',\n  '、',\n  '能',\n  '玩游戏',\n  '、',\n  '运行',\n  '不卡',\n  '的',\n  '手机',\n  '，',\n  '有',\n  '哪些',\n  '值得',\n  '推荐',\n  '的'],\n ['大', '金龟', '教', '你', '如何', '拓展', '棋牌', '游戏', '用户'],\n ['深圳', '交警', '铁骑', '微', '电影', '上映'],\n ['美国', '为什么', '支持', '叙利亚', '反对派', '武装', '？'],\n ['老大爷',\n  '7',\n  '小时',\n  '一个',\n  '水果',\n  '也',\n  '没',\n  '卖出去',\n  '，',\n  '偷偷',\n  '留下',\n  '眼泪',\n  '，',\n  '令人',\n  '心酸',\n  '的',\n  '生活'],\n ['一组', '上', '世纪', '五六十年代', '日本', '的', '“', '屈辱', '”', '照'],\n ['“',\n  '安徽',\n  '造',\n  '”',\n  '智能',\n  '仓储',\n  '机器人',\n  '上岗',\n  '能',\n  '背',\n  '元器件',\n  '在',\n  '车间',\n  '游走'],\n ['微信', '小', '程序', '里', '有', '哪些', '好玩', '的', '小游戏', '？'],\n ['大型', '屠狗', '现场', '！', '甜蜜', '恋爱', '动画', '安利', '~'],\n ['玩手', '游', '总', '不爽', '？', '是', '时候', '换', '一部', '像样', '的', '手机', '了'],\n ['不谈', 'clearlove', '，', '如何', '从', '人性', '方面', '评价', '明凯', '这个', '人', '？'],\n ['如何', '看待', '中国', '游戏', '的', '制作', '周期', '？'],\n ['以道', '教育', '，', '大', '数据', '时代', '，', '这些', '人才', '更', '吃香', '！'],\n ['为什么', '道教', '始祖', '太上老君', '却排', '在', '三清', '之末', '？'],\n ['丰田', '的', '殊死', '一战', '：', '今年', '223', '亿美元', '投入', '自动', '驾驶'],\n ['换代', '和', '改款', '到底', '有', '什么', '区别', '？'],\n ['养猪', '知识', '：', '母猪', '合圈', '方法', '检验', '母猪', '是否', '怀孕', '方法'],\n ['贾跃亭',\n  '耗尽',\n  '巨资',\n  '研发',\n  '的',\n  'FF91',\n  '终于',\n  '发售',\n  '？',\n  '网友',\n  '直呼',\n  '：',\n  '老',\n  '贾要',\n  '翻身',\n  '？'],\n ['每月',\n  '7',\n  '万',\n  '零花钱',\n  '的',\n  '富家女',\n  '去',\n  '体验',\n  '穷人',\n  '生活',\n  '，',\n  '嫌',\n  '房子',\n  '太破住',\n  '酒店'],\n ['微博', '的', '第二次', '“', '历史', '转折', '”'],\n ['上港',\n  '与',\n  '鹿岛',\n  '鹿角',\n  '比赛',\n  '中',\n  '，',\n  '武磊',\n  '最后',\n  '时刻',\n  '射失',\n  '5',\n  '米',\n  '的',\n  '单刀球',\n  '，',\n  '你',\n  '怎么',\n  '看',\n  '？'],\n ['种地',\n  '农民',\n  '，',\n  '来',\n  '拿',\n  '补贴',\n  '！',\n  '271.78',\n  '元',\n  '每亩',\n  '，',\n  '直接',\n  '打进',\n  '你',\n  '卡里'],\n ['朱婷崴',\n  '脚',\n  '仍',\n  '坎',\n  '24',\n  '分',\n  '，',\n  '瓦',\n  '基弗',\n  '3',\n  ':',\n  '2',\n  '胜',\n  '意甲',\n  '晋级',\n  '决赛',\n  '，',\n  '剑',\n  '指',\n  '冠军'],\n ['中国', '提出', '这一', '合理要求', '，', '特朗普', '竟', '跳', '出来', '反对', '！'],\n ['张杰',\n  '谢娜',\n  '真怒',\n  '了',\n  '！',\n  '甚至',\n  '不惜',\n  '与',\n  '节目',\n  '撕破脸',\n  '，',\n  '发声明',\n  '要求',\n  '节目组',\n  '道歉',\n  '！'],\n ['网友',\n  '说',\n  '，',\n  '火箭',\n  '与',\n  '勇士',\n  '的',\n  '差距',\n  '就',\n  '在',\n  '勇士',\n  '能够',\n  '防住',\n  '哈登',\n  '，',\n  '火箭',\n  '防',\n  '不住',\n  '杜兰特',\n  '，'],\n ['家装', '效果图', 'CP', '组合'],\n ['智利', '近海', '海域', '发生', '5.1', '级', '地震', '震源', '深度', '19.4', '公里'],\n ['孙正义',\n  '放狠话',\n  '：',\n  '2018',\n  '年',\n  '最',\n  '赚钱',\n  '的',\n  '5',\n  '大',\n  '行业',\n  '，',\n  '坚持',\n  '一年',\n  '财富',\n  '自由'],\n ['谢娜',\n  '在家',\n  '是',\n  '这个',\n  '样子',\n  '的',\n  '，',\n  '在',\n  '外面',\n  '立马',\n  '角色',\n  '转换',\n  '，',\n  '张杰',\n  '反而',\n  '没',\n  '时间'],\n ['印度尼西亚', '周在', '沪', '举办', '上海', '与', '雅加达', '结', '姐妹', '城市'],\n ['生涯',\n  '从未',\n  '获得',\n  '过',\n  'NBA',\n  '总冠军',\n  '的',\n  '麦蒂',\n  '，',\n  '为何',\n  '能',\n  '入选',\n  '名人堂',\n  '？'],\n ['看好', '你', '的', '女朋友', '这样', '的', '产品', '她们', '一定', '会', '买', '的'],\n ['「', '奶头', '乐', '理论', '」', '｜', '我们', '将', '毁于', '我们', '热爱', '的', '东西'],\n ['如果', '一架', '飞机', '被', '龙卷风', '卷入', '会', '发生', '什么', '？'],\n ['马',\n  '天宇',\n  '再',\n  '晒',\n  '外甥',\n  '，',\n  '小家伙',\n  '眼睛',\n  '都',\n  '被',\n  '蚊子',\n  '咬肿',\n  '了',\n  '，',\n  '他',\n  '却',\n  '乐得',\n  '哈哈笑',\n  '！'],\n ['兰州',\n  '新区',\n  '牡丹',\n  '节',\n  '就要',\n  '开始',\n  '了',\n  '，',\n  '这个',\n  '夏天',\n  '的',\n  '新区',\n  '有点',\n  '不',\n  '一样',\n  '哦',\n  '~'],\n ['如何', '看待', '苗阜', '受聘', '西北大学', '担任', '兼职', '教授', '？'],\n ['苹果', '的', 'A11', '芯片', '相当于', '电脑', '的', '哪款', 'CPU', '？'],\n ['LOL', '：', '如今', '铺天盖地', '的', '售卖', '活动', '是否', '让', '你', '无所适从'],\n ['阿胶', '糕', '可', '随便', '吃', '吗', '？'],\n ['俄罗斯',\n  '明天',\n  '举行',\n  '胜利',\n  '日大',\n  '阅兵',\n  '，',\n  '普京',\n  '此前',\n  '提起',\n  '的',\n  '“',\n  '大杀器',\n  '”',\n  '会',\n  '亮相',\n  '吗',\n  '？'],\n ['储能', '抢眼', '靠', '什么', '？', '果然', '都', '是', '神', '助攻', '啊', '！'],\n ['一首',\n  '《',\n  '爱情',\n  '路上',\n  '风雨',\n  '多',\n  '》',\n  '太',\n  '醉人',\n  '！',\n  '风雨',\n  '人生路',\n  '，',\n  '我',\n  '陪',\n  '你',\n  '一生',\n  '！'],\n ['杨元庆', '是', '个', '优秀', '的', '企业家', '吗', '？'],\n ['今年',\n  '季后赛',\n  '扣篮',\n  '数排',\n  '前',\n  '6',\n  '的',\n  '球星',\n  '，',\n  '詹姆斯',\n  '上榜',\n  '，',\n  '灯泡',\n  '助卡',\n  '佩拉',\n  '登顶'],\n ['王者',\n  '荣耀',\n  '巅峰',\n  '赛',\n  '可以',\n  '五排',\n  '了',\n  '？',\n  '孤影',\n  '偶遇',\n  '五个',\n  '虎牙',\n  '主播',\n  '，',\n  '只能',\n  '认栽'],\n ['伊拉克', '国民议会', '选举', '前', '加强', '安保'],\n ['腾冲', '手工', '抄纸', '流传', '的', '文化', '血脉'],\n ['新能源', '汽车', '充', '一次', '电', '需要', '多少', '钱', '？'],\n ['99%',\n  '的',\n  '遵义',\n  '人',\n  '都',\n  '不',\n  '知道',\n  '少',\n  '吃',\n  '一斤',\n  '小龙虾',\n  '，',\n  '离',\n  '你',\n  '的',\n  '梦想',\n  '更进一步'],\n ['房地产', '空置', '税是', '什么', '？'],\n ['加装', '车窗', '亮条', '年检', '能过', '吗', '？'],\n ['《', '天龙八部', '》', '中乔峰', '为什么', '一定', '要死', '？'],\n ['仁寿',\n  '光明',\n  '路',\n  '红绿灯',\n  '、',\n  '高家',\n  '路烂',\n  '、',\n  '噪音',\n  '扰民',\n  '…',\n  '…',\n  '这些',\n  '问题',\n  '已',\n  '解决'],\n ['二手房', '税费', '怎么', '计算', '？', '满五', '唯一', '能省', '多少', '钱', '？'],\n ['秦始皇',\n  '曾祖',\n  '留下',\n  '一项',\n  '伟大工程',\n  '，',\n  '历经',\n  '两千多年',\n  '，',\n  '8',\n  '级',\n  '地震',\n  '都',\n  '无法',\n  '摧毁'],\n ['凯西', '教练', '赛后', '的', '一番话', '令人', '难过', '，', '他会', '辞职', '吗', '？'],\n ['生猪',\n  '价格',\n  '下跌',\n  '，',\n  '离不开',\n  '进口',\n  '肉',\n  '和',\n  '猪场',\n  '扩建',\n  '，',\n  '但',\n  '这个',\n  '原因',\n  '最',\n  '可恨',\n  '！'],\n ['为什么', '在', '农村', '同村', '结婚的人', '非常少', '？'],\n ['棋牌', '游戏', '大', '市场'],\n ['王者',\n  '荣耀',\n  '：',\n  '公孙',\n  '离',\n  '也',\n  '成为',\n  '新一代',\n  '孤儿',\n  '？',\n  '你',\n  '对',\n  '阿离',\n  '的',\n  '认识',\n  '有多深',\n  '？'],\n ['母奶', '是', '怎么', '保存', '的', '，', '可以', '保存', '多久', '？'],\n ['中国工商银行',\n  '是',\n  '世界',\n  '第一',\n  '大',\n  '银行',\n  '，',\n  '为什么',\n  '它',\n  '的',\n  '市值',\n  '那么',\n  '低',\n  '？'],\n ['珠海', '香洲区', '格力', '小学', '在', '哪', '？'],\n ['国防教育', '的', '重要性', '到底', '是', '什么', '？'],\n ['人工智能',\n  '应用',\n  '于',\n  '计算机',\n  '游戏',\n  '，',\n  '主要',\n  '运用',\n  '了',\n  '哪些',\n  '人工智能',\n  '技术',\n  '？'],\n ['保定', '有', '哪些', '有名', '的', '明星', '？'],\n ['南四环', '先行', '军', '的', '战术', '胜利'],\n ['真的', '太', '意外', '强悍', '国家', '竟然', '从', '中国', '购买', '千架', '无人机'],\n ['李沐琛', '5.8', '美指', '高歌', '黄金', '止跌', '三连', '盘整', '原油', '毕露', '原型', '多'],\n ['汽车', '最', '多', '持续', '行驶', '几个', '小时', '？'],\n ['泰国',\n  '旅游',\n  '不买',\n  '东西',\n  '导游',\n  '大骂',\n  '游客',\n  '，',\n  '游客',\n  '害怕',\n  '私自',\n  '脱团',\n  '被',\n  '导游',\n  '追',\n  '，',\n  '你',\n  '怎么',\n  '看',\n  '？'],\n ['公摊面积', '合理', '么', '？', '为什么', '不', '取消', '公摊', '呢', '？'],\n ['为什么', '券商', '先', '知道', '中签号', '？'],\n ['理工科',\n  '的',\n  '进',\n  '！',\n  '2018',\n  '欧洲',\n  '最具',\n  '创新力',\n  '大学排名',\n  '出炉',\n  '，',\n  '曼大逆袭',\n  '！'],\n ['历史', '上', '的', '十大', '军事', '人才', '有', '谁', '？'],\n ['美国',\n  '过河拆桥',\n  '，',\n  '白',\n  '头盔',\n  '公开',\n  '爆料',\n  '，',\n  '没想到',\n  '美方',\n  '丝毫',\n  '不怕',\n  '态度',\n  '嚣张'],\n ['《',\n  '雍正',\n  '王朝',\n  '》',\n  '里',\n  '为什么',\n  '雍正',\n  '明',\n  '知道',\n  '邬思道',\n  '与',\n  '秋月',\n  '相爱',\n  '，',\n  '却',\n  '不',\n  '成全',\n  '他们',\n  '，',\n  '还要'],\n ['所有', '的', '创业', '，', '都', '始于', '贪婪', '和', '想当然'],\n ['实现', '金融监管', '全', '覆盖', '须', '做实', '地方', '金融监管'],\n ['王者',\n  '荣耀',\n  '：',\n  '信白',\n  '再次',\n  '被',\n  '削成',\n  '狗',\n  '！',\n  '苏烈',\n  '梦奇',\n  '也',\n  '削',\n  '了',\n  '！'],\n ['雅马哈', '一万', '以下', '可以', '买', '哪款', '跨骑', '？'],\n ['深圳', '周边', '最具', '潜力', '楼市', '在', '哪', '？'],\n ['父亲',\n  '在',\n  '山西',\n  '称王称霸',\n  '，',\n  '儿子',\n  '在',\n  '美国',\n  '落魄',\n  '艰难度日',\n  '，',\n  '靠开',\n  '货车',\n  '为生',\n  '！'],\n ['炒', '期货', '能', '成', '亿万富豪', '吗', '？'],\n ['伊郎',\n  '强硬',\n  '反击',\n  '，',\n  '就',\n  '西方',\n  '要求',\n  '对',\n  '其',\n  '导弹',\n  '防御',\n  '系统',\n  '进行谈判',\n  '，',\n  '表明',\n  '了',\n  '什么',\n  '？'],\n ['为什么',\n  '诗词',\n  '大会',\n  '竞争者',\n  '即使',\n  '全部',\n  '答对',\n  '也',\n  '不能',\n  '晋级',\n  '？',\n  '是',\n  '规则',\n  '不合理',\n  '吗',\n  '？'],\n ['怎样', '能', '把', '孩子', '送入', '985', '大学', '？'],\n ['冲突',\n  '迫近',\n  '！',\n  '伊朗',\n  '屡遭',\n  '空袭',\n  '何时',\n  '将',\n  '发动',\n  '反击',\n  '？',\n  '全世界',\n  '只',\n  '剩',\n  '一个',\n  '悬念'],\n ['高三',\n  '学生',\n  '加紧',\n  '复习',\n  '迎战',\n  '高考',\n  '毛坦厂',\n  '中学',\n  '会',\n  '再现',\n  '万人',\n  '送考',\n  '景象',\n  '吗',\n  '？'],\n ['「',\n  '十年',\n  '」',\n  '探访',\n  '劫后',\n  '重生',\n  '的',\n  '佳',\n  '山村',\n  '：',\n  '脱贫致富',\n  '，',\n  '不忘党',\n  '恩',\n  '！'],\n ['韩', '“', '霸道', '二', '小姐', '”', '坑爹', '又', '坑', '妈'],\n ['湖北', '道路', '运输', '从业', '资格证', '办理', '流程'],\n ['乐天', '玛特要', '回来', '了', '？'],\n ['拼购', '商城', '平台', '，', '上架', '汽车', '拼', '单会', '怎么样', '？'],\n ['中国', '首次', '披露', '远', '轰', '正面', '轮廓', '绝密', '项目', '高调', '官宣'],\n ['风吹', '白云飞', '，', '星观', '龙虎斗', '。', '如何', '接句', '？'],\n ['05.09',\n  '财经',\n  '晚餐',\n  '：',\n  '线下',\n  '理财',\n  '不',\n  '可靠',\n  '：',\n  '中融民信',\n  '传',\n  '被',\n  '侦查'],\n ['人',\n  '的',\n  '聪明',\n  '富贵',\n  '福报',\n  '，',\n  '相貌',\n  '漂亮',\n  '俊美',\n  '，',\n  '来自',\n  '哪几种',\n  '布施',\n  '？'],\n ['将帅',\n  '无能',\n  '+',\n  '管理层',\n  '无',\n  '作为',\n  '！',\n  '广州',\n  '恒大',\n  '遭遇',\n  '建队',\n  '历史',\n  '最大',\n  '危机',\n  '！'],\n ['dnf',\n  '心动',\n  '表白',\n  '季',\n  '怎么',\n  '跟',\n  'npc',\n  '表白',\n  '？',\n  '红色',\n  '魔女',\n  '/',\n  '奥菲利',\n  '亚',\n  '/',\n  '猎手',\n  '伯恩',\n  '表白'],\n ['《',\n  '偶像',\n  '练习生',\n  '》',\n  '高',\n  '人气',\n  '成员',\n  '都',\n  '来',\n  '参加',\n  '跑',\n  '男',\n  '，',\n  '除了',\n  '这位',\n  '遗憾',\n  '缺席'],\n ['为什么', '印度人', '体育', '那么', '差', '？'],\n ['长虹', '整体', '搬迁', '，', '绵阳', '哪些', '区域', '受', '影响', '？'],\n ['复仇者', '联盟', '3', '的', '精髓'],\n ['上联', '：', '院中', '红杏多', '浇水', '，', '下联', '怎么', '对', '？'],\n ['联想', '把', '票', '投给', '高通', '是', '为了', '拿下', '855', '的', '首发', '吗', '？'],\n ['美国',\n  '野心',\n  '暴露',\n  '！',\n  '叙利亚',\n  '战火',\n  '未',\n  '熄',\n  '，',\n  '中东',\n  '另',\n  '一',\n  '火药桶',\n  '再',\n  '被',\n  '特朗普',\n  '点燃'],\n ['心中', '是否', '始终', '能', '保留', '一片', '净土', '？'],\n ['实拍', '战死', '在', '冰雪', '里', '的', '一战', '士兵'],\n ['宇宙',\n  '中',\n  '没有',\n  '大气',\n  '，',\n  '飞船',\n  '在',\n  '太空',\n  '中',\n  '飞行',\n  '靠',\n  '什么',\n  '推进',\n  '？'],\n ['B52', '飞', '冲绳', '台媒', '：', '是', '在', '练习', '攻击', '大陆', '航母'],\n ['中东',\n  '又',\n  '一场',\n  '大战',\n  '迫在眉睫',\n  '！',\n  '两强',\n  '互相',\n  '威胁',\n  '开战',\n  '美俄',\n  '都',\n  '拦不住'],\n ['俗话说', '“', '三九', '四九', '”', '，', '那么', '每一九是', '几天', '？'],\n ['产业布局', '，', '旧改', '驱动', '，', '大鹏', '楼市', '要', '展翅高飞', '了', '吗', '？'],\n ['迈腾',\n  '车主',\n  '故事',\n  '：',\n  '从',\n  '“',\n  '驾驶者',\n  '之车',\n  '”',\n  '到',\n  '“',\n  '无敌',\n  '后排',\n  '”'],\n ['白百何',\n  '出席',\n  '发布会',\n  '网友',\n  '：',\n  '这',\n  '身',\n  '装扮',\n  '有点',\n  '通透',\n  '，',\n  '怎么',\n  '看',\n  '都',\n  '漂亮',\n  '！'],\n ['17', '万左右', '有', '什么', '轿车', '推荐', '？'],\n ['丁彦雨航',\n  '事业',\n  '如日中天',\n  '之际',\n  '，',\n  '女友',\n  '宣布',\n  '分手',\n  '，',\n  '接受',\n  '不了',\n  '对方',\n  '生活',\n  '方式'],\n ['第三方',\n  '支付',\n  '公司',\n  '点佰趣',\n  '上市',\n  '成功',\n  '，',\n  '背后',\n  '的',\n  '故事',\n  '你',\n  '知道',\n  '多少',\n  '？'],\n ['欲建',\n  '中国',\n  '第',\n  '1',\n  '高楼',\n  '，',\n  '身家',\n  '一天',\n  '缩水',\n  '854',\n  '亿',\n  '，',\n  '今花',\n  '25',\n  '亿',\n  '买房',\n  '成',\n  '李嘉诚',\n  '邻居'],\n ['商务部',\n  '全面',\n  '部署',\n  '“',\n  '消费',\n  '升级',\n  '行动计划',\n  '”',\n  '将',\n  '适时',\n  '出台',\n  '措施',\n  '扩大',\n  '中',\n  '高端',\n  '商品',\n  '进口'],\n ['绿巨人',\n  '为何',\n  '《',\n  '复联',\n  '3',\n  '》',\n  '不敢',\n  '出现',\n  '？',\n  '导演',\n  '透露',\n  '了',\n  '原因',\n  '，',\n  '并',\n  '不是',\n  '被',\n  '揍',\n  '怕',\n  '了'],\n ['上联', '：', '泰山', '黄山', '赵本山', '，', '如何', '对', '下联', '？'],\n ['方舟子',\n  '说',\n  '象棋',\n  '源自',\n  '印度',\n  '，',\n  '中国',\n  '古代',\n  '没有',\n  '大象',\n  '，',\n  '你',\n  '也',\n  '这样',\n  '认为',\n  '吗'],\n ['詹姆斯',\n  '：',\n  '无论',\n  '今晚',\n  '我',\n  '打',\n  '得',\n  '有',\n  '多',\n  '差',\n  '，',\n  '我',\n  '也',\n  '并',\n  '不',\n  '担忧'],\n ['五一', '让', '游客', 'COS', '劳动', '人民', '张家界', '百龙', '天梯', '太逗', '了', '！'],\n ['虎牙',\n  'tv',\n  '开创',\n  '直播',\n  '界',\n  '先河',\n  '！',\n  '平台',\n  '带',\n  '节奏',\n  '，',\n  '“',\n  '临时工',\n  '”',\n  '道歉',\n  '？'],\n ['如何',\n  '看待',\n  '阿里',\n  '钉',\n  '钉',\n  'CEO',\n  '的',\n  '言论',\n  '：',\n  '不',\n  '知道',\n  '你们',\n  '10',\n  '点',\n  '之前',\n  '下班',\n  '干嘛',\n  '？'],\n ['dnf',\n  '：',\n  '另类',\n  '操作',\n  '，',\n  '一不小心',\n  '就',\n  '上',\n  '了',\n  '15',\n  '，',\n  '但',\n  '这',\n  '武器',\n  '为什么',\n  '不是',\n  '金闪闪',\n  '？'],\n ['女人',\n  '年过半百',\n  '，',\n  '每当',\n  '跟',\n  '儿子',\n  '出门',\n  '，',\n  '都',\n  '让',\n  '女人',\n  '感到',\n  '尴尬',\n  '不已'],\n ['球队', '陷', '困境', '，', '这次', '挺身而出', '的', '会', '是', '埃', '尔克', '森', '吗', '？'],\n ['永春', '东关', '镇', '东关', '村民', '“', '陈', '西瓜', '”', '又', '请', '老人', '旅游', '了'],\n ['为什么', '很多', '人', '都', '喜欢', '去', '日本', '旅游', '？'],\n ['上海财经大学',\n  '、',\n  '中央财经',\n  '大学',\n  '、',\n  '对外经济贸易大学',\n  '，',\n  '三者',\n  '之间',\n  '应该',\n  '如何',\n  '选择',\n  '？'],\n ['两个', '人去', '张家界', '，', '三天', '大概', '需要', '多少', '钱', '？'],\n ['临沂',\n  '农',\n  '商行',\n  '（',\n  '信用社',\n  '）',\n  '股金',\n  '分红',\n  '怎么样',\n  '？',\n  '最近',\n  '几年',\n  '如何',\n  '分配',\n  '？'],\n ['刺激', '战场', '中', '训练场', '模式', '有', '吉利', '服', '？'],\n ['素有',\n  '看',\n  '中国',\n  '，',\n  '来',\n  '宝鸡',\n  '之称',\n  '的',\n  '陕西',\n  '宝鸡',\n  '，',\n  '有',\n  '什么',\n  '出名',\n  '的',\n  '东西',\n  '吗'],\n ['吉大', '师生', '深入', '古丈县', '机关', '幼儿园', '调研', '“', '环创', '”'],\n ['大众汽车', '质量', '如何', '？'],\n ['他',\n  '曾经',\n  '没有',\n  '收入',\n  '靠',\n  '女友',\n  '养活',\n  '8',\n  '年',\n  '，',\n  '现在',\n  '功成名就',\n  '，',\n  '坐拥',\n  '无数',\n  '豪车'],\n ['俄罗斯',\n  '红场',\n  '大',\n  '阅兵',\n  '即将',\n  '开始',\n  '，',\n  '带',\n  '你',\n  '探访',\n  '不',\n  '一样',\n  '的',\n  '红场',\n  '广场'],\n ['如何', '评价', '康震', '？'],\n ['门窗', '加盟', '的话', '，', '选择', '哪个', '品牌', '的', '比较', '好', '呢', '？'],\n ['森林', '人', '2018', '款', '和', '2019', '款', '，', '该', '如何', '选择', '？'],\n ['柯洁',\n  '欲',\n  '拜师',\n  '击败',\n  '过',\n  '自己',\n  '的',\n  '“',\n  '那位',\n  '”',\n  '！',\n  '发问',\n  '：',\n  '现在',\n  '学',\n  '编程',\n  '来得及',\n  '吗',\n  '？'],\n ['手机',\n  '耳机',\n  '还',\n  '隐藏',\n  '着',\n  '这个',\n  '小',\n  '功能',\n  '，',\n  '用',\n  '了',\n  '这么久',\n  '才',\n  '知道',\n  '，',\n  '赶快',\n  '试试'],\n ['为何', '古代', '女性', '注重', '“', '贞洁', '”', '？'],\n ['激光', '打标', '食品', '食品', '光纤', '激光', '打标机'],\n ['我白户', '，', '为什么', '不', '给', '我', '贷款', '？'],\n ['昂山', '素季', '真的', '离开', '了', '吗'],\n ['漫威',\n  '菜鸟',\n  '必看',\n  '：',\n  '《',\n  '复仇者',\n  '联盟',\n  '3',\n  '》',\n  '将',\n  '上映',\n  '！',\n  '30',\n  '多位',\n  '超级',\n  '英雄',\n  '何许人',\n  '？'],\n ['叙利亚',\n  '难民',\n  '被',\n  '刺',\n  '6',\n  '次命',\n  '悬',\n  '一线',\n  '，',\n  '凶手',\n  '曾',\n  '大喊',\n  '，',\n  '你',\n  '怎么',\n  '还',\n  '不',\n  '回国',\n  '，',\n  '可怕'],\n ['特朗普', '退出', '伊朗核', '协议'],\n ['怎么', '远离', '一个', '不', '值得', '交往', '的', '人', '？'],\n ['冲绳',\n  '孤岛',\n  '度假',\n  '石原',\n  '里',\n  '美',\n  '疑似',\n  '新',\n  '恋情',\n  '曝光',\n  '对方',\n  '为',\n  '小',\n  '一岁',\n  '的',\n  'IT',\n  '社长'],\n ['不',\n  '使用',\n  '核武器',\n  '的',\n  '前提',\n  '下',\n  '，',\n  '哪',\n  '十个',\n  '国家',\n  '最难',\n  '被',\n  '他国',\n  '侵略',\n  '，',\n  '为什么',\n  '？'],\n ['鲜', '面条', '与', '挂面', '哪个', '更', '安全', '？'],\n ['性情中人',\n  '威廉姆斯',\n  '，',\n  '夺冠',\n  '后',\n  '展示',\n  '另类',\n  '庆祝',\n  '方式',\n  '，',\n  '这',\n  '酒量',\n  '…',\n  '…'],\n ['合资', '中级车', '居然', '比', '紧凑', '级车', '还', '便宜'],\n ['迪丽', '热巴', '拍摄', '写真', '展现', '成熟', '魅力'],\n ['古色古香', '，', '亦', '古亦今', '！'],\n ['中型',\n  '硬派',\n  '越野车',\n  '，',\n  '自动挡',\n  '配采',\n  '埃孚',\n  '6AT',\n  '，',\n  '12',\n  '万',\n  '全年',\n  '仅销',\n  '4',\n  '千辆'],\n ['强势',\n  '回应',\n  '以',\n  '大规模',\n  '轰炸',\n  '，',\n  '叙',\n  '政府军',\n  '突然',\n  '发力',\n  '，',\n  '出动',\n  '战机',\n  '实施',\n  '空袭',\n  '报复'],\n ['有', '哪些', '比较', '好', '的', '自考', '教学', 'APP', '？'],\n ['预计',\n  '参展',\n  '面积',\n  '将',\n  '达',\n  '1',\n  '万平方米',\n  '，',\n  '日企',\n  '加速',\n  '“',\n  '抢滩',\n  '”',\n  '进口',\n  '博览会'],\n ['堪比', '大片', '犯罪团伙', '利用', '秘密武器', '阻碍', 'FBI', '救援', '人质'],\n ['日本',\n  '和',\n  '以色列',\n  '为什么',\n  '会',\n  '在',\n  '贫瘠',\n  '的',\n  '土地',\n  '上',\n  '建立',\n  '起',\n  '高度发达',\n  '的',\n  '国家',\n  '？'],\n ['2018', '年', '有', '哪些', '最潮', '最', '流行', '的', '心情', '说', '说', '？'],\n ['长三角', '地区', '经济', '实力', '较为', '强劲', '的', '是', '哪', '一个', '省市', '？'],\n ['原来', '定制', '辆', '属于', '自己', '的', '车', '，', '就', '跟', '点', '外卖', '一样', '简单'],\n ['《', 'DOTA2', '》', 'TI8', '勇士', '令状', '上架', '奖金', '已超', '310', '万美元'],\n ['火山', '小视频', '助力', '共青团', '“', '网络', '青晚', '”'],\n ['虎牙',\n  '成功',\n  '上市',\n  '？',\n  'D',\n  '轮',\n  '融资',\n  '都',\n  '没有',\n  '就',\n  '急',\n  '着',\n  '美股',\n  '上市',\n  '，',\n  '装样子',\n  '罢了'],\n ['俄罗斯',\n  '经济',\n  '实力',\n  '还',\n  '不如',\n  '韩国',\n  '，',\n  '为什么',\n  '能',\n  '成为',\n  '世界',\n  '数一数二',\n  '的',\n  '强国',\n  '？'],\n ['LOL', '有', '哪些', '一级', '不用', '帮', '也', '不伤', '的', '打野', '？'],\n ['七步', '思考', '法', '，', '解决', '你', '项目', '中', '的', '问题'],\n ['二',\n  '三线',\n  '城市',\n  '为争',\n  '区块',\n  '链',\n  '之',\n  '都',\n  '下',\n  '血本',\n  '，',\n  '但',\n  '破局',\n  '之策',\n  '却是',\n  '…',\n  '…'],\n ['军纪',\n  '严明',\n  '！',\n  '恒大',\n  '就',\n  '张琳芃',\n  '球衣',\n  '事件',\n  '公布',\n  '处罚',\n  '：',\n  '经理',\n  '领队',\n  '各降',\n  '三级',\n  '工资'],\n ['当今', '斯诺克', '控球', '大师', '，', '能', '进前', '十', '的', '都', '有', '谁', '？'],\n ['为什么', '很多', '人', '讨厌', '杨影', '的', '解说', '，', '宁可', '静音', '？'],\n ['“', '5.12', '防震', '减灾', '日', '”', '临近', '杨鸣', '录制', '公益广告'],\n ['“', '五星', '出', '东方', '利', '中国', '”', '怎么', '解释', '，', '意味着', '什么', '？'],\n ['阿森纳',\n  '只',\n  '送温暖',\n  '从不',\n  '拿',\n  '人',\n  '一针一线',\n  '！',\n  '创',\n  '2018',\n  '年',\n  '客场',\n  '全败',\n  '耻辱',\n  '纪录'],\n ['青川', '郁郁', '生长', '不停息'],\n ['诸葛亮', '专属', '特效', '即将', '上线', '，', '心动', '时刻', '击败', '特效', '预览'],\n ['360',\n  '手机',\n  '突然',\n  '不能',\n  '充电',\n  '了',\n  '，',\n  '需要',\n  '关机',\n  '重启',\n  '才能',\n  '充电',\n  '，',\n  '是',\n  '怎么回事',\n  '？'],\n ['5G', '加速', '，', '尽快', '跟', '2G', '/', '3G', '说', '拜拜'],\n ['如果',\n  '中国',\n  '所有',\n  '手机',\n  '厂商',\n  '都',\n  '拒绝',\n  '使用',\n  '高通',\n  '芯片',\n  '，',\n  '会',\n  '有',\n  '什么',\n  '后果',\n  '？'],\n ['12',\n  '日',\n  '热点新闻',\n  '：',\n  '「',\n  '特稿',\n  '」',\n  '震后',\n  '十年',\n  '，',\n  '见证',\n  '我国',\n  '“',\n  '太空',\n  '救援队',\n  '”',\n  '的',\n  '惊人',\n  '蜕变'],\n ['此生', '愿得', '一', '小院', '，', '关心', '粮食', '和', '蔬菜'],\n ['「', '国学', '经典', '·', '德治', '纸坊', '」', '孟宗', '哭', '竹'],\n ['C1', '怎么', '增加', '到', 'A1', '？'],\n ['大', '风险', '来', '了', '！', '你', '买', '的', '理财', '还', '安全', '吗', '？'],\n ['对', '你', '而言', '，', '噩梦', '学科', '是', '哪门', '或', '哪', '几门', '学科', '？'],\n ['重庆',\n  '皇冠',\n  '大',\n  '扶梯',\n  '，',\n  '总长度',\n  '为',\n  '112',\n  '米',\n  '垂直',\n  '高度',\n  '为',\n  '52.7',\n  '米'],\n ['上周', '刷', '爆', '朋友圈', '的', '扎心', '广告', '，', '翻译成', '英文版', '送给', '你'],\n ['夏天',\n  '开车',\n  '太费油',\n  '？',\n  '用',\n  '上',\n  '这',\n  '一招',\n  '省油',\n  '又',\n  '凉爽',\n  '，',\n  '一个',\n  '夏季',\n  '能省',\n  '不少',\n  '钱'],\n ['集体',\n  '建设',\n  '用地',\n  '建设',\n  '租赁',\n  '房',\n  '将',\n  '获',\n  '金融',\n  '支持',\n  '首批',\n  '4',\n  '家',\n  '银行',\n  '已',\n  '确定',\n  '融资',\n  '方案',\n  '贷款',\n  '期限'],\n ['37',\n  '岁',\n  '余文乐',\n  '升级',\n  '当爸',\n  '感谢',\n  '老婆',\n  '，',\n  '儿子',\n  '取名',\n  'Cody',\n  '，',\n  '小手',\n  '动作',\n  '亮',\n  '了',\n  '！'],\n ['清代',\n  '的',\n  '红衣',\n  '炮是',\n  '一种',\n  '什么样',\n  '的',\n  '武器',\n  '，',\n  '它',\n  '的',\n  '威力',\n  '如何',\n  '？'],\n ['调控',\n  '加码',\n  '！',\n  '东莞',\n  '新房',\n  '价格',\n  '一经',\n  '备案',\n  '不得',\n  '上调',\n  '（',\n  '内附',\n  '专家',\n  '解读',\n  '）'],\n ['香港',\n  '迪士尼',\n  '乐园',\n  '和',\n  '上海',\n  '迪士尼',\n  '乐园',\n  '，',\n  '你',\n  '觉得',\n  '哪个',\n  '更',\n  '好玩',\n  '？'],\n ['张三丰',\n  '：',\n  '三为',\n  '乾',\n  '，',\n  '中断',\n  '为',\n  '坤',\n  '即',\n  '是',\n  '为',\n  '丰',\n  '，',\n  '原来',\n  '张三丰',\n  '名字',\n  '是',\n  '这么',\n  '得来',\n  '的'],\n ['老字号', '“', '无人', '”', '试验', '的', '成功', '，', '在', '“', '有人', '”'],\n ['又',\n  '双',\n  '叒',\n  '退',\n  '群',\n  '了',\n  '！',\n  '特朗普',\n  '这一波',\n  '操作',\n  '把',\n  '小伙伴',\n  '们',\n  '都',\n  '惊',\n  '了'],\n ['刘国正',\n  '做客',\n  '央视',\n  '正面',\n  '回应',\n  '与',\n  '许昕',\n  '对',\n  '暂停',\n  '的',\n  '不同',\n  '理解',\n  '，',\n  '你',\n  '怎么',\n  '看待',\n  '此事',\n  '？'],\n ['他们',\n  '的',\n  '故事',\n  '平静',\n  '而',\n  '闪光',\n  '，',\n  '一代人',\n  '奠定',\n  '沉默',\n  '的',\n  '基石',\n  '，',\n  '让',\n  '中国',\n  '走向',\n  '繁荣'],\n ['美国',\n  '女孩',\n  '穿',\n  '旗袍',\n  '引',\n  '争议',\n  '，',\n  '不是',\n  '华人',\n  '就',\n  '不该',\n  '穿',\n  '旗袍',\n  '吗',\n  '？'],\n ['买不起',\n  '奥迪',\n  'Q7',\n  '就',\n  '买',\n  '它',\n  '，',\n  '比',\n  '普拉多',\n  '便宜',\n  '31',\n  '万',\n  '，',\n  '车长',\n  '5',\n  '米',\n  '比汉兰达',\n  '还要',\n  '大'],\n ['买',\n  '了',\n  '绝不',\n  '后悔',\n  '的',\n  '手动',\n  '面条机',\n  '，',\n  '轻松',\n  '省力',\n  '，',\n  '做',\n  '出来',\n  '的',\n  '面条',\n  '筋道',\n  '又',\n  '爽滑'],\n ['日本', '最好', '的', '脑袋', '在', '思考', '什么', '问题'],\n ['习近平',\n  '同',\n  '金正恩',\n  '举行',\n  '会晤',\n  '就',\n  '新',\n  '时代',\n  '中',\n  '朝',\n  '关系',\n  '达成',\n  '四方面',\n  '原则',\n  '共识'],\n ['投中', '信息', '2017', '年', '营收', '7579', '万元', '净赚', '1200', '万元'],\n ['斯巴鲁',\n  '新款',\n  'SUV',\n  '到来',\n  '，',\n  '仅',\n  '27',\n  '万配',\n  '四驱',\n  '，',\n  '比',\n  '宝马',\n  'X6',\n  '还',\n  '大',\n  '一圈',\n  '！'],\n ['富', '尔茨', '加考', '文顿', '换', '莱昂纳德', '，', '可行', '吗', '？'],\n ['Uber', '启动', '无人机', '送餐', '服务', '绝不', '超过', '30', '分钟'],\n ['泛', '娱乐', 'IPO', '迎', '井喷', '资本', '开始', '进入', '收割期'],\n ['如何', '避免', '植保', '工作', '中', '存在', '的', '农作物', '药害', '？'],\n ['下联', '：', '春浅', '柳疏', '疏', '，', '上联', '怎么', '对', '？'],\n ['好消息', '！', '北斗', '导航', '即将', '民用', '，', '比', 'GPS', '更', '强大', '！'],\n ['国象', '女子', '冠军', '对抗赛', '战罢', '4', '轮', '居文君', '暂时', '领先', '1', '分'],\n ['美国', '大型', '科技', '巨头', '游说', '能力', '提升', '加大', '数据安全', '立法', '难度'],\n ['李安',\n  '导演',\n  '都',\n  '偏爱',\n  '的',\n  '浙江',\n  '小',\n  '县城',\n  '，',\n  '露营',\n  '、',\n  '漂流',\n  '、',\n  '星空',\n  '…',\n  '…',\n  '自驾',\n  '1.5',\n  'h',\n  '即达'],\n ['女神',\n  '刘承羽',\n  '竟然',\n  '蹿红',\n  '了',\n  '，',\n  '她',\n  '到底',\n  '有',\n  '什么',\n  '魅力',\n  '吸引',\n  '着',\n  '粉丝',\n  '？',\n  '我来',\n  '告诉',\n  '你'],\n ['如果',\n  '以色列',\n  '空袭',\n  '伊朗核',\n  '设施',\n  '，',\n  '以色列',\n  '会',\n  '使用',\n  '的',\n  'F15',\n  '还是',\n  '更为',\n  '先进',\n  '的',\n  'F35',\n  '，',\n  '你',\n  '怎么',\n  '看'],\n ['江南', '水务', '：', '江阴市', '拟', '上调', '自来水', '水价', '对', '公司', '影响', '较大'],\n ['苦难',\n  '应该',\n  '被',\n  '铭记',\n  '，',\n  '更',\n  '应该',\n  '被',\n  '遗忘',\n  '—',\n  '—',\n  '纪念',\n  '汶川',\n  '地震',\n  '十周年'],\n ['最近',\n  '看到',\n  '挺多人',\n  '普通卡',\n  '改成',\n  '了',\n  '大王',\n  '卡',\n  '，',\n  '那么',\n  '大宝',\n  '卡能',\n  '改成',\n  '大王',\n  '卡',\n  '吗',\n  '？'],\n ['哪些', '网游', '作品', '可以', '称得上', '是', '“', '史诗', '级', '”', '的', '？'],\n ['房地产',\n  '翻倍',\n  '涨价',\n  '，',\n  '实体',\n  '经济',\n  '却',\n  '不好',\n  '做',\n  '，',\n  '你',\n  '怎么',\n  '看待',\n  '？'],\n ['五', '大道', '繁花似锦', '点缀', '最美', '津城'],\n ['柬埔寨', '房产', '值得', '投资', '吗', '？'],\n ['为什么', '宇航员', '还要', '带枪', '进', '太空', '，', '难道', '是', '为了', '打', '外星人', '？'],\n ['GD', '服兵役', '期间', '，', '著作权', '收入', '足有', '8', '亿韩元'],\n ['英雄',\n  '联盟',\n  '季中',\n  '冠军赛',\n  '-',\n  '力压',\n  'KZ',\n  '夺冠',\n  '？',\n  'RNG',\n  '能否',\n  '打脸',\n  '博彩',\n  '公司'],\n ['自己', '建个', '冷库', '作为', '创业', '怎么样', '？'],\n ['现在', '的', '酒', '多少', '是', '纯', '粮食', '酿造', '的', '？'],\n ['川乌', '与', '草乌', '的', '区别', '在', '哪儿', '？'],\n ['奚梦瑶', '难忘', '的', 'MetGala', '之旅'],\n ['特朗普', '前', '第一夫人', '和', '希拉里', '谁', '更胜一筹', '？'],\n ['鹿晗', '个人', '身价', '相当于', '一家', '怎样', '的', '公司', '？'],\n ['波兰', '医院', '需要', '排队', '吗', '？'],\n ['广西', '贵港', '适合', '种植', '红妃', '樱桃', '吗', '？'],\n ['王者', '荣耀', '：', 'kpl', '交际花', '，', '拖米', '已经', '确认', '订婚', '，', '祝', '幸福'],\n ['审判',\n  '日本',\n  '战犯',\n  '中国',\n  '证人',\n  '都',\n  '控诉',\n  '这些',\n  '日本',\n  '人',\n  '：',\n  '这些',\n  '日本',\n  '战犯',\n  '都',\n  '饿死',\n  '了'],\n ['今天',\n  '，',\n  '扬州市',\n  '1700',\n  '多人',\n  '争夺',\n  '611',\n  '个',\n  '职位',\n  '！',\n  '公务员',\n  '面试',\n  '考题',\n  '了解',\n  '下'],\n ['为什么',\n  '神盾',\n  '局',\n  '特工',\n  '有',\n  '毁灭',\n  '地球',\n  '的',\n  '人灭',\n  '霸',\n  '，',\n  '到',\n  '复仇者',\n  '联盟',\n  '里',\n  '地球',\n  '没有',\n  '被',\n  '摧毁',\n  '？'],\n ['河南',\n  '新密',\n  '的',\n  '雀',\n  '之灵',\n  '舞蹈',\n  '学校',\n  '，',\n  '都',\n  '参加',\n  '过',\n  '哪些',\n  '比较',\n  '重要',\n  '的',\n  '比赛',\n  '？'],\n ['雨季',\n  '到来',\n  '，',\n  '你种',\n  '的',\n  '百香果',\n  '还好',\n  '吗',\n  '？',\n  '（',\n  '附',\n  '雨季',\n  '管理',\n  '要点',\n  '）'],\n ['如果', '银行', '倒闭', '了', '，', '用户', '会', '得到', '赔偿', '吗', '？'],\n ['开', '贷款', '公司', '需要', '注意', '什么', '？'],\n ['求', '推荐', '十大', '豪车', '排名', '？'],\n ['未来',\n  '已来',\n  '，',\n  '我们',\n  '对',\n  '孩子',\n  '的',\n  '教育',\n  '也',\n  '应',\n  '时代',\n  '的',\n  '发展',\n  '而',\n  '改变',\n  '！'],\n ['有着',\n  '让',\n  '人',\n  '无法',\n  '抗拒',\n  '容貌',\n  '的',\n  '五位',\n  '女星',\n  '，',\n  '你',\n  '认为',\n  '谁',\n  '才',\n  '配',\n  '做',\n  '你',\n  '的',\n  '对象',\n  '？'],\n ['原著', '·', '东方', '境', '丨', '印象', '中国', '里', '的', '院子', '符号'],\n ['下周', '大盘', '进入', '主升', '行情'],\n ['小说',\n  '：',\n  '别人',\n  '修炼',\n  '是',\n  '成仙',\n  '，',\n  '他',\n  '修炼',\n  '到',\n  '最后',\n  '却',\n  '变成',\n  '了',\n  '一条龙',\n  '？'],\n ['骑士',\n  '128',\n  '：',\n  '93',\n  '大胜',\n  '猛龙',\n  '，',\n  '凯西',\n  '教练',\n  '表示',\n  '：',\n  '我',\n  '嫉妒',\n  '泰伦卢',\n  '！'],\n ['你',\n  '没见',\n  '过',\n  '的',\n  '稀有',\n  '老照片',\n  '，',\n  '希特勒',\n  '的',\n  '手势',\n  '似',\n  '“',\n  '魔鬼',\n  '的',\n  '召唤',\n  '”'],\n ['这些', '知识', '教给', '你', '，', '买', '拖拉机', '不', '被', '骗', '！'],\n ['除了', '情怀', '，', '崇州', '还有', '无数', '欢乐', '的', '段子'],\n ['巴黎', '周票', '在', '戴高乐', '机场', '能', '买', '到', '吗', '？'],\n ['美',\n  '高官',\n  '：',\n  '中国',\n  '不再',\n  '像',\n  '以前',\n  '那样',\n  '怕',\n  '我们',\n  '了',\n  '！',\n  '真是',\n  '一个',\n  '天大',\n  '的',\n  '笑话',\n  '！'],\n ['老',\n  '农民',\n  '：',\n  '马仁礼',\n  '看见',\n  '大胆',\n  '挑水',\n  '，',\n  '心疼',\n  '的',\n  '大',\n  '骂',\n  '作死',\n  '呀',\n  '，',\n  '赶紧',\n  '给',\n  '我',\n  '放下',\n  '！'],\n ['2018',\n  '年',\n  '，',\n  '300',\n  '平方米',\n  '宅基地',\n  '被',\n  '侵占',\n  '，',\n  '将会',\n  '补偿',\n  '多少',\n  '钱'],\n ['可悲',\n  '！',\n  '“',\n  '24',\n  '岁',\n  '”',\n  '国脚',\n  '一战',\n  '将',\n  '自己',\n  '踢',\n  '出',\n  '首发',\n  '，',\n  '鲁能',\n  '妖星',\n  '中超路',\n  '再',\n  '蒙',\n  '阴影'],\n ['以色列', '伊朗', '“', '对对碰', '”', '黄金市场', '“', '火花', '迸发', '”'],\n ['文科生', '和', '理科生', '的', '区别', '，', '你', '中招', '了', '吗', '…', '…', '…', '…'],\n ['亚冠',\n  '中国',\n  '德比',\n  '首场',\n  '打平',\n  '，',\n  '权健',\n  '和',\n  '恒大',\n  '谁',\n  '能',\n  '晋级',\n  '下',\n  '一轮',\n  '？'],\n ['中国', '城市', '两', '百强', '是', '哪些', '城市', '？'],\n ['阿斯', '：', '揭露', '俄', '兴奋剂', '事件', '记者', '被', '禁止', '入境', '报道', '世界杯'],\n ['借',\n  '美丽',\n  '风景',\n  '造',\n  '美丽',\n  '产业',\n  '—',\n  '—',\n  '井冈山市',\n  '柏露',\n  '乡坳',\n  '下',\n  '田园',\n  '综合体',\n  '发展',\n  '探究'],\n ['上联', '：', '暮鼓晨钟', '敲碎', '梦', '，', '如何', '对', '下联', '？'],\n ['一日游',\n  '，',\n  '济南',\n  '仲宫',\n  '镇',\n  '，',\n  '子房',\n  '山',\n  '旅游区',\n  '，',\n  '子房',\n  '山庄',\n  '的',\n  '景色'],\n ['在', '中国', '的', '历史', '上', '，', '你', '认为', '谁', '最', '伟大', '？'],\n ['珠海', '淇澳', '岛有', '哪些', '好玩', '的', '地方', '？'],\n ['炒房',\n  '泡沫',\n  '市场',\n  '以',\n  '湮灭',\n  '，',\n  '国家',\n  '给',\n  '了',\n  '他们',\n  '最稳',\n  '的',\n  '一波',\n  '电梯',\n  '！'],\n ['巴菲特', '终于', '有', '了', 'iPhone', '却说', '不敢', '用'],\n ['海口',\n  '有',\n  '高校',\n  '开设',\n  '电竞',\n  '专业',\n  '了',\n  '？',\n  '！',\n  '上课',\n  '可以',\n  '光明正大',\n  '打游戏',\n  '了',\n  '？'],\n ['什么', '电脑', '网络游戏', '好玩', '？'],\n ['快讯',\n  '！',\n  '厦门',\n  '拟于',\n  '6',\n  '月',\n  '1',\n  '日',\n  '拍卖',\n  '2',\n  '幅',\n  '商住',\n  '地',\n  '！',\n  '马銮湾',\n  '巨无霸',\n  '地块',\n  '出山',\n  '！'],\n ['楼市', '发展', '彻底', '定调', '！', '房产', '泡沫', '将', '不再', '存在', '！'],\n ['八旬',\n  '飞机',\n  '维修工',\n  '耗时',\n  '20',\n  '年造',\n  '迷你',\n  '电动车',\n  '时速',\n  '32',\n  '公里',\n  '欲',\n  '驾驶',\n  '环游',\n  '中国'],\n ['虎牙',\n  '直播',\n  '市值',\n  '超过',\n  '190',\n  '亿',\n  '！',\n  '欢聚',\n  '时代',\n  '成为',\n  '大赢家',\n  '，',\n  '李学凌',\n  '笑',\n  '了'],\n ['举目', '四海', '五州亲', '！', '怎么', '对', '？'],\n ['《', '光明', '勇士', '》', '酷炫', '时装', '首爆', '前所未有', '萌感来', '袭'],\n ['手机',\n  '的',\n  'nfc',\n  '功能',\n  '有',\n  '什么',\n  '用',\n  '，',\n  '为什么',\n  '这么',\n  '多人',\n  '看',\n  '手机',\n  '的',\n  '时候',\n  '都',\n  '提到',\n  '有没有',\n  'nfc',\n  '？'],\n ['司机',\n  '被',\n  '段子',\n  '坑惨',\n  '了',\n  '！',\n  '当',\n  '交警',\n  '面喝',\n  '半瓶',\n  '酒',\n  '被判',\n  '两个',\n  '月'],\n ['当年', '熊猫', '烧香', '病毒', '火到', '什么', '程度', '？'],\n ['实拍',\n  '：',\n  '上个世纪',\n  '90',\n  '年代',\n  '女',\n  '囚犯',\n  '的',\n  '生活',\n  '，',\n  '很多',\n  '人',\n  '精神',\n  '已经',\n  '崩溃',\n  '！'],\n ['有点',\n  '过',\n  '了',\n  '，',\n  '泰伦卢',\n  '不过',\n  '同情',\n  '了',\n  '下',\n  '范甘迪',\n  '，',\n  '球迷',\n  '却',\n  '这么',\n  '对',\n  '他',\n  '…',\n  '…'],\n ['21', '岁', '空姐', '遇难', '反出', '什么', '社会', '问题', '？'],\n ['流浪狗', '扰乱', '正常', '教学秩序', '，', '破坏', '学生', '们', '生活', '，', '该', '怎么办', '？'],\n ['杨过',\n  '等',\n  '了',\n  '十六年',\n  '，',\n  '他',\n  '真的',\n  '只是',\n  '在',\n  '等',\n  '小龙女',\n  '一人',\n  '？',\n  '其实',\n  '他',\n  '在',\n  '等',\n  '四个',\n  '人',\n  '！'],\n ['五月',\n  '街头',\n  '的',\n  '这种',\n  '黄',\n  '果子',\n  '被',\n  '称为',\n  '“',\n  '水果',\n  '之皇',\n  '”',\n  '，',\n  '是',\n  '润肺',\n  '止咳',\n  '的',\n  '好',\n  '东西'],\n ['武术',\n  '大师',\n  '教',\n  '如何',\n  '赤手空拳',\n  '夺',\n  '白刃',\n  '，',\n  '是',\n  '真的',\n  '吗',\n  '，',\n  '正能',\n  '做到',\n  '空手',\n  '夺刀',\n  '吗',\n  '？'],\n ['自',\n  '媒体',\n  '真的',\n  '很',\n  '赚钱',\n  '吗',\n  '？',\n  '巧妇',\n  '九妹',\n  '，',\n  '王小',\n  '、',\n  '型',\n  '男',\n  '…',\n  '…',\n  '你',\n  '觉得',\n  '呢',\n  '？'],\n ['咋', '了', '这', '是', '？', '字母', '哥称', '对', '苹果', '很', '失望', '要换', '三星'],\n ['经常',\n  '给',\n  '宝宝',\n  '用',\n  '的',\n  '这样',\n  '东西',\n  '容易',\n  '致癌',\n  '，',\n  '家里',\n  '有',\n  '的',\n  '赶紧',\n  '扔掉',\n  '吧',\n  '！'],\n ['王者',\n  '荣耀',\n  '：',\n  '当阿轲',\n  '和',\n  '宫本',\n  '相遇',\n  '！',\n  '韩',\n  '跑跑',\n  '：',\n  '反正',\n  '队友',\n  '都',\n  '低下',\n  '了',\n  '头',\n  '！'],\n ['外星人', '电脑', '适合', '玩游戏', '吗', '？'],\n ['人', '为什么', '不能', '永生', '，', '为什么', '要死', '？'],\n ['当妈', '是', '隐形', '的', '贫困', '？', '哼', '，', '炫富', '！'],\n ['目前', '分析', '哲学', '的', '前沿', '研究', '内容', '是', '什么', '？'],\n ['现在', '买房子', '真的', '好', '么', '？'],\n ['连',\n  '交警',\n  '觉得',\n  '“',\n  '冤',\n  '”',\n  '的',\n  '4',\n  '种',\n  '违章',\n  '，',\n  '老',\n  '司机',\n  '都',\n  '容易',\n  '中招',\n  '！'],\n ['中国', '在', '日本', '常住人口', '接近', '70', '万'],\n ['海南', '的', '生态环境', '如何', '？'],\n ['五大', '联赛', '从未', '降级', '的', '球队', '了解', '一下', '！'],\n ['朴槿惠', '总统', '结审', '现场', '发生', '了', '什么', '？'],\n ['如果', '有', '一天', '你', '突然', '还', '不', '上', '房贷', '了', '该', '怎么办', '？'],\n ['这里', '曾经', '是', '中国', '战略要地', '，', '现在', '却', '快要', '消失', '了'],\n ['葵花宝典', '来自', '于', '古墓派', '？'],\n ['一句',\n  '话',\n  '楼市',\n  '：',\n  '天河',\n  '积分',\n  '入学',\n  '公办',\n  '学位',\n  '逾',\n  '800',\n  '个',\n  '3500',\n  '个',\n  '来',\n  '穗',\n  '家庭',\n  '申请'],\n ['方便面',\n  '是',\n  '日本',\n  '人',\n  '发明',\n  '的',\n  '还是',\n  '中国',\n  '人',\n  '？',\n  '到底',\n  '有没有',\n  '营养',\n  '，',\n  '被',\n  '骗',\n  '了',\n  '这么久'],\n ['休闲', '农业', '面临', '“', '优胜劣汰', '”', '，', '如何', '稳操胜券', '？'],\n ['粥', '里', '是', '放', '碱面', '好', '，', '还是', '放', '小苏打', '好', '？'],\n ['去', '台湾', '旅游', '能', '不能', '使用', '人民币', '？'],\n ['对于', '英雄', '联盟', '主播', '笑笑', '离婚', '，', '你', '怎么', '看', '？'],\n ['用爱', '、', '理想', '、', '奉献', '谱', '就', '青', '春之歌'],\n ['上联', '：', '泰山', '黄山', '赵本山', '，', '如何', '对', '下联', '？'],\n ['他们', '领着', '孩子', '，', '来到', '6', '年前', '曾经', '去过', '的', '海域', '纪念'],\n ...]"
     },
     "execution_count": 38,
     "metadata": {},
     "output_type": "execute_result"
    }
   ],
   "source": [
    "sentences"
   ],
   "metadata": {
    "collapsed": false,
    "pycharm": {
     "name": "#%%\n"
    }
   }
  },
  {
   "cell_type": "markdown",
   "metadata": {},
   "source": [
    "## func: reduce(func, list, [init])"
   ]
  },
  {
   "cell_type": "code",
   "execution_count": 39,
   "metadata": {},
   "outputs": [],
   "source": [
    "all_words = reduce(lambda a, b: a + b, sentences)"
   ]
  },
  {
   "cell_type": "code",
   "execution_count": 40,
   "metadata": {},
   "outputs": [],
   "source": [
    "words_count = Counter(all_words)"
   ]
  },
  {
   "cell_type": "code",
   "execution_count": 41,
   "metadata": {
    "collapsed": true
   },
   "outputs": [
    {
     "data": {
      "text/plain": "[34665,\n 23205,\n 21634,\n 9332,\n 7684,\n 6694,\n 5824,\n 5551,\n 5471,\n 4839,\n 4042,\n 3987,\n 3686,\n 3059,\n 2930,\n 2790,\n 2679,\n 2481,\n 2447,\n 2260,\n 2175,\n 2137,\n 2130,\n 2127,\n 2125,\n 1840,\n 1769,\n 1757,\n 1755,\n 1698,\n 1601,\n 1477,\n 1457,\n 1441,\n 1440,\n 1415,\n 1399,\n 1291,\n 1272,\n 1271,\n 1267,\n 1256,\n 1255,\n 1251,\n 1234,\n 1232,\n 1184,\n 1180,\n 1173,\n 1064,\n 1060,\n 1005,\n 996,\n 988,\n 981,\n 981,\n 980,\n 972,\n 969,\n 928,\n 926,\n 924,\n 913,\n 906,\n 885,\n 871,\n 863,\n 852,\n 847,\n 844,\n 838,\n 819,\n 818,\n 813,\n 810,\n 808,\n 807,\n 789,\n 780,\n 775,\n 739,\n 731,\n 725,\n 720,\n 717,\n 711,\n 710,\n 695,\n 686,\n 672,\n 660,\n 659,\n 645,\n 641,\n 630,\n 630,\n 628,\n 628,\n 623,\n 621,\n 613,\n 610,\n 610,\n 606,\n 596,\n 592,\n 581,\n 580,\n 580,\n 575,\n 567,\n 565,\n 564,\n 564,\n 561,\n 551,\n 542,\n 538,\n 535,\n 523,\n 521,\n 516,\n 492,\n 485,\n 481,\n 480,\n 472,\n 471,\n 471,\n 471,\n 466,\n 464,\n 464,\n 463,\n 463,\n 459,\n 457,\n 456,\n 447,\n 441,\n 441,\n 436,\n 436,\n 434,\n 431,\n 430,\n 417,\n 417,\n 416,\n 416,\n 415,\n 414,\n 414,\n 409,\n 406,\n 406,\n 403,\n 401,\n 396,\n 387,\n 385,\n 384,\n 382,\n 375,\n 374,\n 371,\n 366,\n 365,\n 363,\n 362,\n 360,\n 357,\n 355,\n 348,\n 345,\n 342,\n 339,\n 339,\n 339,\n 337,\n 335,\n 332,\n 329,\n 328,\n 328,\n 327,\n 324,\n 323,\n 323,\n 319,\n 318,\n 316,\n 315,\n 310,\n 308,\n 306,\n 305,\n 305,\n 305,\n 304,\n 301,\n 300,\n 300,\n 300,\n 299,\n 297,\n 296,\n 296,\n 293,\n 291,\n 291,\n 290,\n 290,\n 290,\n 289,\n 288,\n 286,\n 285,\n 285,\n 285,\n 285,\n 283,\n 282,\n 282,\n 281,\n 280,\n 280,\n 279,\n 279,\n 278,\n 277,\n 276,\n 274,\n 274,\n 268,\n 266,\n 265,\n 264,\n 263,\n 262,\n 262,\n 261,\n 261,\n 261,\n 260,\n 260,\n 259,\n 258,\n 258,\n 257,\n 255,\n 252,\n 252,\n 252,\n 251,\n 251,\n 251,\n 250,\n 249,\n 249,\n 248,\n 247,\n 246,\n 246,\n 245,\n 241,\n 241,\n 241,\n 241,\n 240,\n 239,\n 238,\n 238,\n 237,\n 234,\n 228,\n 227,\n 227,\n 226,\n 225,\n 225,\n 225,\n 225,\n 224,\n 223,\n 223,\n 222,\n 221,\n 221,\n 221,\n 221,\n 219,\n 218,\n 213,\n 213,\n 213,\n 213,\n 213,\n 211,\n 211,\n 211,\n 209,\n 209,\n 208,\n 208,\n 207,\n 207,\n 206,\n 206,\n 206,\n 205,\n 204,\n 204,\n 203,\n 203,\n 202,\n 202,\n 202,\n 201,\n 201,\n 201,\n 200,\n 200,\n 200,\n 199,\n 198,\n 198,\n 198,\n 197,\n 196,\n 195,\n 195,\n 195,\n 194,\n 194,\n 193,\n 193,\n 193,\n 193,\n 192,\n 192,\n 192,\n 189,\n 189,\n 189,\n 189,\n 188,\n 188,\n 188,\n 187,\n 186,\n 186,\n 186,\n 186,\n 185,\n 185,\n 185,\n 184,\n 183,\n 183,\n 182,\n 182,\n 181,\n 181,\n 181,\n 180,\n 180,\n 180,\n 180,\n 180,\n 180,\n 179,\n 178,\n 178,\n 178,\n 178,\n 178,\n 177,\n 177,\n 177,\n 177,\n 177,\n 176,\n 176,\n 176,\n 176,\n 175,\n 175,\n 175,\n 175,\n 174,\n 174,\n 174,\n 173,\n 173,\n 173,\n 173,\n 173,\n 172,\n 172,\n 172,\n 172,\n 171,\n 171,\n 170,\n 170,\n 170,\n 169,\n 169,\n 169,\n 168,\n 168,\n 168,\n 168,\n 168,\n 167,\n 167,\n 166,\n 166,\n 166,\n 165,\n 165,\n 164,\n 164,\n 164,\n 164,\n 164,\n 164,\n 163,\n 163,\n 163,\n 162,\n 162,\n 162,\n 162,\n 162,\n 162,\n 161,\n 161,\n 161,\n 160,\n 159,\n 159,\n 159,\n 159,\n 159,\n 159,\n 158,\n 158,\n 158,\n 158,\n 158,\n 157,\n 157,\n 157,\n 156,\n 156,\n 156,\n 156,\n 155,\n 155,\n 155,\n 155,\n 154,\n 154,\n 154,\n 154,\n 154,\n 154,\n 153,\n 153,\n 153,\n 152,\n 152,\n 152,\n 152,\n 151,\n 151,\n 151,\n 150,\n 149,\n 149,\n 148,\n 148,\n 148,\n 148,\n 147,\n 147,\n 147,\n 147,\n 147,\n 146,\n 145,\n 145,\n 144,\n 144,\n 144,\n 144,\n 144,\n 143,\n 143,\n 142,\n 142,\n 142,\n 142,\n 141,\n 141,\n 141,\n 141,\n 140,\n 140,\n 140,\n 139,\n 139,\n 139,\n 139,\n 139,\n 139,\n 138,\n 138,\n 138,\n 137,\n 136,\n 136,\n 136,\n 135,\n 135,\n 135,\n 134,\n 134,\n 134,\n 133,\n 133,\n 133,\n 133,\n 132,\n 132,\n 132,\n 132,\n 132,\n 131,\n 131,\n 131,\n 131,\n 131,\n 130,\n 130,\n 130,\n 130,\n 130,\n 129,\n 129,\n 128,\n 128,\n 128,\n 127,\n 127,\n 127,\n 127,\n 126,\n 126,\n 125,\n 125,\n 125,\n 125,\n 124,\n 124,\n 124,\n 124,\n 124,\n 124,\n 124,\n 124,\n 124,\n 123,\n 123,\n 123,\n 123,\n 122,\n 122,\n 122,\n 122,\n 122,\n 122,\n 122,\n 122,\n 122,\n 121,\n 121,\n 121,\n 121,\n 121,\n 121,\n 121,\n 120,\n 120,\n 120,\n 120,\n 120,\n 120,\n 120,\n 119,\n 119,\n 119,\n 119,\n 119,\n 118,\n 118,\n 118,\n 118,\n 118,\n 118,\n 117,\n 117,\n 117,\n 117,\n 117,\n 116,\n 116,\n 116,\n 116,\n 116,\n 115,\n 115,\n 115,\n 115,\n 114,\n 114,\n 114,\n 114,\n 113,\n 113,\n 113,\n 113,\n 113,\n 113,\n 113,\n 113,\n 113,\n 113,\n 112,\n 112,\n 112,\n 112,\n 112,\n 112,\n 111,\n 111,\n 111,\n 111,\n 111,\n 111,\n 111,\n 111,\n 110,\n 110,\n 110,\n 110,\n 109,\n 109,\n 109,\n 109,\n 109,\n 109,\n 109,\n 109,\n 108,\n 108,\n 108,\n 108,\n 108,\n 108,\n 108,\n 108,\n 108,\n 107,\n 107,\n 107,\n 107,\n 107,\n 106,\n 106,\n 106,\n 106,\n 106,\n 106,\n 106,\n 106,\n 106,\n 106,\n 106,\n 106,\n 106,\n 105,\n 105,\n 105,\n 105,\n 105,\n 105,\n 105,\n 105,\n 104,\n 104,\n 104,\n 104,\n 104,\n 104,\n 104,\n 104,\n 104,\n 103,\n 103,\n 103,\n 103,\n 103,\n 103,\n 103,\n 103,\n 103,\n 103,\n 102,\n 102,\n 102,\n 102,\n 102,\n 102,\n 101,\n 101,\n 101,\n 101,\n 101,\n 101,\n 101,\n 101,\n 100,\n 100,\n 100,\n 100,\n 100,\n 100,\n 99,\n 99,\n 99,\n 99,\n 99,\n 99,\n 99,\n 99,\n 99,\n 98,\n 98,\n 98,\n 98,\n 98,\n 98,\n 98,\n 98,\n 98,\n 98,\n 98,\n 97,\n 97,\n 97,\n 97,\n 97,\n 97,\n 97,\n 97,\n 96,\n 96,\n 96,\n 96,\n 96,\n 96,\n 96,\n 96,\n 96,\n 96,\n 95,\n 95,\n 95,\n 95,\n 95,\n 95,\n 94,\n 94,\n 94,\n 94,\n 94,\n 94,\n 94,\n 94,\n 94,\n 94,\n 94,\n 94,\n 94,\n 94,\n 93,\n 93,\n 93,\n 93,\n 93,\n 93,\n 93,\n 93,\n 93,\n 93,\n 93,\n 93,\n 92,\n 92,\n 92,\n 92,\n 92,\n 92,\n 92,\n 92,\n 92,\n 92,\n 91,\n 91,\n 91,\n 91,\n 91,\n 91,\n 91,\n 91,\n 91,\n 91,\n 90,\n 90,\n 90,\n 90,\n 90,\n 90,\n 90,\n 90,\n 90,\n 90,\n 89,\n 89,\n 89,\n 89,\n 89,\n 89,\n 89,\n 89,\n 89,\n 89,\n 89,\n 89,\n 88,\n 88,\n 88,\n 88,\n 88,\n 88,\n 88,\n 88,\n 88,\n 88,\n 88,\n 88,\n 88,\n 88,\n 88,\n 88,\n 88,\n 88,\n 87,\n 87,\n 87,\n 87,\n 87,\n 87,\n 86,\n 86,\n 86,\n 86,\n 86,\n 86,\n 86,\n 86,\n 86,\n 85,\n 85,\n 85,\n 85,\n 85,\n 85,\n 85,\n 85,\n 85,\n 85,\n 85,\n 85,\n 85,\n 85,\n 84,\n 84,\n 84,\n 84,\n 84,\n 84,\n 84,\n 83,\n 83,\n 83,\n 83,\n 83,\n 83,\n 83,\n 83,\n 83,\n 83,\n 83,\n 82,\n 82,\n 82,\n 82,\n 82,\n 82,\n 82,\n 82,\n 82,\n 82,\n 81,\n 81,\n 81,\n 81,\n 81,\n 81,\n 81,\n 81,\n 81,\n 81,\n 81,\n 81,\n 81,\n 81,\n 81,\n 81,\n 81,\n 81,\n 80,\n 80,\n 80,\n 80,\n 80,\n 80,\n 80,\n 80,\n 80,\n 80,\n 80,\n 80,\n 79,\n 79,\n 79,\n 79,\n 79,\n 79,\n 79,\n 79,\n 79,\n 79,\n 79,\n 79,\n 79,\n 79,\n 79,\n 79,\n 79,\n 79,\n 78,\n 78,\n 78,\n 78,\n 78,\n 78,\n 78,\n 78,\n 78,\n 78,\n 78,\n 78,\n 78,\n 78,\n 78,\n 78,\n 78,\n 78,\n 78,\n 77,\n 77,\n 77,\n 77,\n 77,\n 77,\n ...]"
     },
     "execution_count": 41,
     "metadata": {},
     "output_type": "execute_result"
    }
   ],
   "source": [
    "sorted(words_count.values(), reverse=True)"
   ]
  },
  {
   "cell_type": "code",
   "execution_count": 42,
   "metadata": {},
   "outputs": [
    {
     "data": {
      "text/plain": "[('，', 34665),\n ('？', 23205),\n ('的', 21634),\n ('！', 9332),\n ('：', 7684),\n ('了', 6694),\n ('是', 5824),\n ('“', 5551),\n ('”', 5471),\n ('你', 4839),\n ('有', 4042),\n ('在', 3987),\n ('吗', 3686),\n ('什么', 3059),\n ('中国', 2930),\n ('为什么', 2790),\n ('如何', 2679),\n ('都', 2481),\n ('和', 2447),\n ('人', 2260),\n ('怎么', 2175),\n ('《', 2137),\n ('被', 2130),\n ('不', 2127),\n ('》', 2125),\n ('、', 1840),\n ('会', 1769),\n ('对', 1757),\n ('我', 1755),\n ('美国', 1698),\n ('年', 1601),\n ('上', 1477),\n ('—', 1457),\n ('看', 1441),\n ('最', 1440),\n ('能', 1415),\n ('这', 1399),\n ('一个', 1291),\n ('要', 1272),\n ('好', 1271),\n ('还', 1267),\n ('就', 1256),\n ('将', 1255),\n ('后', 1251),\n ('与', 1234),\n ('大', 1232),\n ('中', 1184),\n ('让', 1180),\n ('哪些', 1173),\n ('5', 1064),\n ('他', 1060),\n ('世界', 1005),\n ('却', 996),\n ('去', 988),\n ('新', 981),\n ('到', 981),\n ('月', 980),\n ('2018', 972),\n ('谁', 969),\n ('可以', 928),\n ('多', 926),\n ('说', 924),\n ('也', 913),\n ('又', 906),\n ('上联', 885),\n ('个', 871),\n ('来', 863),\n ('网友', 852),\n ('如果', 847),\n ('手机', 844),\n ('下联', 838),\n ('日本', 819),\n ('做', 818),\n ('用', 813),\n ('没有', 810),\n ('还是', 808),\n ('万', 807),\n ('现在', 789),\n ('为', 780),\n ('农村', 775),\n ('为何', 739),\n ('买', 731),\n ('…', 725),\n ('「', 720),\n ('」', 717),\n ('给', 711),\n ('这个', 710),\n ('3', 695),\n ('把', 686),\n ('岁', 672),\n ('-', 660),\n ('怎样', 659),\n ('呢', 645),\n ('多少', 641),\n ('一', 630),\n ('｜', 630),\n ('10', 628),\n ('（', 628),\n ('很', 623),\n ('）', 621),\n ('国家', 613),\n ('到底', 610),\n ('哪个', 610),\n ('知道', 606),\n ('更', 596),\n ('她', 592),\n ('俄罗斯', 581),\n ('4', 580),\n ('真的', 580),\n ('想', 575),\n ('日', 567),\n ('游戏', 565),\n ('我们', 564),\n ('小', 564),\n ('过', 561),\n ('下', 551),\n ('自己', 542),\n ('里', 538),\n ('这些', 535),\n ('2', 523),\n ('怎么样', 521),\n ('钱', 516),\n ('从', 492),\n ('城市', 485),\n ('未来', 481),\n ('这么', 480),\n ('1', 472),\n ('亿', 471),\n ('王者', 471),\n ('成为', 471),\n ('公司', 466),\n ('没', 464),\n ('汽车', 464),\n ('孩子', 463),\n ('发展', 463),\n ('吃', 459),\n ('打', 457),\n ('车', 456),\n ('8', 447),\n ('看待', 441),\n ('荣耀', 441),\n ('伊朗', 436),\n ('再', 436),\n ('活动', 434),\n ('该', 431),\n ('6', 430),\n ('以色列', 417),\n ('比', 417),\n ('高', 416),\n ('旅游', 416),\n ('着', 415),\n ('这样', 414),\n ('出', 414),\n ('才', 409),\n ('第一', 406),\n ('时', 406),\n ('那么', 403),\n ('不是', 401),\n ('全球', 396),\n ('前', 387),\n ('美', 385),\n ('市场', 384),\n ('之', 382),\n ('企业', 375),\n ('英雄', 374),\n ('20', 371),\n ('生活', 366),\n ('或', 365),\n ('还有', 363),\n ('投资', 362),\n ('只', 360),\n ('特朗普', 357),\n ('·', 355),\n ('就是', 348),\n ('小米', 345),\n ('不能', 342),\n ('哪', 339),\n ('需要', 339),\n ('而', 339),\n ('印度', 337),\n ('技术', 335),\n ('评价', 332),\n ('7', 329),\n ('等', 328),\n ('选择', 328),\n ('+', 327),\n ('科技', 324),\n ('链', 323),\n ('教育', 323),\n ('已', 319),\n ('他们', 318),\n ('它', 316),\n ('可能', 315),\n ('喜欢', 310),\n ('北京', 308),\n ('当', 306),\n ('区块', 305),\n ('国际', 305),\n ('上市', 305),\n ('马云', 304),\n ('联想', 301),\n ('但', 300),\n ('玩', 300),\n ('成', 300),\n ('吧', 299),\n ('房子', 297),\n ('学生', 296),\n ('行业', 296),\n ('创业', 293),\n ('哪里', 291),\n ('元', 291),\n ('协议', 290),\n ('开', 290),\n ('品牌', 290),\n ('走', 289),\n ('9', 288),\n ('怎么办', 286),\n ('房价', 285),\n ('地方', 285),\n ('影响', 285),\n ('带', 285),\n ('得', 283),\n ('最后', 282),\n ('不会', 282),\n ('们', 281),\n ('原因', 280),\n ('成功', 280),\n ('最大', 279),\n ('太', 279),\n ('即将', 278),\n ('是否', 277),\n ('价格', 276),\n ('老师', 274),\n ('腾讯', 274),\n ('经济', 268),\n ('可', 266),\n ('应该', 265),\n ('卖', 264),\n ('看看', 263),\n ('比较', 262),\n ('叙利亚', 262),\n ('时候', 261),\n ('银行', 261),\n ('大家', 261),\n ('拿', 260),\n ('十年', 260),\n ('问题', 259),\n ('故事', 258),\n ('值得', 258),\n ('微信', 257),\n ('时代', 255),\n ('全国', 252),\n ('历史', 252),\n ('项目', 252),\n ('开始', 251),\n ('工作', 251),\n ('华为', 251),\n ('已经', 250),\n ('上海', 249),\n ('文化', 249),\n ('老', 248),\n ('你们', 247),\n ('万元', 246),\n ('推荐', 246),\n ('。', 245),\n ('买房', 241),\n ('联盟', 241),\n ('普京', 241),\n ('很多', 241),\n ('求生', 240),\n ('绝地', 239),\n ('退出', 238),\n ('韩国', 238),\n ('升级', 237),\n ('跑', 234),\n ('火箭', 228),\n ('苹果', 227),\n ('发布', 227),\n ('只有', 226),\n ('号', 225),\n ('向', 225),\n ('出现', 225),\n ('厉害', 225),\n ('今年', 224),\n ('比赛', 223),\n ('什么样', 223),\n ('国内', 222),\n ('平台', 221),\n ('跟', 221),\n ('30', 221),\n ('最好', 221),\n ('分', 219),\n ('12', 218),\n ('快', 213),\n ('币', 213),\n ('体验', 213),\n ('汶川', 213),\n ('家', 213),\n ('适合', 211),\n ('出席', 211)]"
     },
     "execution_count": 42,
     "metadata": {},
     "output_type": "execute_result"
    }
   ],
   "source": [
    "sorted(words_count.items(), key=lambda kv: kv[1], reverse=True)[:300]"
   ]
  },
  {
   "cell_type": "code",
   "execution_count": 43,
   "metadata": {},
   "outputs": [],
   "source": [
    "stopwords = [w for w, _ in sorted(words_count.items(), key=lambda kv: kv[1], reverse=True)[:300]]"
   ]
  },
  {
   "cell_type": "code",
   "execution_count": 45,
   "metadata": {},
   "outputs": [],
   "source": [
    "with open('./stopwords.txt', 'w') as f:\n",
    "    for w in stopwords:\n",
    "        f.write(w + '\\n')"
   ]
  },
  {
   "cell_type": "code",
   "execution_count": 46,
   "metadata": {},
   "outputs": [
    {
     "data": {
      "text/plain": "[<matplotlib.lines.Line2D at 0x7fbbba8de410>]"
     },
     "execution_count": 46,
     "metadata": {},
     "output_type": "execute_result"
    },
    {
     "data": {
      "text/plain": "<Figure size 432x288 with 1 Axes>",
      "image/png": "[encoded data removed]"
     },
     "metadata": {
      "needs_background": "light"
     },
     "output_type": "display_data"
    }
   ],
   "source": [
    "plt.plot(list(map(lambda n: np.log(n), sorted(words_count.values(), reverse=True)[300:8000])))"
   ]
  },
  {
   "cell_type": "code",
   "execution_count": null,
   "outputs": [],
   "source": [],
   "metadata": {
    "collapsed": false,
    "pycharm": {
     "name": "#%%\n"
    }
   }
  }
 ],
 "metadata": {
  "kernelspec": {
   "display_name": "Python 3",
   "language": "python",
   "name": "python3"
  },
  "language_info": {
   "codemirror_mode": {
    "name": "ipython",
    "version": 3
   },
   "file_extension": ".py",
   "mimetype": "text/x-python",
   "name": "python",
   "nbconvert_exporter": "python",
   "pygments_lexer": "ipython3",
   "version": "3.7.3"
  }
 },
 "nbformat": 4,
 "nbformat_minor": 2
}